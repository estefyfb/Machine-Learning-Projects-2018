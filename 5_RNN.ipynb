{
  "nbformat": 4,
  "nbformat_minor": 0,
  "metadata": {
    "colab": {
      "name": "LAB7 RNN.ipynb",
      "version": "0.3.2",
      "provenance": [],
      "collapsed_sections": [],
      "toc_visible": true
    },
    "kernelspec": {
      "name": "python3",
      "display_name": "Python 3"
    },
    "accelerator": "GPU"
  },
  "cells": [
    {
      "metadata": {
        "id": "Ji8mOhd8QxKe",
        "colab_type": "text"
      },
      "cell_type": "markdown",
      "source": [
        "# **Lab7 RNN**"
      ]
    },
    {
      "metadata": {
        "id": "Ivt60XSEz9KF",
        "colab_type": "text"
      },
      "cell_type": "markdown",
      "source": [
        "Group Members: Christina DeSantiago, Estefy Fiallos, Kaiying Li, Tianyu Li"
      ]
    },
    {
      "metadata": {
        "id": "jzI27TkKzWiu",
        "colab_type": "text"
      },
      "cell_type": "markdown",
      "source": [
        "# Data Selection"
      ]
    },
    {
      "metadata": {
        "id": "2NLyurZOzO1V",
        "colab_type": "text"
      },
      "cell_type": "markdown",
      "source": [
        "**In this lab, you will select a prediction task to perform on your dataset, evaluate a recurrent architecture and tune hyper-parameters. If any part of the assignment is not clear, ask the instructor to clarify. Select a dataset similarly to lab one:text. That is, the dataset should be text data (or a time series sequence). In terms of generalization performance, it is helpful to have a large dataset of similar sized text documents. It is fine to perform binary classification or multi-class classification. The classification can be \"many-to-one\" or \"many-to-many\" sequence classification, whichever you feel more comfortable with. **"
      ]
    },
    {
      "metadata": {
        "id": "cDG8-vrA67Yq",
        "colab_type": "text"
      },
      "cell_type": "markdown",
      "source": [
        "For this lab, we used the Twitter U.S. Airline Sentiment dataset. The data consists of tweets from February 2015 about 6 major U.S. airlines. The data is classified into positive, negative, and neutral tweets. There are 9178 negative tweets, 3099 neutral tweets and 2363 positive tweets in this dataset."
      ]
    },
    {
      "metadata": {
        "id": "ydFzErA9zfAd",
        "colab_type": "text"
      },
      "cell_type": "markdown",
      "source": [
        "# Preparation (30 points total)"
      ]
    },
    {
      "metadata": {
        "id": "dBUf59Pkzikl",
        "colab_type": "text"
      },
      "cell_type": "markdown",
      "source": [
        "**[10 points] Define and prepare your class variables. Use proper variable representations (int, float, one-hot, etc.). Use pre-processing methods (as needed). Describe the final dataset that is used for classification/regression (include a description of any newly formed variables you created). Discuss methods of tokenization in your dataset as well as any decisions to force a specific length of sequence.  **"
      ]
    },
    {
      "metadata": {
        "id": "6tt2Ke96_z_5",
        "colab_type": "code",
        "colab": {}
      },
      "cell_type": "code",
      "source": [
        "#import data set\n",
        "import pandas as pd\n",
        "df=pd.read_csv(\"https://raw.githubusercontent.com/skytianyuli/MLPython/master/Tweets.csv\", sep=\",\")"
      ],
      "execution_count": 0,
      "outputs": []
    },
    {
      "metadata": {
        "id": "toMhIcmFACRD",
        "colab_type": "code",
        "outputId": "70b2cfcf-0192-4895-c561-eaca47909f13",
        "colab": {
          "base_uri": "https://localhost:8080/",
          "height": 34
        }
      },
      "cell_type": "code",
      "source": [
        "df.shape"
      ],
      "execution_count": 0,
      "outputs": [
        {
          "output_type": "execute_result",
          "data": {
            "text/plain": [
              "(14640, 15)"
            ]
          },
          "metadata": {
            "tags": []
          },
          "execution_count": 56
        }
      ]
    },
    {
      "metadata": {
        "id": "3aJXhxCOCdOU",
        "colab_type": "code",
        "outputId": "68893140-ed97-4414-aac5-d6fa9c5511ec",
        "colab": {
          "base_uri": "https://localhost:8080/",
          "height": 445
        }
      },
      "cell_type": "code",
      "source": [
        "df.head()"
      ],
      "execution_count": 0,
      "outputs": [
        {
          "output_type": "execute_result",
          "data": {
            "text/html": [
              "<div>\n",
              "<style scoped>\n",
              "    .dataframe tbody tr th:only-of-type {\n",
              "        vertical-align: middle;\n",
              "    }\n",
              "\n",
              "    .dataframe tbody tr th {\n",
              "        vertical-align: top;\n",
              "    }\n",
              "\n",
              "    .dataframe thead th {\n",
              "        text-align: right;\n",
              "    }\n",
              "</style>\n",
              "<table border=\"1\" class=\"dataframe\">\n",
              "  <thead>\n",
              "    <tr style=\"text-align: right;\">\n",
              "      <th></th>\n",
              "      <th>tweet_id</th>\n",
              "      <th>airline_sentiment</th>\n",
              "      <th>airline_sentiment_confidence</th>\n",
              "      <th>negativereason</th>\n",
              "      <th>negativereason_confidence</th>\n",
              "      <th>airline</th>\n",
              "      <th>airline_sentiment_gold</th>\n",
              "      <th>name</th>\n",
              "      <th>negativereason_gold</th>\n",
              "      <th>retweet_count</th>\n",
              "      <th>text</th>\n",
              "      <th>tweet_coord</th>\n",
              "      <th>tweet_created</th>\n",
              "      <th>tweet_location</th>\n",
              "      <th>user_timezone</th>\n",
              "    </tr>\n",
              "  </thead>\n",
              "  <tbody>\n",
              "    <tr>\n",
              "      <th>0</th>\n",
              "      <td>570306133677760513</td>\n",
              "      <td>neutral</td>\n",
              "      <td>1.0000</td>\n",
              "      <td>NaN</td>\n",
              "      <td>NaN</td>\n",
              "      <td>Virgin America</td>\n",
              "      <td>NaN</td>\n",
              "      <td>cairdin</td>\n",
              "      <td>NaN</td>\n",
              "      <td>0</td>\n",
              "      <td>@VirginAmerica What @dhepburn said.</td>\n",
              "      <td>NaN</td>\n",
              "      <td>2015-02-24 11:35:52 -0800</td>\n",
              "      <td>NaN</td>\n",
              "      <td>Eastern Time (US &amp; Canada)</td>\n",
              "    </tr>\n",
              "    <tr>\n",
              "      <th>1</th>\n",
              "      <td>570301130888122368</td>\n",
              "      <td>positive</td>\n",
              "      <td>0.3486</td>\n",
              "      <td>NaN</td>\n",
              "      <td>0.0000</td>\n",
              "      <td>Virgin America</td>\n",
              "      <td>NaN</td>\n",
              "      <td>jnardino</td>\n",
              "      <td>NaN</td>\n",
              "      <td>0</td>\n",
              "      <td>@VirginAmerica plus you've added commercials t...</td>\n",
              "      <td>NaN</td>\n",
              "      <td>2015-02-24 11:15:59 -0800</td>\n",
              "      <td>NaN</td>\n",
              "      <td>Pacific Time (US &amp; Canada)</td>\n",
              "    </tr>\n",
              "    <tr>\n",
              "      <th>2</th>\n",
              "      <td>570301083672813571</td>\n",
              "      <td>neutral</td>\n",
              "      <td>0.6837</td>\n",
              "      <td>NaN</td>\n",
              "      <td>NaN</td>\n",
              "      <td>Virgin America</td>\n",
              "      <td>NaN</td>\n",
              "      <td>yvonnalynn</td>\n",
              "      <td>NaN</td>\n",
              "      <td>0</td>\n",
              "      <td>@VirginAmerica I didn't today... Must mean I n...</td>\n",
              "      <td>NaN</td>\n",
              "      <td>2015-02-24 11:15:48 -0800</td>\n",
              "      <td>Lets Play</td>\n",
              "      <td>Central Time (US &amp; Canada)</td>\n",
              "    </tr>\n",
              "    <tr>\n",
              "      <th>3</th>\n",
              "      <td>570301031407624196</td>\n",
              "      <td>negative</td>\n",
              "      <td>1.0000</td>\n",
              "      <td>Bad Flight</td>\n",
              "      <td>0.7033</td>\n",
              "      <td>Virgin America</td>\n",
              "      <td>NaN</td>\n",
              "      <td>jnardino</td>\n",
              "      <td>NaN</td>\n",
              "      <td>0</td>\n",
              "      <td>@VirginAmerica it's really aggressive to blast...</td>\n",
              "      <td>NaN</td>\n",
              "      <td>2015-02-24 11:15:36 -0800</td>\n",
              "      <td>NaN</td>\n",
              "      <td>Pacific Time (US &amp; Canada)</td>\n",
              "    </tr>\n",
              "    <tr>\n",
              "      <th>4</th>\n",
              "      <td>570300817074462722</td>\n",
              "      <td>negative</td>\n",
              "      <td>1.0000</td>\n",
              "      <td>Can't Tell</td>\n",
              "      <td>1.0000</td>\n",
              "      <td>Virgin America</td>\n",
              "      <td>NaN</td>\n",
              "      <td>jnardino</td>\n",
              "      <td>NaN</td>\n",
              "      <td>0</td>\n",
              "      <td>@VirginAmerica and it's a really big bad thing...</td>\n",
              "      <td>NaN</td>\n",
              "      <td>2015-02-24 11:14:45 -0800</td>\n",
              "      <td>NaN</td>\n",
              "      <td>Pacific Time (US &amp; Canada)</td>\n",
              "    </tr>\n",
              "  </tbody>\n",
              "</table>\n",
              "</div>"
            ],
            "text/plain": [
              "             tweet_id airline_sentiment  airline_sentiment_confidence  \\\n",
              "0  570306133677760513           neutral                        1.0000   \n",
              "1  570301130888122368          positive                        0.3486   \n",
              "2  570301083672813571           neutral                        0.6837   \n",
              "3  570301031407624196          negative                        1.0000   \n",
              "4  570300817074462722          negative                        1.0000   \n",
              "\n",
              "  negativereason  negativereason_confidence         airline  \\\n",
              "0            NaN                        NaN  Virgin America   \n",
              "1            NaN                     0.0000  Virgin America   \n",
              "2            NaN                        NaN  Virgin America   \n",
              "3     Bad Flight                     0.7033  Virgin America   \n",
              "4     Can't Tell                     1.0000  Virgin America   \n",
              "\n",
              "  airline_sentiment_gold        name negativereason_gold  retweet_count  \\\n",
              "0                    NaN     cairdin                 NaN              0   \n",
              "1                    NaN    jnardino                 NaN              0   \n",
              "2                    NaN  yvonnalynn                 NaN              0   \n",
              "3                    NaN    jnardino                 NaN              0   \n",
              "4                    NaN    jnardino                 NaN              0   \n",
              "\n",
              "                                                text tweet_coord  \\\n",
              "0                @VirginAmerica What @dhepburn said.         NaN   \n",
              "1  @VirginAmerica plus you've added commercials t...         NaN   \n",
              "2  @VirginAmerica I didn't today... Must mean I n...         NaN   \n",
              "3  @VirginAmerica it's really aggressive to blast...         NaN   \n",
              "4  @VirginAmerica and it's a really big bad thing...         NaN   \n",
              "\n",
              "               tweet_created tweet_location               user_timezone  \n",
              "0  2015-02-24 11:35:52 -0800            NaN  Eastern Time (US & Canada)  \n",
              "1  2015-02-24 11:15:59 -0800            NaN  Pacific Time (US & Canada)  \n",
              "2  2015-02-24 11:15:48 -0800      Lets Play  Central Time (US & Canada)  \n",
              "3  2015-02-24 11:15:36 -0800            NaN  Pacific Time (US & Canada)  \n",
              "4  2015-02-24 11:14:45 -0800            NaN  Pacific Time (US & Canada)  "
            ]
          },
          "metadata": {
            "tags": []
          },
          "execution_count": 57
        }
      ]
    },
    {
      "metadata": {
        "id": "v1RAFWnt5wn4",
        "colab_type": "code",
        "colab": {}
      },
      "cell_type": "code",
      "source": [
        "#separate data\n",
        "Xs=df['text'].copy()   #df with only the tweets\n",
        "y=df['airline_sentiment'].copy()  #df with the labels"
      ],
      "execution_count": 0,
      "outputs": []
    },
    {
      "metadata": {
        "id": "jWjEbq0TC8ql",
        "colab_type": "code",
        "outputId": "570500f3-dea2-40ab-ba05-8012d8e306c2",
        "colab": {
          "base_uri": "https://localhost:8080/",
          "height": 85
        }
      },
      "cell_type": "code",
      "source": [
        "y.value_counts()"
      ],
      "execution_count": 0,
      "outputs": [
        {
          "output_type": "execute_result",
          "data": {
            "text/plain": [
              "negative    9178\n",
              "neutral     3099\n",
              "positive    2363\n",
              "Name: airline_sentiment, dtype: int64"
            ]
          },
          "metadata": {
            "tags": []
          },
          "execution_count": 59
        }
      ]
    },
    {
      "metadata": {
        "id": "J-W5hQ466cF9",
        "colab_type": "code",
        "outputId": "6bc9562a-771c-436a-f249-b5670ef11313",
        "colab": {
          "base_uri": "https://localhost:8080/",
          "height": 68
        }
      },
      "cell_type": "code",
      "source": [
        "import numpy as np\n",
        "import keras\n",
        "from keras.preprocessing.text import Tokenizer\n",
        "from keras.preprocessing.sequence import pad_sequences\n",
        "\n",
        "\n",
        "NUM_TOP_WORDS = None\n",
        "MAX_ART_LEN = None # maximum and minimum number of words\n",
        "\n",
        "tokenizer = Tokenizer(num_words=NUM_TOP_WORDS)\n",
        "tokenizer.fit_on_texts(Xs)\n",
        "sequences = tokenizer.texts_to_sequences(Xs)\n",
        "\n",
        "word_index = tokenizer.word_index\n",
        "NUM_TOP_WORDS = len(word_index) if NUM_TOP_WORDS==None else NUM_TOP_WORDS\n",
        "top_words = min((len(word_index),NUM_TOP_WORDS))\n",
        "print('Found %s unique tokens. Distilled to %d top words.' % (len(word_index),top_words))\n",
        "\n",
        "X = pad_sequences(sequences, maxlen=MAX_ART_LEN)\n",
        "\n",
        "print('Shape of data tensor:', X.shape)\n",
        "\n",
        "print(np.max(X))"
      ],
      "execution_count": 0,
      "outputs": [
        {
          "output_type": "stream",
          "text": [
            "Found 15768 unique tokens. Distilled to 15768 top words.\n",
            "Shape of data tensor: (14640, 36)\n",
            "15768\n"
          ],
          "name": "stdout"
        }
      ]
    },
    {
      "metadata": {
        "id": "Pm9_fbUqfGG1",
        "colab_type": "code",
        "outputId": "0fae4190-4156-4cd8-e751-fcb7633e2aee",
        "colab": {
          "base_uri": "https://localhost:8080/",
          "height": 136
        }
      },
      "cell_type": "code",
      "source": [
        "X"
      ],
      "execution_count": 0,
      "outputs": [
        {
          "output_type": "execute_result",
          "data": {
            "text/plain": [
              "array([[    0,     0,     0, ...,    62,  6686,   226],\n",
              "       [    0,     0,     0, ...,     2,   201,  6687],\n",
              "       [    0,     0,     0, ...,   156,   150,   193],\n",
              "       ...,\n",
              "       [    0,     0,     0, ...,   256,     1, 15768],\n",
              "       [    0,     0,     0, ...,   131,    11,  2696],\n",
              "       [    0,     0,     0, ...,     2,   179,     8]], dtype=int32)"
            ]
          },
          "metadata": {
            "tags": []
          },
          "execution_count": 61
        }
      ]
    },
    {
      "metadata": {
        "id": "042Mb-cxDBN1",
        "colab_type": "code",
        "outputId": "5c1633d6-acbe-42cf-fe0e-a6744a59cbc3",
        "colab": {
          "base_uri": "https://localhost:8080/",
          "height": 34
        }
      },
      "cell_type": "code",
      "source": [
        "from sklearn.preprocessing import LabelEncoder\n",
        "# integer encoded variables\n",
        "encoders = LabelEncoder() # save the encoder\n",
        "y_int = encoders.fit_transform(y)\n",
        "\n",
        "\n",
        "y_ohe = keras.utils.to_categorical(y_int)\n",
        "\n",
        "y_ohe.shape"
      ],
      "execution_count": 0,
      "outputs": [
        {
          "output_type": "execute_result",
          "data": {
            "text/plain": [
              "(14640, 3)"
            ]
          },
          "metadata": {
            "tags": []
          },
          "execution_count": 62
        }
      ]
    },
    {
      "metadata": {
        "id": "7qVbE5rCGY4b",
        "colab_type": "text"
      },
      "cell_type": "markdown",
      "source": [
        "We turned the three labels 'negative', 'neutral' and 'positive' into 0, 1 and 2 then one hot encoded them. The final dataset is for classification problem\n",
        "\n",
        "We tokenized the data using the Keras tokenizer to turn each tweet into space-separated sequences of words, which are then split into lists of tokens and indexed (Keras documentation). Since tweets are generally short (at most 280 characters), we decided not to force a specific length of sequence.  We also didn't use a max number of words since our dataset is not too large. "
      ]
    },
    {
      "metadata": {
        "id": "Uq7ognS7ztDS",
        "colab_type": "text"
      },
      "cell_type": "markdown",
      "source": [
        "**[10 points] Choose and explain what metric(s) you will use to evaluate your algorithm’s performance. You should give a detailed argument for why this (these) metric(s) are appropriate on your data. That is, why is the metric appropriate for the task (e.g., in terms of the business case for the task). Please note: rarely is accuracy the best evaluation metric to use. Think deeply about an appropriate measure of performance.**\n",
        " "
      ]
    },
    {
      "metadata": {
        "id": "EsTCReC8LoM6",
        "colab_type": "text"
      },
      "cell_type": "markdown",
      "source": [
        "Our algorithm would be used by major U.S. airlines to classify tweets into negative, neutral, and positive sentiments and use the content of these tweets to improve their service. Negative tweets contain information about dissatisfied costumers, so they provide important suggestions for improvements. Positive tweets provide information about things that costumers like about the airline, and airlines can use this information to choose which services to keep and to highlight those specific services to other potential costumers. Neutral tweets can be used to figure out what information is not clear to customers. The neutral tweets mainly conveyed questions that users had about their flight information, reservations, customer service, etc. Airlines could use the neutral tweets to be prepared for how to answer these Frequently Asked Questions. \n",
        "\n",
        "Since we have class imbalance, accuracy would not be the best metric for our dataset. All types of misclassifications would be equally costly in our dataset. The algorithm would not be considered useful if it misclassifies between the positive and negative classes. If we misclassify a tweet as neutral, we would be losing potentially valuable information on how the airlines can improve their business. To account for both false positives and false negatives, we will use a macro f1-score to evaluate the algorithm's performance. Ideally, we would like for the f1 to be high, indicating that we have low false positives and low false negatives."
      ]
    },
    {
      "metadata": {
        "id": "Taof2XVm4isU",
        "colab_type": "code",
        "colab": {}
      },
      "cell_type": "code",
      "source": [
        "# macro f1 implementation from kaggle\n",
        "# source: https://www.kaggle.com/guglielmocamporese/macro-f1-score-keras\n",
        "import tensorflow as tf\n",
        "import keras.backend as K\n",
        "\n",
        "def f1(y_true, y_pred):\n",
        "    y_pred = K.round(y_pred)\n",
        "    tp = K.sum(K.cast(y_true*y_pred, 'float'), axis=0)\n",
        "    # tn = K.sum(K.cast((1-y_true)*(1-y_pred), 'float'), axis=0)\n",
        "    fp = K.sum(K.cast((1-y_true)*y_pred, 'float'), axis=0)\n",
        "    fn = K.sum(K.cast(y_true*(1-y_pred), 'float'), axis=0)\n",
        "\n",
        "    p = tp / (tp + fp + K.epsilon())\n",
        "    r = tp / (tp + fn + K.epsilon())\n",
        "\n",
        "    f1 = 2*p*r / (p+r+K.epsilon())\n",
        "    f1 = tf.where(tf.is_nan(f1), tf.zeros_like(f1), f1)\n",
        "    return K.mean(f1)"
      ],
      "execution_count": 0,
      "outputs": []
    },
    {
      "metadata": {
        "id": "OOvMgCYRzztT",
        "colab_type": "text"
      },
      "cell_type": "markdown",
      "source": [
        "**[10 points] Choose the method you will use for dividing your data into training and testing (i.e., are you using Stratified 10-fold cross validation? Shuffle splits? Why?). Explain why your chosen method is appropriate or use more than one method as appropriate. Convince me that your cross validation method is a realistic mirroring of how an algorithm would be used in practice.**"
      ]
    },
    {
      "metadata": {
        "id": "n6859k3tEtNW",
        "colab_type": "text"
      },
      "cell_type": "markdown",
      "source": [
        "We will use a stratified k-fold method for cross validation since we have a class imbalance in our data set. The majority of the tweets express a negative review while there are much fewer positive and neutral reviews. We will only be using 3 folds due to computation constraints, but ideally using 10 folds would be better. Note, that for the first two sections of modeling below when investigating different RNN architectures we will not be using cross validation with the full 3 folds. We will only be looking at 1 fold of the train and test sets since we have a medium sized data set of ~15,000 observations. We think that this sample size is large enough for the network to be able to train on one fold."
      ]
    },
    {
      "metadata": {
        "id": "1AwqafXh88vI",
        "colab_type": "code",
        "outputId": "ea030489-adc6-48c6-a5b1-7eb55bac4c5d",
        "colab": {
          "base_uri": "https://localhost:8080/",
          "height": 85
        }
      },
      "cell_type": "code",
      "source": [
        "#using cv to compare performance\n",
        "#from sklearn.metrics import confusion_matrix\n",
        "from sklearn.model_selection import StratifiedKFold, StratifiedShuffleSplit\n",
        "\n",
        "skf = StratifiedKFold(n_splits=3,  random_state=1)  #15 \n",
        "skf.get_n_splits(X,y_ohe)\n",
        "\n",
        "print(skf)\n",
        "\n",
        "for train_index, test_index in skf.split(X,y):\n",
        "    X_train, X_test = X[train_index], X[test_index]\n",
        "    y_train, y_test = y_int[train_index], y_int[test_index]\n",
        "    y_train_ohe, y_test_ohe = y_ohe[train_index], y_ohe[test_index]\n",
        "   \n",
        "    print(X_train.shape,y_train_ohe.shape)"
      ],
      "execution_count": 0,
      "outputs": [
        {
          "output_type": "stream",
          "text": [
            "StratifiedKFold(n_splits=3, random_state=1, shuffle=False)\n",
            "(9759, 36) (9759, 3)\n",
            "(9760, 36) (9760, 3)\n",
            "(9761, 36) (9761, 3)\n"
          ],
          "name": "stdout"
        }
      ]
    },
    {
      "metadata": {
        "id": "aipEYB7XXe9R",
        "colab_type": "code",
        "outputId": "3bd7e769-38f3-427a-f86c-ee0a36ee8292",
        "colab": {
          "base_uri": "https://localhost:8080/",
          "height": 136
        }
      },
      "cell_type": "code",
      "source": [
        "#numpy array\n",
        "y_train_ohe"
      ],
      "execution_count": 0,
      "outputs": [
        {
          "output_type": "execute_result",
          "data": {
            "text/plain": [
              "array([[0., 1., 0.],\n",
              "       [0., 0., 1.],\n",
              "       [0., 1., 0.],\n",
              "       ...,\n",
              "       [1., 0., 0.],\n",
              "       [1., 0., 0.],\n",
              "       [1., 0., 0.]], dtype=float32)"
            ]
          },
          "metadata": {
            "tags": []
          },
          "execution_count": 65
        }
      ]
    },
    {
      "metadata": {
        "id": "qtgPXTOCz29_",
        "colab_type": "text"
      },
      "cell_type": "markdown",
      "source": [
        "# Modeling (60 points total)"
      ]
    },
    {
      "metadata": {
        "id": "wMxn4Api0Ges",
        "colab_type": "text"
      },
      "cell_type": "markdown",
      "source": [
        "**[20 points] Investigate at least two different recurrent network architectures (perhaps LSTM and GRU). Be sure to use an embedding layer (pre-trained, from scratch, or both). Adjust hyper-parameters of the networks as needed to improve generalization performance. \n",
        "**"
      ]
    },
    {
      "metadata": {
        "id": "qu82QCJ0LuOd",
        "colab_type": "code",
        "colab": {}
      },
      "cell_type": "code",
      "source": [
        "from sklearn import metrics as mt\n",
        "from matplotlib import pyplot as plt\n",
        "from skimage.io import imshow\n",
        "import seaborn as sns\n",
        "%matplotlib inline\n",
        "\n",
        "def summarize_net(net, X_test, y_test, title_text=''):\n",
        "    plt.figure(figsize=(15,5))\n",
        "    yhat = np.argmax(net.predict(X_test), axis=1)\n",
        "    acc = mt.accuracy_score(y_test,yhat)\n",
        "    f1 = mt.f1_score(y_test, yhat, average='macro')\n",
        "    cm = mt.confusion_matrix(y_test,yhat)\n",
        "    cm = cm/np.sum(cm,axis=1)[:,np.newaxis]\n",
        "    sns.heatmap(cm, annot=True, fmt='.2f')\n",
        "    plt.title(title_text+'\\nF1_score: ' +'{:.4f}'.format(f1))\n",
        "    print('F1_score: ' + str(np.round(f1, 3)))\n",
        "    print('Accuracy: ' + str(np.round(acc, 3)))    "
      ],
      "execution_count": 0,
      "outputs": []
    },
    {
      "metadata": {
        "id": "SyesLHly3glY",
        "colab_type": "text"
      },
      "cell_type": "markdown",
      "source": [
        "###Model 1: GRU"
      ]
    },
    {
      "metadata": {
        "id": "AuuPLyOlklHy",
        "colab_type": "text"
      },
      "cell_type": "markdown",
      "source": [
        "We are using an embedding layer without pre-trained."
      ]
    },
    {
      "metadata": {
        "id": "PkBFWCVEj-rJ",
        "colab_type": "code",
        "outputId": "4df07ffc-0728-4a25-fac7-4979987884c9",
        "colab": {
          "base_uri": "https://localhost:8080/",
          "height": 289
        }
      },
      "cell_type": "code",
      "source": [
        "from keras.models import Sequential, Input, Model\n",
        "from keras.layers import Dense\n",
        "from keras.layers import SimpleRNN, LSTM, GRU\n",
        "from keras.layers.embeddings import Embedding\n",
        "\n",
        "NUM_CLASSES=3\n",
        "EMBED_SIZE = 50\n",
        "input_holder = Input(shape=(X_train.shape[1], ))\n",
        "input_embed = Embedding(top_words, # input dimension (max int of OHE)\n",
        "                EMBED_SIZE, # output dimension size\n",
        "                input_length=MAX_ART_LEN)(input_holder) # number of words in each sequence\n",
        "\n",
        "\n",
        "#MODEL 1 = GRU\n",
        "x = GRU(25,dropout=0.2, recurrent_dropout=0.2)(input_embed)\n",
        "x = Dense(NUM_CLASSES, activation='sigmoid')(x)\n",
        "rnn1=Model(inputs=input_holder,outputs=x)\n",
        "rnn1.compile(loss='categorical_crossentropy', \n",
        "              optimizer='rmsprop', \n",
        "              metrics=['accuracy',f1])   #add in f score\n",
        "\n",
        "print(rnn1.summary())"
      ],
      "execution_count": 0,
      "outputs": [
        {
          "output_type": "stream",
          "text": [
            "_________________________________________________________________\n",
            "Layer (type)                 Output Shape              Param #   \n",
            "=================================================================\n",
            "input_17 (InputLayer)        (None, 36)                0         \n",
            "_________________________________________________________________\n",
            "embedding_17 (Embedding)     (None, 36, 50)            788400    \n",
            "_________________________________________________________________\n",
            "gru_14 (GRU)                 (None, 25)                5700      \n",
            "_________________________________________________________________\n",
            "dense_17 (Dense)             (None, 3)                 78        \n",
            "=================================================================\n",
            "Total params: 794,178\n",
            "Trainable params: 794,178\n",
            "Non-trainable params: 0\n",
            "_________________________________________________________________\n",
            "None\n"
          ],
          "name": "stdout"
        }
      ]
    },
    {
      "metadata": {
        "id": "UQs5sFgxkQUa",
        "colab_type": "code",
        "outputId": "5c4c0534-418f-4030-9a3d-083a01bc26bd",
        "colab": {
          "base_uri": "https://localhost:8080/",
          "height": 153
        }
      },
      "cell_type": "code",
      "source": [
        "#fit model 1\n",
        "rnn1.fit(X_train, y_train_ohe, validation_data=(X_test, y_test_ohe), epochs=3, batch_size=64)"
      ],
      "execution_count": 0,
      "outputs": [
        {
          "output_type": "stream",
          "text": [
            "Train on 9761 samples, validate on 4879 samples\n",
            "Epoch 1/3\n",
            "9761/9761 [==============================] - 22s 2ms/step - loss: 0.8022 - acc: 0.6695 - f1: 0.4692 - val_loss: 0.7561 - val_acc: 0.7036 - val_f1: 0.4656\n",
            "Epoch 2/3\n",
            "9761/9761 [==============================] - 18s 2ms/step - loss: 0.5987 - acc: 0.7555 - f1: 0.6467 - val_loss: 0.8160 - val_acc: 0.7032 - val_f1: 0.4711\n",
            "Epoch 3/3\n",
            "9761/9761 [==============================] - 18s 2ms/step - loss: 0.5363 - acc: 0.7847 - f1: 0.6780 - val_loss: 0.8629 - val_acc: 0.7051 - val_f1: 0.4758\n"
          ],
          "name": "stdout"
        },
        {
          "output_type": "execute_result",
          "data": {
            "text/plain": [
              "<keras.callbacks.History at 0x7f8c507ad588>"
            ]
          },
          "metadata": {
            "tags": []
          },
          "execution_count": 68
        }
      ]
    },
    {
      "metadata": {
        "id": "feQpPOTtL8KT",
        "colab_type": "code",
        "outputId": "991b5332-c80d-4186-c9d9-b6bd6a288c3c",
        "colab": {
          "base_uri": "https://localhost:8080/",
          "height": 383
        }
      },
      "cell_type": "code",
      "source": [
        "summarize_net(rnn1, X_test, y_test, \"GRU:  \")"
      ],
      "execution_count": 0,
      "outputs": [
        {
          "output_type": "stream",
          "text": [
            "F1_score: 0.52\n",
            "Accuracy: 0.705\n"
          ],
          "name": "stdout"
        },
        {
          "output_type": "display_data",
          "data": {
            "image/png": "[encoded data removed]",
            "text/plain": [
              "<matplotlib.figure.Figure at 0x7f8c507ad048>"
            ]
          },
          "metadata": {
            "tags": []
          }
        }
      ]
    },
    {
      "metadata": {
        "id": "wli5GAt93mKJ",
        "colab_type": "text"
      },
      "cell_type": "markdown",
      "source": [
        "### Model 1 v.2: GRU"
      ]
    },
    {
      "metadata": {
        "id": "l8uaHmshMSHR",
        "colab_type": "text"
      },
      "cell_type": "markdown",
      "source": [
        "Change embedding size from 50 to 100"
      ]
    },
    {
      "metadata": {
        "id": "jKWjHKycMaTq",
        "colab_type": "code",
        "outputId": "a3ac668e-f9fc-4b02-8410-62a07ed0e095",
        "colab": {
          "base_uri": "https://localhost:8080/",
          "height": 289
        }
      },
      "cell_type": "code",
      "source": [
        "#version 2 with 100 embedding dim and 25 state vectors\n",
        "NUM_CLASSES=3\n",
        "EMBED_SIZE = 100\n",
        "input_holder = Input(shape=(X_train.shape[1], ))\n",
        "input_embed = Embedding(top_words, # input dimension (max int of OHE)\n",
        "                EMBED_SIZE, # output dimension size\n",
        "                input_length=MAX_ART_LEN)(input_holder) # number of words in each sequence\n",
        "\n",
        "\n",
        "#MODEL 1  = GRU\n",
        "x = GRU(25,dropout=0.2, recurrent_dropout=0.2)(input_embed)\n",
        "x = Dense(NUM_CLASSES, activation='sigmoid')(x)\n",
        "rnn1_2=Model(inputs=input_holder,outputs=x)\n",
        "rnn1_2.compile(loss='categorical_crossentropy', \n",
        "              optimizer='rmsprop', \n",
        "              metrics=['accuracy',f1])   #add in f score\n",
        "\n",
        "print(rnn1_2.summary())"
      ],
      "execution_count": 0,
      "outputs": [
        {
          "output_type": "stream",
          "text": [
            "_________________________________________________________________\n",
            "Layer (type)                 Output Shape              Param #   \n",
            "=================================================================\n",
            "input_18 (InputLayer)        (None, 36)                0         \n",
            "_________________________________________________________________\n",
            "embedding_18 (Embedding)     (None, 36, 100)           1576800   \n",
            "_________________________________________________________________\n",
            "gru_15 (GRU)                 (None, 25)                9450      \n",
            "_________________________________________________________________\n",
            "dense_18 (Dense)             (None, 3)                 78        \n",
            "=================================================================\n",
            "Total params: 1,586,328\n",
            "Trainable params: 1,586,328\n",
            "Non-trainable params: 0\n",
            "_________________________________________________________________\n",
            "None\n"
          ],
          "name": "stdout"
        }
      ]
    },
    {
      "metadata": {
        "id": "KouMMeJrND1a",
        "colab_type": "code",
        "outputId": "f25df3ed-83c5-4c94-b947-0e5fc3158c17",
        "colab": {
          "base_uri": "https://localhost:8080/",
          "height": 153
        }
      },
      "cell_type": "code",
      "source": [
        "#fit model 1 version 2\n",
        "rnn1_2.fit(X_train, y_train_ohe, validation_data=(X_test, y_test_ohe), epochs=3, batch_size=64)"
      ],
      "execution_count": 0,
      "outputs": [
        {
          "output_type": "stream",
          "text": [
            "Train on 9761 samples, validate on 4879 samples\n",
            "Epoch 1/3\n",
            "9761/9761 [==============================] - 22s 2ms/step - loss: 0.7738 - acc: 0.6638 - f1: 0.4830 - val_loss: 0.7461 - val_acc: 0.6917 - val_f1: 0.4553\n",
            "Epoch 2/3\n",
            "9761/9761 [==============================] - 17s 2ms/step - loss: 0.5770 - acc: 0.7424 - f1: 0.6529 - val_loss: 0.8481 - val_acc: 0.7014 - val_f1: 0.4689\n",
            "Epoch 3/3\n",
            "9761/9761 [==============================] - 18s 2ms/step - loss: 0.5236 - acc: 0.7742 - f1: 0.6775 - val_loss: 0.8773 - val_acc: 0.7020 - val_f1: 0.4725\n"
          ],
          "name": "stdout"
        },
        {
          "output_type": "execute_result",
          "data": {
            "text/plain": [
              "<keras.callbacks.History at 0x7f8c4dc105c0>"
            ]
          },
          "metadata": {
            "tags": []
          },
          "execution_count": 71
        }
      ]
    },
    {
      "metadata": {
        "id": "1Ubfw945Nbht",
        "colab_type": "code",
        "outputId": "8f4b8926-9763-4a1f-fa7a-b26bff2c75c7",
        "colab": {
          "base_uri": "https://localhost:8080/",
          "height": 383
        }
      },
      "cell_type": "code",
      "source": [
        "summarize_net(rnn1_2, X_test, y_test, \"GRU v.2:  \")"
      ],
      "execution_count": 0,
      "outputs": [
        {
          "output_type": "stream",
          "text": [
            "F1_score: 0.519\n",
            "Accuracy: 0.702\n"
          ],
          "name": "stdout"
        },
        {
          "output_type": "display_data",
          "data": {
            "image/png": "[encoded data removed]",
            "text/plain": [
              "<matplotlib.figure.Figure at 0x7f8c4dc29cf8>"
            ]
          },
          "metadata": {
            "tags": []
          }
        }
      ]
    },
    {
      "metadata": {
        "id": "tlKioD7pPB6z",
        "colab_type": "text"
      },
      "cell_type": "markdown",
      "source": [
        "Although we attempted several combinations of different parameters (all attempts not shown), we could not achieve improvement in the F1 score. We are not correctly classifying the neutral and positive tweets."
      ]
    },
    {
      "metadata": {
        "id": "7qsZYGGm3ynI",
        "colab_type": "text"
      },
      "cell_type": "markdown",
      "source": [
        "### Model 2: LSTM"
      ]
    },
    {
      "metadata": {
        "id": "6jV87jNlkU56",
        "colab_type": "code",
        "outputId": "08bd987a-649f-40db-fc92-8bbec28d794f",
        "colab": {
          "base_uri": "https://localhost:8080/",
          "height": 272
        }
      },
      "cell_type": "code",
      "source": [
        "#MODEL 2 = LSTM\n",
        "NUM_CLASSES=3\n",
        "EMBED_SIZE = 50\n",
        "input_holder = Input(shape=(X_train.shape[1], ))\n",
        "input_embed = Embedding(top_words, # input dimension (max int of OHE)\n",
        "                EMBED_SIZE, # output dimension size\n",
        "                input_length=MAX_ART_LEN)(input_holder) # number of words in each sequence\n",
        "\n",
        "\n",
        "x = LSTM(25,dropout=0.2, recurrent_dropout=0.2)(input_embed)\n",
        "x = Dense(NUM_CLASSES, activation='sigmoid')(x)\n",
        "rnn2=Model(inputs=input_holder,outputs=x)\n",
        "rnn2.compile(loss='categorical_crossentropy', \n",
        "              optimizer='rmsprop', \n",
        "              metrics=['accuracy',f1])\n",
        "\n",
        "rnn2.summary()"
      ],
      "execution_count": 0,
      "outputs": [
        {
          "output_type": "stream",
          "text": [
            "_________________________________________________________________\n",
            "Layer (type)                 Output Shape              Param #   \n",
            "=================================================================\n",
            "input_19 (InputLayer)        (None, 36)                0         \n",
            "_________________________________________________________________\n",
            "embedding_19 (Embedding)     (None, 36, 50)            788400    \n",
            "_________________________________________________________________\n",
            "lstm_7 (LSTM)                (None, 25)                7600      \n",
            "_________________________________________________________________\n",
            "dense_19 (Dense)             (None, 3)                 78        \n",
            "=================================================================\n",
            "Total params: 796,078\n",
            "Trainable params: 796,078\n",
            "Non-trainable params: 0\n",
            "_________________________________________________________________\n"
          ],
          "name": "stdout"
        }
      ]
    },
    {
      "metadata": {
        "id": "NsMZmzqjkcTX",
        "colab_type": "code",
        "outputId": "4457f38e-07c7-4198-f51b-a77f77489b33",
        "colab": {
          "base_uri": "https://localhost:8080/",
          "height": 153
        }
      },
      "cell_type": "code",
      "source": [
        "#fit model 2\n",
        "rnn2.fit(X_train, y_train_ohe, validation_data=(X_test, y_test_ohe), epochs=3, batch_size=64)"
      ],
      "execution_count": 0,
      "outputs": [
        {
          "output_type": "stream",
          "text": [
            "Train on 9761 samples, validate on 4879 samples\n",
            "Epoch 1/3\n",
            "9761/9761 [==============================] - 26s 3ms/step - loss: 0.7795 - acc: 0.6770 - f1: 0.4607 - val_loss: 0.7763 - val_acc: 0.6844 - val_f1: 0.4462\n",
            "Epoch 2/3\n",
            "9761/9761 [==============================] - 21s 2ms/step - loss: 0.6088 - acc: 0.7410 - f1: 0.6400 - val_loss: 0.8318 - val_acc: 0.6901 - val_f1: 0.4667\n",
            "Epoch 3/3\n",
            "9761/9761 [==============================] - 21s 2ms/step - loss: 0.5368 - acc: 0.7585 - f1: 0.6736 - val_loss: 0.8131 - val_acc: 0.6969 - val_f1: 0.4810\n"
          ],
          "name": "stdout"
        },
        {
          "output_type": "execute_result",
          "data": {
            "text/plain": [
              "<keras.callbacks.History at 0x7f8c4f0442e8>"
            ]
          },
          "metadata": {
            "tags": []
          },
          "execution_count": 74
        }
      ]
    },
    {
      "metadata": {
        "id": "ddz9857fO9kc",
        "colab_type": "code",
        "outputId": "2ee83789-6a59-4b67-dbbd-ed0aa4dd618a",
        "colab": {
          "base_uri": "https://localhost:8080/",
          "height": 383
        }
      },
      "cell_type": "code",
      "source": [
        "summarize_net(rnn2, X_test, y_test, \"LSTM:  \")"
      ],
      "execution_count": 0,
      "outputs": [
        {
          "output_type": "stream",
          "text": [
            "F1_score: 0.487\n",
            "Accuracy: 0.697\n"
          ],
          "name": "stdout"
        },
        {
          "output_type": "display_data",
          "data": {
            "image/png": "[encoded data removed]",
            "text/plain": [
              "<matplotlib.figure.Figure at 0x7f8c4dc29d30>"
            ]
          },
          "metadata": {
            "tags": []
          }
        }
      ]
    },
    {
      "metadata": {
        "id": "T_cPdPOMSTkH",
        "colab_type": "text"
      },
      "cell_type": "markdown",
      "source": [
        "The LSTM model performs worse than the GRU model (both with 50 embedding size and 25 state vectors). We are unable to correctly classify the neutral and positive tweets."
      ]
    },
    {
      "metadata": {
        "id": "3crpW_6e33Vj",
        "colab_type": "text"
      },
      "cell_type": "markdown",
      "source": [
        "### Model 2 v.2: LSTM"
      ]
    },
    {
      "metadata": {
        "id": "DGrJ_IG5MbQJ",
        "colab_type": "text"
      },
      "cell_type": "markdown",
      "source": [
        "Change embedding size, number of state vectors, dropout, activation, and optimizer."
      ]
    },
    {
      "metadata": {
        "id": "1vdLO_65s0DE",
        "colab_type": "code",
        "outputId": "0544ab47-eae0-41bd-aa22-f4148ef63d2f",
        "colab": {
          "base_uri": "https://localhost:8080/",
          "height": 272
        }
      },
      "cell_type": "code",
      "source": [
        "#version 2\n",
        "NUM_CLASSES=3\n",
        "EMBED_SIZE = 250\n",
        "input_holder = Input(shape=(X_train.shape[1], ))\n",
        "input_embed = Embedding(top_words, # input dimension (max int of OHE)\n",
        "                EMBED_SIZE, # output dimension size\n",
        "                input_length=MAX_ART_LEN)(input_holder) # number of words in each sequence\n",
        "\n",
        "\n",
        "x = LSTM(100,dropout=0.4, recurrent_dropout=0.2)(input_embed)  #change dropout?\n",
        "x = Dense(NUM_CLASSES, activation='softmax')(x)\n",
        "rnn2_2=Model(inputs=input_holder,outputs=x)\n",
        "rnn2_2.compile(loss='categorical_crossentropy', \n",
        "              optimizer='adam', \n",
        "              metrics=['accuracy',f1])\n",
        "\n",
        "rnn2_2.summary()"
      ],
      "execution_count": 0,
      "outputs": [
        {
          "output_type": "stream",
          "text": [
            "_________________________________________________________________\n",
            "Layer (type)                 Output Shape              Param #   \n",
            "=================================================================\n",
            "input_20 (InputLayer)        (None, 36)                0         \n",
            "_________________________________________________________________\n",
            "embedding_20 (Embedding)     (None, 36, 250)           3942000   \n",
            "_________________________________________________________________\n",
            "lstm_8 (LSTM)                (None, 100)               140400    \n",
            "_________________________________________________________________\n",
            "dense_20 (Dense)             (None, 3)                 303       \n",
            "=================================================================\n",
            "Total params: 4,082,703\n",
            "Trainable params: 4,082,703\n",
            "Non-trainable params: 0\n",
            "_________________________________________________________________\n"
          ],
          "name": "stdout"
        }
      ]
    },
    {
      "metadata": {
        "id": "Cdj16f5gtN96",
        "colab_type": "code",
        "outputId": "00f1ca32-01e7-411d-d029-5a35cc100638",
        "colab": {
          "base_uri": "https://localhost:8080/",
          "height": 153
        }
      },
      "cell_type": "code",
      "source": [
        "#fit model 2 v.2\n",
        "rnn2_2.fit(X_train, y_train_ohe, validation_data=(X_test, y_test_ohe), epochs=3, batch_size=64)"
      ],
      "execution_count": 0,
      "outputs": [
        {
          "output_type": "stream",
          "text": [
            "Train on 9761 samples, validate on 4879 samples\n",
            "Epoch 1/3\n",
            "9761/9761 [==============================] - 28s 3ms/step - loss: 0.7015 - acc: 0.7105 - f1: 0.3695 - val_loss: 0.6938 - val_acc: 0.7303 - val_f1: 0.4723\n",
            "Epoch 2/3\n",
            "9761/9761 [==============================] - 21s 2ms/step - loss: 0.4071 - acc: 0.8442 - f1: 0.7560 - val_loss: 0.8301 - val_acc: 0.7469 - val_f1: 0.5441\n",
            "Epoch 3/3\n",
            "9761/9761 [==============================] - 22s 2ms/step - loss: 0.2644 - acc: 0.9030 - f1: 0.8623 - val_loss: 0.8207 - val_acc: 0.7465 - val_f1: 0.5583\n"
          ],
          "name": "stdout"
        },
        {
          "output_type": "execute_result",
          "data": {
            "text/plain": [
              "<keras.callbacks.History at 0x7f8c4bf30da0>"
            ]
          },
          "metadata": {
            "tags": []
          },
          "execution_count": 77
        }
      ]
    },
    {
      "metadata": {
        "id": "vdFMAVVutkS3",
        "colab_type": "code",
        "outputId": "dd369b08-38b0-4b7a-f38c-f9bda0d0174e",
        "colab": {
          "base_uri": "https://localhost:8080/",
          "height": 383
        }
      },
      "cell_type": "code",
      "source": [
        "summarize_net(rnn2_2, X_test, y_test, \"LSTM:  \")"
      ],
      "execution_count": 0,
      "outputs": [
        {
          "output_type": "stream",
          "text": [
            "F1_score: 0.644\n",
            "Accuracy: 0.746\n"
          ],
          "name": "stdout"
        },
        {
          "output_type": "display_data",
          "data": {
            "image/png": "[encoded data removed]",
            "text/plain": [
              "<matplotlib.figure.Figure at 0x7f8c4bee77b8>"
            ]
          },
          "metadata": {
            "tags": []
          }
        }
      ]
    },
    {
      "metadata": {
        "id": "rmSqRLbyOxUa",
        "colab_type": "text"
      },
      "cell_type": "markdown",
      "source": [
        "We achieved the best F1 score with this version of the LSTM model. We also see improvement for the number of positive tweets we are able to correctly classify."
      ]
    },
    {
      "metadata": {
        "id": "8Co6MIL-38_3",
        "colab_type": "text"
      },
      "cell_type": "markdown",
      "source": [
        "### Chained RNN"
      ]
    },
    {
      "metadata": {
        "id": "k19_AQT-0MDg",
        "colab_type": "text"
      },
      "cell_type": "markdown",
      "source": [
        "**[20 points] Using the best RNN parameters and architecture, add a second recurrent chain to your RNN. The input to the second chain should be the output sequence of the first chain. Visualize the performance of training and validation sets versus the training iterations. \n",
        "**"
      ]
    },
    {
      "metadata": {
        "id": "GHzz_nStMr4-",
        "colab_type": "text"
      },
      "cell_type": "markdown",
      "source": [
        "Based on f1 scores of the four models above, the second LSTM model outperforms the other three.  So we are going to add the second chain to the second LSTM model."
      ]
    },
    {
      "metadata": {
        "id": "69dVGisGowbG",
        "colab_type": "code",
        "outputId": "737d0bef-1765-466a-cb6a-b5d95635a657",
        "colab": {
          "base_uri": "https://localhost:8080/",
          "height": 323
        }
      },
      "cell_type": "code",
      "source": [
        "from keras.models import Sequential, Input, Model\n",
        "from keras.layers import Dense\n",
        "from keras.layers import SimpleRNN, LSTM, GRU\n",
        "from keras.layers.embeddings import Embedding\n",
        "\n",
        "NUM_CLASSES=3\n",
        "EMBED_SIZE = 250\n",
        "input_holder = Input(shape=(X_train.shape[1], ))\n",
        "input_embed = Embedding(top_words, # input dimension (max int of OHE)\n",
        "                EMBED_SIZE, # output dimension size\n",
        "                input_length=MAX_ART_LEN)(input_holder) # number of words in each sequence\n",
        "\n",
        "\n",
        "#MODEL WITH SECOND CHAIN\n",
        "x = LSTM(100,dropout=0.4, recurrent_dropout=0.2,return_sequences=True)(input_embed)\n",
        "x = LSTM(50,dropout=0.4, recurrent_dropout=0.2)(x)\n",
        "x = Dense(NUM_CLASSES, activation='sigmoid')(x)\n",
        "rnn2_2_=Model(inputs=input_holder,outputs=x)\n",
        "rnn2_2_.compile(loss='categorical_crossentropy', \n",
        "              optimizer='rmsprop', \n",
        "              metrics=['accuracy',f1])   #add in f score\n",
        "\n",
        "print(rnn2_2_.summary())"
      ],
      "execution_count": 0,
      "outputs": [
        {
          "output_type": "stream",
          "text": [
            "_________________________________________________________________\n",
            "Layer (type)                 Output Shape              Param #   \n",
            "=================================================================\n",
            "input_21 (InputLayer)        (None, 36)                0         \n",
            "_________________________________________________________________\n",
            "embedding_21 (Embedding)     (None, 36, 250)           3942000   \n",
            "_________________________________________________________________\n",
            "lstm_9 (LSTM)                (None, 36, 100)           140400    \n",
            "_________________________________________________________________\n",
            "lstm_10 (LSTM)               (None, 50)                30200     \n",
            "_________________________________________________________________\n",
            "dense_21 (Dense)             (None, 3)                 153       \n",
            "=================================================================\n",
            "Total params: 4,112,753\n",
            "Trainable params: 4,112,753\n",
            "Non-trainable params: 0\n",
            "_________________________________________________________________\n",
            "None\n"
          ],
          "name": "stdout"
        }
      ]
    },
    {
      "metadata": {
        "id": "Gs_2CkVCo2bh",
        "colab_type": "code",
        "outputId": "83b8ccc3-c359-472f-89f0-8a5366acf30f",
        "colab": {
          "base_uri": "https://localhost:8080/",
          "height": 136
        }
      },
      "cell_type": "code",
      "source": [
        "history_rnn2_2_=rnn2_2_.fit(X_train, y_train_ohe, validation_data=(X_test, y_test_ohe), epochs=3, batch_size=64)"
      ],
      "execution_count": 0,
      "outputs": [
        {
          "output_type": "stream",
          "text": [
            "Train on 9761 samples, validate on 4879 samples\n",
            "Epoch 1/3\n",
            "9761/9761 [==============================] - 48s 5ms/step - loss: 0.7072 - acc: 0.6933 - f1: 0.5566 - val_loss: 0.8007 - val_acc: 0.6897 - val_f1: 0.4535\n",
            "Epoch 2/3\n",
            "9761/9761 [==============================] - 41s 4ms/step - loss: 0.5152 - acc: 0.7932 - f1: 0.7045 - val_loss: 0.8883 - val_acc: 0.7333 - val_f1: 0.5146\n",
            "Epoch 3/3\n",
            "9761/9761 [==============================] - 41s 4ms/step - loss: 0.4039 - acc: 0.8470 - f1: 0.7690 - val_loss: 0.9533 - val_acc: 0.7401 - val_f1: 0.5081\n"
          ],
          "name": "stdout"
        }
      ]
    },
    {
      "metadata": {
        "id": "wgVlY3auo4tq",
        "colab_type": "code",
        "colab": {}
      },
      "cell_type": "code",
      "source": [
        "#function to plot history of the model\n",
        "\n",
        "#source code from https://www.tensorflow.org/tutorials/keras/basic_regression?fbclid=IwAR1qVx-2N7V32MwLwws5wZf6QBW5WVlpBa-JXS262kLo8hOEPFH1Bue1GKY\n",
        "import matplotlib.pyplot as plt\n",
        "\n",
        "def plot_history(history):\n",
        "  plt.figure(figsize=(12,4))\n",
        "  plt.subplot(1,3,1)\n",
        "  plt.xlabel('Epoch')\n",
        "  plt.ylabel('Accuracy')\n",
        "  plt.plot(history.epoch, np.array(history.history['acc']),\n",
        "           label='Train ')\n",
        "  plt.plot(history.epoch, np.array(history.history['val_acc']),\n",
        "           label = 'Val ')\n",
        "  plt.legend()\n",
        "  \n",
        "  plt.subplot(1,3,2)\n",
        "  plt.xlabel('Epoch')\n",
        "  plt.ylabel('F1 score')\n",
        "  plt.plot(history.epoch, np.array(history.history['f1']),\n",
        "           label = 'Train')\n",
        "  plt.plot(history.epoch, np.array(history.history['val_f1']),\n",
        "           label = 'Val ')\n",
        "  plt.legend()\n",
        "  \n",
        "  plt.subplot(1,3,3)\n",
        "  plt.xlabel('Epoch')\n",
        "  plt.ylabel('MSE Loss')\n",
        "  plt.plot(history.epoch, np.array(history.history['loss']),\n",
        "           label = 'Train')\n",
        "  plt.plot(history.epoch, np.array(history.history['val_loss']),\n",
        "           label = 'Val ')\n",
        "  plt.legend()\n",
        "  \n",
        "\n"
      ],
      "execution_count": 0,
      "outputs": []
    },
    {
      "metadata": {
        "id": "q3khuwlIo7Xx",
        "colab_type": "code",
        "outputId": "a44069fc-cfc0-4aea-9d7c-624afbd026b9",
        "colab": {
          "base_uri": "https://localhost:8080/",
          "height": 645
        }
      },
      "cell_type": "code",
      "source": [
        "#visualize the last fold\n",
        "plot_history(history_rnn2_2_)\n",
        "summarize_net(rnn2_2_, X_test, y_test, title_text='RNN with second chain:')"
      ],
      "execution_count": 0,
      "outputs": [
        {
          "output_type": "stream",
          "text": [
            "F1_score: 0.619\n",
            "Accuracy: 0.74\n"
          ],
          "name": "stdout"
        },
        {
          "output_type": "display_data",
          "data": {
            "image/png": "[encoded data removed]",
            "text/plain": [
              "<matplotlib.figure.Figure at 0x7f8c48fd3278>"
            ]
          },
          "metadata": {
            "tags": []
          }
        },
        {
          "output_type": "display_data",
          "data": {
            "image/png": "[encoded data removed]",
            "text/plain": [
              "<matplotlib.figure.Figure at 0x7f8c48fd3080>"
            ]
          },
          "metadata": {
            "tags": []
          }
        }
      ]
    },
    {
      "metadata": {
        "id": "3UcDNSZKP3wL",
        "colab_type": "text"
      },
      "cell_type": "markdown",
      "source": [
        "This chained model appears to have similar performance to the LSTM model without the second chain.  However, the LSTM without the second chain was able to correctly classify more positive tweets than this model."
      ]
    },
    {
      "metadata": {
        "id": "2KoZr9U5hT9Y",
        "colab_type": "text"
      },
      "cell_type": "markdown",
      "source": [
        "# Cross Validation"
      ]
    },
    {
      "metadata": {
        "id": "AlOIrpl20OUp",
        "colab_type": "text"
      },
      "cell_type": "markdown",
      "source": [
        "**[20 points] Use the method of cross validation and evaluation criteria that you argued for at the beginning of the lab. Visualize the results of all the RNNs you trained.  Use proper statistical comparison techniques to determine which method(s) is (are) superior.  **"
      ]
    },
    {
      "metadata": {
        "id": "-uQBrgoaoaJB",
        "colab_type": "code",
        "colab": {}
      },
      "cell_type": "code",
      "source": [
        "#Visualize results of all RNNs\n",
        "from sklearn import metrics as mt\n",
        "from matplotlib import pyplot as plt\n",
        "from skimage.io import imshow\n",
        "import seaborn as sns\n",
        "%matplotlib inline\n",
        "\n",
        "def compare_rnns(rnn, X_test, y_test, index, title_text=''):\n",
        "  yhat_rnn = np.argmax(rnn.predict(X_test), axis=1)\n",
        "  acc_rnn = mt.accuracy_score(y_test,yhat_rnn)\n",
        "  f1_rnn = mt.f1_score(y_test, yhat_rnn, average='macro')\n",
        "  plt.subplot(3,2,index)\n",
        "  cm = mt.confusion_matrix(y_test,yhat_rnn)\n",
        "  cm = cm/np.sum(cm,axis=1)[:,np.newaxis]\n",
        "  sns.heatmap(cm, annot=True, fmt='.2f')\n",
        "  plt.title(title_text +'\\nF1_score: ' + str(np.round(f1_rnn, 3)))"
      ],
      "execution_count": 0,
      "outputs": []
    },
    {
      "metadata": {
        "id": "WukZNVotoasv",
        "colab_type": "code",
        "outputId": "020fca4a-5603-4b2f-dd58-57c2dbcf4219",
        "colab": {
          "base_uri": "https://localhost:8080/",
          "height": 620
        }
      },
      "cell_type": "code",
      "source": [
        "plt.figure(figsize=(15,10))\n",
        "plt.subplots_adjust(hspace=0.4)\n",
        "compare_rnns(rnn1, X_test, y_test, 1, 'GRU v.1' )\n",
        "compare_rnns(rnn1_2, X_test, y_test, 2, 'GRU v.2')\n",
        "compare_rnns(rnn2, X_test, y_test, 3, 'LSTM v.1')\n",
        "compare_rnns(rnn2_2, X_test, y_test, 4, 'LSTM v.2')\n",
        "compare_rnns(rnn2_2_, X_test, y_test, 5, 'LSTM with 2nd chain')"
      ],
      "execution_count": 0,
      "outputs": [
        {
          "output_type": "display_data",
          "data": {
            "image/png": "[encoded data removed]",
            "text/plain": [
              "<matplotlib.figure.Figure at 0x7f8c48e8a940>"
            ]
          },
          "metadata": {
            "tags": []
          }
        }
      ]
    },
    {
      "metadata": {
        "id": "JfjJlzl1Q-vT",
        "colab_type": "text"
      },
      "cell_type": "markdown",
      "source": [
        "LSTM v.2 and the LSTM with the second chain appear to have the best performance based on the F1 score.  All models appear to have good performance when classifying negative tweets but poor performance classifying positive and neutral tweets. "
      ]
    },
    {
      "metadata": {
        "id": "TALRWXBBhzwP",
        "colab_type": "code",
        "outputId": "5f4bdb4a-8215-41fa-9b84-b25e1c27b39f",
        "colab": {
          "base_uri": "https://localhost:8080/",
          "height": 34
        }
      },
      "cell_type": "code",
      "source": [
        "#using cv to compare performance\n",
        "\n",
        "from sklearn.model_selection import StratifiedKFold, StratifiedShuffleSplit\n",
        "\n",
        "skf = StratifiedKFold(n_splits=3,  random_state=1)\n",
        "skf.get_n_splits(X,y_int)\n",
        "\n",
        "print(skf)\n",
        "X_train_list, X_test_list,y_train_ohe_list, y_test_ohe_list, y_train_list, y_test_list = [], [], [],[],[],[]\n",
        "for train_index, test_index in skf.split(X,y_int):\n",
        "    X_train, X_test = X[train_index], X[test_index]    \n",
        "    y_train, y_test = y_int[train_index], y_int[test_index]\n",
        "    y_train_ohe, y_test_ohe = y_ohe[train_index], y_ohe[test_index]\n",
        "  \n",
        "    \n",
        " \n",
        "    X_train_list.append(X_train)\n",
        "    X_test_list.append(X_test)\n",
        "    y_train_ohe_list.append(y_train_ohe)\n",
        "    y_test_ohe_list.append(y_test_ohe)\n",
        "    y_train_list.append(y_train)\n",
        "    y_test_list.append(y_test)"
      ],
      "execution_count": 0,
      "outputs": [
        {
          "output_type": "stream",
          "text": [
            "StratifiedKFold(n_splits=3, random_state=1, shuffle=False)\n"
          ],
          "name": "stdout"
        }
      ]
    },
    {
      "metadata": {
        "id": "izZ2q-8lhkWU",
        "colab_type": "code",
        "colab": {}
      },
      "cell_type": "code",
      "source": [
        "#MODEL 1 \n",
        "def rnn1_model():\n",
        "  from keras.models import Sequential, Input, Model\n",
        "  from keras.layers import Dense\n",
        "  from keras.layers import SimpleRNN, LSTM, GRU\n",
        "  from keras.layers.embeddings import Embedding\n",
        "\n",
        "  NUM_CLASSES=3\n",
        "  EMBED_SIZE = 50\n",
        "  input_holder = Input(shape=(X_train.shape[1], ))\n",
        "  input_embed = Embedding(top_words, # input dimension (max int of OHE)\n",
        "                  EMBED_SIZE, # output dimension size\n",
        "                  input_length=MAX_ART_LEN)(input_holder) # number of words in each sequence\n",
        "\n",
        "\n",
        "  #MODEL 1 = GRU\n",
        "  x = GRU(25,dropout=0.2, recurrent_dropout=0.2)(input_embed)\n",
        "  x = Dense(NUM_CLASSES, activation='sigmoid')(x)\n",
        "  rnn1=Model(inputs=input_holder,outputs=x)\n",
        "  return rnn1\n"
      ],
      "execution_count": 0,
      "outputs": []
    },
    {
      "metadata": {
        "id": "xLDA5-KJip_Y",
        "colab_type": "code",
        "colab": {}
      },
      "cell_type": "code",
      "source": [
        "#MODEL 2 IS VERSION 2 OF GRU\n",
        "\n",
        "def rnn1_2model():\n",
        "  #version 2 with 100 embedding dim and 25 state vectors\n",
        "  NUM_CLASSES=3\n",
        "  EMBED_SIZE = 100\n",
        "  input_holder = Input(shape=(X_train.shape[1], ))\n",
        "  input_embed = Embedding(top_words, # input dimension (max int of OHE)\n",
        "                  EMBED_SIZE, # output dimension size\n",
        "                  input_length=MAX_ART_LEN)(input_holder) # number of words in each sequence\n",
        "\n",
        "\n",
        "  #MODEL 1  = GRU\n",
        "  x = GRU(25,dropout=0.2, recurrent_dropout=0.2)(input_embed)\n",
        "  x = Dense(NUM_CLASSES, activation='sigmoid')(x)\n",
        "  rnn1_2=Model(inputs=input_holder,outputs=x)\n",
        "  return rnn1_2"
      ],
      "execution_count": 0,
      "outputs": []
    },
    {
      "metadata": {
        "id": "97ZSBm-kcF4h",
        "colab_type": "code",
        "colab": {}
      },
      "cell_type": "code",
      "source": [
        "#MODEL 3 = LSTM\n",
        "def rnn2_model():\n",
        "  from keras.models import Sequential, Input, Model\n",
        "  from keras.layers import Dense\n",
        "  from keras.layers import LSTM, GRU\n",
        "  from keras.layers.embeddings import Embedding\n",
        "\n",
        "  NUM_CLASSES=3\n",
        "  EMBED_SIZE = 50\n",
        "  input_holder = Input(shape=(X_train.shape[1], ))\n",
        "  input_embed = Embedding(top_words, # input dimension (max int of OHE)\n",
        "                  EMBED_SIZE, # output dimension size\n",
        "                  input_length=MAX_ART_LEN)(input_holder) # number of words in each sequence\n",
        "\n",
        "\n",
        "  x = LSTM(25,dropout=0.2, recurrent_dropout=0.2)(input_embed)\n",
        "  x = Dense(NUM_CLASSES, activation='sigmoid')(x)\n",
        "  rnn2=Model(inputs=input_holder,outputs=x)\n",
        "  return rnn2"
      ],
      "execution_count": 0,
      "outputs": []
    },
    {
      "metadata": {
        "id": "0xR7K7rOjJ7j",
        "colab_type": "code",
        "colab": {}
      },
      "cell_type": "code",
      "source": [
        "#MODEL 4 IS VERSION 2 OF LSTM\n",
        "def rnn2_2model():\n",
        "  from keras.models import Sequential, Input, Model\n",
        "  from keras.layers import Dense\n",
        "  from keras.layers import LSTM, GRU\n",
        "  from keras.layers.embeddings import Embedding\n",
        "\n",
        "  #version 2\n",
        "  NUM_CLASSES=3\n",
        "  EMBED_SIZE = 250\n",
        "  input_holder = Input(shape=(X_train.shape[1], ))\n",
        "  input_embed = Embedding(top_words, # input dimension (max int of OHE)\n",
        "                  EMBED_SIZE, # output dimension size\n",
        "                  input_length=MAX_ART_LEN)(input_holder) # number of words in each sequence\n",
        "\n",
        "\n",
        "  x = LSTM(100,dropout=0.4, recurrent_dropout=0.2)(input_embed)  #change dropout?\n",
        "  x = Dense(NUM_CLASSES, activation='softmax')(x)\n",
        "  rnn2_2=Model(inputs=input_holder,outputs=x)\n",
        "  return rnn2_2\n"
      ],
      "execution_count": 0,
      "outputs": []
    },
    {
      "metadata": {
        "id": "e0h86JqL2f2K",
        "colab_type": "code",
        "colab": {}
      },
      "cell_type": "code",
      "source": [
        "#MODEL 5 IS VERSION 2 OF LSTM WITH SECOND CHAIN\n",
        "def rnn2_2_model():\n",
        "  \n",
        "  from keras.models import Sequential, Input, Model\n",
        "  from keras.layers import Dense\n",
        "  from keras.layers import SimpleRNN, LSTM, GRU\n",
        "  from keras.layers.embeddings import Embedding\n",
        "\n",
        "  NUM_CLASSES=3\n",
        "  EMBED_SIZE = 250\n",
        "  input_holder = Input(shape=(X_train.shape[1], ))\n",
        "  input_embed = Embedding(top_words, # input dimension (max int of OHE)\n",
        "                EMBED_SIZE, # output dimension size\n",
        "                input_length=MAX_ART_LEN)(input_holder) # number of words in each sequence\n",
        "\n",
        "\n",
        "  #MODEL WITH SECOND CHAIN\n",
        "  x = LSTM(100,dropout=0.4, recurrent_dropout=0.2,return_sequences=True)(input_embed)\n",
        "  x = LSTM(50,dropout=0.4, recurrent_dropout=0.2)(x)\n",
        "  x = Dense(NUM_CLASSES, activation='sigmoid')(x)\n",
        "  rnn2_2_=Model(inputs=input_holder,outputs=x)\n",
        "     #add in f score\n",
        "  return rnn2_2_\n"
      ],
      "execution_count": 0,
      "outputs": []
    },
    {
      "metadata": {
        "id": "M1yFqYL-9ck4",
        "colab_type": "code",
        "outputId": "7d8c096e-b42e-479a-d603-b9805f1450a0",
        "colab": {
          "base_uri": "https://localhost:8080/",
          "height": 1802
        }
      },
      "cell_type": "code",
      "source": [
        "from sklearn import metrics as mt\n",
        "f1_all=[]\n",
        "for func in [rnn1_model, rnn1_2model, rnn2_model, rnn2_2model, rnn2_2_model]:   \n",
        "  f1s=[]\n",
        "  for j in range(3):\n",
        "    mods = func()\n",
        "\n",
        "    # Let's train the model \n",
        "    mods.compile(loss='categorical_crossentropy', \n",
        "                optimizer='rmsprop', \n",
        "                metrics=['accuracy',f1]) \n",
        "\n",
        "    mods.fit(X_train_list[j], y_train_ohe_list[j], validation_data=(X_test_list[j], y_test_ohe_list[j]), epochs=3, batch_size=64)\n",
        "\n",
        "    yhat=np.argmax(mods.predict(X_test_list[j]), axis=1)\n",
        "    f1_s = mt.f1_score(np.array(y_test_list[j]), np.array(yhat), average='macro')\n",
        "    f1s.append(f1_s)\n",
        "    mods=()\n",
        "  f1_all.append(f1s)\n",
        "    \n",
        "  "
      ],
      "execution_count": 0,
      "outputs": [
        {
          "output_type": "stream",
          "text": [
            "Train on 9759 samples, validate on 4881 samples\n",
            "Epoch 1/3\n",
            "9759/9759 [==============================] - 24s 2ms/step - loss: 0.8035 - acc: 0.6695 - f1: 0.4620 - val_loss: 0.7043 - val_acc: 0.7015 - val_f1: 0.5610\n",
            "Epoch 2/3\n",
            "9759/9759 [==============================] - 17s 2ms/step - loss: 0.6102 - acc: 0.7519 - f1: 0.6402 - val_loss: 0.6593 - val_acc: 0.7296 - val_f1: 0.5909\n",
            "Epoch 3/3\n",
            "9759/9759 [==============================] - 17s 2ms/step - loss: 0.5406 - acc: 0.7909 - f1: 0.6752 - val_loss: 0.6535 - val_acc: 0.7367 - val_f1: 0.6123\n",
            "Train on 9760 samples, validate on 4880 samples\n",
            "Epoch 1/3\n",
            "9760/9760 [==============================] - 24s 2ms/step - loss: 0.8186 - acc: 0.6641 - f1: 0.4551 - val_loss: 0.6671 - val_acc: 0.7285 - val_f1: 0.4982\n",
            "Epoch 2/3\n",
            "9760/9760 [==============================] - 18s 2ms/step - loss: 0.6301 - acc: 0.7458 - f1: 0.6304 - val_loss: 0.6457 - val_acc: 0.7406 - val_f1: 0.5298\n",
            "Epoch 3/3\n",
            "9760/9760 [==============================] - 18s 2ms/step - loss: 0.5709 - acc: 0.7762 - f1: 0.6618 - val_loss: 0.6219 - val_acc: 0.7502 - val_f1: 0.5360\n",
            "Train on 9761 samples, validate on 4879 samples\n",
            "Epoch 1/3\n",
            "9761/9761 [==============================] - 24s 2ms/step - loss: 0.7833 - acc: 0.6742 - f1: 0.4782 - val_loss: 0.7950 - val_acc: 0.6907 - val_f1: 0.4612\n",
            "Epoch 2/3\n",
            "9761/9761 [==============================] - 17s 2ms/step - loss: 0.5892 - acc: 0.7494 - f1: 0.6476 - val_loss: 0.8539 - val_acc: 0.7028 - val_f1: 0.4584\n",
            "Epoch 3/3\n",
            "9761/9761 [==============================] - 18s 2ms/step - loss: 0.5367 - acc: 0.7776 - f1: 0.6750 - val_loss: 0.8707 - val_acc: 0.6975 - val_f1: 0.4694\n",
            "Train on 9759 samples, validate on 4881 samples\n",
            "Epoch 1/3\n",
            "9759/9759 [==============================] - 25s 3ms/step - loss: 0.7777 - acc: 0.6806 - f1: 0.4914 - val_loss: 0.6834 - val_acc: 0.7148 - val_f1: 0.5684\n",
            "Epoch 2/3\n",
            "9759/9759 [==============================] - 18s 2ms/step - loss: 0.5864 - acc: 0.7711 - f1: 0.6530 - val_loss: 0.6529 - val_acc: 0.7339 - val_f1: 0.6117\n",
            "Epoch 3/3\n",
            "9759/9759 [==============================] - 18s 2ms/step - loss: 0.5201 - acc: 0.8087 - f1: 0.6936 - val_loss: 0.6393 - val_acc: 0.7410 - val_f1: 0.6202\n",
            "Train on 9760 samples, validate on 4880 samples\n",
            "Epoch 1/3\n",
            "9760/9760 [==============================] - 25s 3ms/step - loss: 0.7943 - acc: 0.6754 - f1: 0.4790 - val_loss: 0.6721 - val_acc: 0.7367 - val_f1: 0.5224\n",
            "Epoch 2/3\n",
            "9760/9760 [==============================] - 17s 2ms/step - loss: 0.6020 - acc: 0.7635 - f1: 0.6478 - val_loss: 0.6230 - val_acc: 0.7500 - val_f1: 0.5335\n",
            "Epoch 3/3\n",
            "9760/9760 [==============================] - 18s 2ms/step - loss: 0.5385 - acc: 0.7899 - f1: 0.6848 - val_loss: 0.6124 - val_acc: 0.7545 - val_f1: 0.5427\n",
            "Train on 9761 samples, validate on 4879 samples\n",
            "Epoch 1/3\n",
            "9761/9761 [==============================] - 25s 3ms/step - loss: 0.7787 - acc: 0.6669 - f1: 0.4784 - val_loss: 0.7366 - val_acc: 0.6952 - val_f1: 0.4812\n",
            "Epoch 2/3\n",
            "9761/9761 [==============================] - 18s 2ms/step - loss: 0.5766 - acc: 0.7360 - f1: 0.6556 - val_loss: 0.8933 - val_acc: 0.6999 - val_f1: 0.4554\n",
            "Epoch 3/3\n",
            "9761/9761 [==============================] - 18s 2ms/step - loss: 0.5225 - acc: 0.7662 - f1: 0.6774 - val_loss: 0.9030 - val_acc: 0.7057 - val_f1: 0.4627\n",
            "Train on 9759 samples, validate on 4881 samples\n",
            "Epoch 1/3\n",
            "9759/9759 [==============================] - 29s 3ms/step - loss: 0.8316 - acc: 0.6534 - f1: 0.4146 - val_loss: 0.7322 - val_acc: 0.6822 - val_f1: 0.5332\n",
            "Epoch 2/3\n",
            "9759/9759 [==============================] - 21s 2ms/step - loss: 0.6365 - acc: 0.7277 - f1: 0.6148 - val_loss: 0.6691 - val_acc: 0.7212 - val_f1: 0.5838\n",
            "Epoch 3/3\n",
            "9759/9759 [==============================] - 21s 2ms/step - loss: 0.5581 - acc: 0.7746 - f1: 0.6640 - val_loss: 0.6489 - val_acc: 0.7470 - val_f1: 0.5960\n",
            "Train on 9760 samples, validate on 4880 samples\n",
            "Epoch 1/3\n",
            "9760/9760 [==============================] - 30s 3ms/step - loss: 0.8144 - acc: 0.6633 - f1: 0.4483 - val_loss: 0.7029 - val_acc: 0.7139 - val_f1: 0.5131\n",
            "Epoch 2/3\n",
            "9760/9760 [==============================] - 21s 2ms/step - loss: 0.6379 - acc: 0.7483 - f1: 0.6229 - val_loss: 0.6272 - val_acc: 0.7451 - val_f1: 0.5344\n",
            "Epoch 3/3\n",
            "9760/9760 [==============================] - 21s 2ms/step - loss: 0.5596 - acc: 0.7775 - f1: 0.6687 - val_loss: 0.6564 - val_acc: 0.7092 - val_f1: 0.5289\n",
            "Train on 9761 samples, validate on 4879 samples\n",
            "Epoch 1/3\n",
            "9761/9761 [==============================] - 29s 3ms/step - loss: 0.7854 - acc: 0.6721 - f1: 0.4499 - val_loss: 0.7750 - val_acc: 0.6739 - val_f1: 0.4508\n",
            "Epoch 2/3\n",
            "9761/9761 [==============================] - 21s 2ms/step - loss: 0.6136 - acc: 0.7299 - f1: 0.6375 - val_loss: 0.8386 - val_acc: 0.6751 - val_f1: 0.4514\n",
            "Epoch 3/3\n",
            "9761/9761 [==============================] - 21s 2ms/step - loss: 0.5454 - acc: 0.7500 - f1: 0.6737 - val_loss: 0.8709 - val_acc: 0.6755 - val_f1: 0.4611\n",
            "Train on 9759 samples, validate on 4881 samples\n",
            "Epoch 1/3\n",
            "9759/9759 [==============================] - 30s 3ms/step - loss: 0.6841 - acc: 0.7150 - f1: 0.3942 - val_loss: 0.6391 - val_acc: 0.7359 - val_f1: 0.4738\n",
            "Epoch 2/3\n",
            "9759/9759 [==============================] - 22s 2ms/step - loss: 0.4747 - acc: 0.8151 - f1: 0.7095 - val_loss: 0.5596 - val_acc: 0.7771 - val_f1: 0.6295\n",
            "Epoch 3/3\n",
            "9759/9759 [==============================] - 21s 2ms/step - loss: 0.3860 - acc: 0.8564 - f1: 0.7911 - val_loss: 0.5637 - val_acc: 0.7769 - val_f1: 0.6435\n",
            "Train on 9760 samples, validate on 4880 samples\n",
            "Epoch 1/3\n",
            "9760/9760 [==============================] - 31s 3ms/step - loss: 0.7131 - acc: 0.7016 - f1: 0.3573 - val_loss: 0.6142 - val_acc: 0.7232 - val_f1: 0.4530\n",
            "Epoch 2/3\n",
            "9760/9760 [==============================] - 22s 2ms/step - loss: 0.4840 - acc: 0.8112 - f1: 0.7009 - val_loss: 0.5420 - val_acc: 0.7795 - val_f1: 0.5873\n",
            "Epoch 3/3\n",
            "9760/9760 [==============================] - 21s 2ms/step - loss: 0.4003 - acc: 0.8462 - f1: 0.7844 - val_loss: 0.5873 - val_acc: 0.7576 - val_f1: 0.5813\n",
            "Train on 9761 samples, validate on 4879 samples\n",
            "Epoch 1/3\n",
            "9761/9761 [==============================] - 31s 3ms/step - loss: 0.6802 - acc: 0.7173 - f1: 0.3905 - val_loss: 0.8877 - val_acc: 0.7079 - val_f1: 0.3881\n",
            "Epoch 2/3\n",
            "9761/9761 [==============================] - 22s 2ms/step - loss: 0.4691 - acc: 0.8162 - f1: 0.7128 - val_loss: 0.7470 - val_acc: 0.7499 - val_f1: 0.5323\n",
            "Epoch 3/3\n",
            "9761/9761 [==============================] - 22s 2ms/step - loss: 0.3791 - acc: 0.8558 - f1: 0.7916 - val_loss: 0.7426 - val_acc: 0.7504 - val_f1: 0.5522\n",
            "Train on 9759 samples, validate on 4881 samples\n",
            "Epoch 1/3\n",
            "9759/9759 [==============================] - 52s 5ms/step - loss: 0.7128 - acc: 0.6906 - f1: 0.5594 - val_loss: 0.6723 - val_acc: 0.7083 - val_f1: 0.5967\n",
            "Epoch 2/3\n",
            "9759/9759 [==============================] - 41s 4ms/step - loss: 0.5302 - acc: 0.7899 - f1: 0.6996 - val_loss: 0.5902 - val_acc: 0.7664 - val_f1: 0.6468\n",
            "Epoch 3/3\n",
            "9759/9759 [==============================] - 41s 4ms/step - loss: 0.4197 - acc: 0.8411 - f1: 0.7699 - val_loss: 0.5835 - val_acc: 0.7746 - val_f1: 0.6253\n",
            "Train on 9760 samples, validate on 4880 samples\n",
            "Epoch 1/3\n",
            "9760/9760 [==============================] - 53s 5ms/step - loss: 0.7305 - acc: 0.6893 - f1: 0.5441 - val_loss: 0.8168 - val_acc: 0.6035 - val_f1: 0.5022\n",
            "Epoch 2/3\n",
            "9760/9760 [==============================] - 41s 4ms/step - loss: 0.5416 - acc: 0.7801 - f1: 0.6905 - val_loss: 0.5930 - val_acc: 0.7574 - val_f1: 0.5687\n",
            "Epoch 3/3\n",
            "9760/9760 [==============================] - 41s 4ms/step - loss: 0.4330 - acc: 0.8355 - f1: 0.7537 - val_loss: 0.5437 - val_acc: 0.7861 - val_f1: 0.5729\n",
            "Train on 9761 samples, validate on 4879 samples\n",
            "Epoch 1/3\n",
            "9761/9761 [==============================] - 53s 5ms/step - loss: 0.7225 - acc: 0.6889 - f1: 0.5332 - val_loss: 0.8283 - val_acc: 0.7153 - val_f1: 0.4725\n",
            "Epoch 2/3\n",
            "9761/9761 [==============================] - 41s 4ms/step - loss: 0.5159 - acc: 0.7987 - f1: 0.7028 - val_loss: 0.7704 - val_acc: 0.7323 - val_f1: 0.5032\n",
            "Epoch 3/3\n",
            "9761/9761 [==============================] - 41s 4ms/step - loss: 0.4051 - acc: 0.8443 - f1: 0.7470 - val_loss: 0.8713 - val_acc: 0.7420 - val_f1: 0.4890\n"
          ],
          "name": "stdout"
        }
      ]
    },
    {
      "metadata": {
        "id": "uBtT3xRtWett",
        "colab_type": "text"
      },
      "cell_type": "markdown",
      "source": [
        "F1 scores for each fold per model:"
      ]
    },
    {
      "metadata": {
        "id": "vRlsP1FtolI_",
        "colab_type": "code",
        "outputId": "2f28c718-1914-4483-a2aa-c8f225ffaa0d",
        "colab": {
          "base_uri": "https://localhost:8080/",
          "height": 102
        }
      },
      "cell_type": "code",
      "source": [
        "f1_all"
      ],
      "execution_count": 0,
      "outputs": [
        {
          "output_type": "execute_result",
          "data": {
            "text/plain": [
              "[[0.6127476684238476, 0.6424716485176046, 0.5055094762152547],\n",
              " [0.6169779131014446, 0.6483842805541041, 0.527882273615396],\n",
              " [0.6175938373269237, 0.611662296603991, 0.3954258503315451],\n",
              " [0.6881333136664062, 0.7151060157822339, 0.6541826319259302],\n",
              " [0.6745638092988834, 0.7250202104219663, 0.6232070527359829]]"
            ]
          },
          "metadata": {
            "tags": []
          },
          "execution_count": 98
        }
      ]
    },
    {
      "metadata": {
        "id": "_U_m4LptEpHq",
        "colab_type": "code",
        "outputId": "3775961f-6bdc-486f-d2f6-a78f2b542660",
        "colab": {
          "base_uri": "https://localhost:8080/",
          "height": 266
        }
      },
      "cell_type": "code",
      "source": [
        "ax=sns.heatmap(f1_all,yticklabels=[\"Model: 1\",2,3,4,5], xticklabels=[\"fold: 1\", 2, 3], annot=True)\n",
        "plt.yticks(rotation=0)\n",
        "plt.show()"
      ],
      "execution_count": 0,
      "outputs": [
        {
          "output_type": "display_data",
          "data": {
            "image/png": "[encoded data removed]",
            "text/plain": [
              "<matplotlib.figure.Figure at 0x7f8c388ce9b0>"
            ]
          },
          "metadata": {
            "tags": []
          }
        }
      ]
    },
    {
      "metadata": {
        "id": "KnCb3ipkIZDL",
        "colab_type": "code",
        "outputId": "b3b9303e-75b2-49a8-b3a5-53f8f59f9368",
        "colab": {
          "base_uri": "https://localhost:8080/",
          "height": 102
        }
      },
      "cell_type": "code",
      "source": [
        "for i in range(len(f1_all)): \n",
        "  m=np.mean(f1_all[i])\n",
        "  sd=np.std(f1_all[i])\n",
        "  print('Model '+str(i+1)+': mean = '+str(np.round(m,4))+' std = '+str(np.round(sd,4)))"
      ],
      "execution_count": 0,
      "outputs": [
        {
          "output_type": "stream",
          "text": [
            "Model 1: mean = 0.5869 std = 0.0588\n",
            "Model 2: mean = 0.5977 std = 0.051\n",
            "Model 3: mean = 0.5416 std = 0.1034\n",
            "Model 4: mean = 0.6858 std = 0.0249\n",
            "Model 5: mean = 0.6743 std = 0.0416\n"
          ],
          "name": "stdout"
        }
      ]
    },
    {
      "metadata": {
        "id": "edjPwcPzWl-6",
        "colab_type": "text"
      },
      "cell_type": "markdown",
      "source": [
        "Statistical tests on the models:"
      ]
    },
    {
      "metadata": {
        "id": "GURICgZECj7M",
        "colab_type": "code",
        "colab": {}
      },
      "cell_type": "code",
      "source": [
        "#setting up for multiple comparisons\n",
        "#source: http://cleverowl.uk/2015/07/01/using-one-way-anova-and-tukeys-test-to-compare-data-sets/\n",
        "\n",
        "import numpy as np\n",
        "f1_all2=np.asarray(f1_all)\n",
        "\n",
        "ms=['M1', 'M2','M3','M4','M5']\n",
        "\n",
        "datas=[]\n",
        "for i in range(len(ms)):\n",
        "  for j in range(3):\n",
        "    #print(f1_all2[i,j])\n",
        "    d=ms[i], f1_all2[i,j]\n",
        "    datas.append(d)\n",
        "    \n",
        "datas=np.rec.array(datas, dtype=[('Model','|U2'),('F1-Score','<f8')])"
      ],
      "execution_count": 0,
      "outputs": []
    },
    {
      "metadata": {
        "id": "Pe2N1aNvCqpi",
        "colab_type": "code",
        "outputId": "4567274c-7d6b-4f83-9805-e4676e9c5e99",
        "colab": {
          "base_uri": "https://localhost:8080/",
          "height": 289
        }
      },
      "cell_type": "code",
      "source": [
        "#using multiple comparison with Tukey correction\n",
        "#source: http://cleverowl.uk/2015/07/01/using-one-way-anova-and-tukeys-test-to-compare-data-sets/\n",
        "\n",
        "from statsmodels.stats.multicomp import pairwise_tukeyhsd\n",
        "from statsmodels.stats.multicomp import MultiComparison\n",
        "\n",
        "mc = MultiComparison(datas['F1-Score'], datas['Model'])\n",
        "result = mc.tukeyhsd()\n",
        " \n",
        "print(result)\n",
        "print(mc.groupsunique)"
      ],
      "execution_count": 0,
      "outputs": [
        {
          "output_type": "stream",
          "text": [
            "Multiple Comparison of Means - Tukey HSD,FWER=0.05\n",
            "============================================\n",
            "group1 group2 meandiff  lower  upper  reject\n",
            "--------------------------------------------\n",
            "  M1     M2    0.0108  -0.1926 0.2143 False \n",
            "  M1     M3   -0.0453  -0.2488 0.1581 False \n",
            "  M1     M4    0.0989  -0.1045 0.3023 False \n",
            "  M1     M5    0.0874  -0.1161 0.2908 False \n",
            "  M2     M3   -0.0562  -0.2596 0.1473 False \n",
            "  M2     M4    0.0881  -0.1154 0.2915 False \n",
            "  M2     M5    0.0765  -0.1269  0.28  False \n",
            "  M3     M4    0.1442  -0.0592 0.3477 False \n",
            "  M3     M5    0.1327  -0.0707 0.3361 False \n",
            "  M4     M5   -0.0115   -0.215 0.1919 False \n",
            "--------------------------------------------\n",
            "['M1' 'M2' 'M3' 'M4' 'M5']\n"
          ],
          "name": "stdout"
        }
      ]
    },
    {
      "metadata": {
        "id": "lZWVZYCs9fBN",
        "colab_type": "code",
        "colab": {}
      },
      "cell_type": "code",
      "source": [
        "#Import mlxtend\n",
        "\n",
        "!pip install -q mlxtend"
      ],
      "execution_count": 0,
      "outputs": []
    },
    {
      "metadata": {
        "id": "xwY5WTsCh3Vs",
        "colab_type": "code",
        "colab": {}
      },
      "cell_type": "code",
      "source": [
        "#Code from http://rasbt.github.io/mlxtend/user_guide/evaluate/mcnemar/\n",
        "\n",
        "#McNemar Test\n",
        "\n",
        "import numpy as np\n",
        "from mlxtend.evaluate import mcnemar_table\n",
        "from mlxtend.evaluate import mcnemar\n",
        "from mlxtend.plotting import checkerboard_plot\n",
        "import matplotlib.pyplot as plt\n",
        "\n",
        "def mcnemar_rnns(rnn1, rnn2, title_text1='', title_text2=''):\n",
        "\n",
        "  # Class labels predicted by model 1\n",
        "  yhat_rnn1 = np.argmax(rnn1.predict(X_test), axis=1)\n",
        "\n",
        "  # Class labels predicted by model 2\n",
        "  yhat_rnn2 = np.argmax(rnn2.predict(X_test), axis=1)\n",
        "\n",
        "  tb = mcnemar_table(y_target=y_test, \n",
        "                     y_model1=yhat_rnn1, \n",
        "                     y_model2=yhat_rnn2)\n",
        "\n",
        "  chi2, p = mcnemar(ary=tb, corrected=True)\n",
        "  print('chi-squared:', chi2)\n",
        "  print('p-value:', p)\n",
        "  \n",
        "  brd = checkerboard_plot(tb,\n",
        "                          figsize=(5, 5),\n",
        "                          fmt='%d',\n",
        "                          col_labels=[title_text1 + ' right', title_text1 + ' wrong'],\n",
        "                          row_labels=[title_text2 + ' right', title_text2 + ' wrong'])\n",
        "  plt.show()"
      ],
      "execution_count": 0,
      "outputs": []
    },
    {
      "metadata": {
        "id": "sYZdY8Dz9lHO",
        "colab_type": "code",
        "outputId": "ac3c6be1-9102-4d21-b50c-93de6f01c279",
        "colab": {
          "base_uri": "https://localhost:8080/",
          "height": 422
        }
      },
      "cell_type": "code",
      "source": [
        "mcnemar_rnns(rnn2_2, rnn2_2_, 'LSTM v.2', 'Chained LSTM')"
      ],
      "execution_count": 0,
      "outputs": [
        {
          "output_type": "stream",
          "text": [
            "chi-squared: 2.3622047244094486\n",
            "p-value: 0.12430639675215277\n"
          ],
          "name": "stdout"
        },
        {
          "output_type": "display_data",
          "data": {
            "image/png": "[encoded data removed]",
            "text/plain": [
              "<matplotlib.figure.Figure at 0x7f8c388d7400>"
            ]
          },
          "metadata": {
            "tags": []
          }
        }
      ]
    },
    {
      "metadata": {
        "id": "HofoM8bVQNcR",
        "colab_type": "text"
      },
      "cell_type": "markdown",
      "source": [
        "We calculated the averages of the macro f1 scores from the cross validation for five models. We found that Model 4 and Model 5 tend to have higher f1 scores. From the Tukey Multiple Comparison of the Means Test, we failed to reject null hypothesis that the mean performance of each pair of models are the same. So we cannot say that any of the models is statistically better. Also, the result from the McNemar Test of models 4 and 5 is not significant. We chose to use the McNemar Test only on these models since they were the best perfoming. We concluded that the difference between these models is not statistically significant which agrees with what we found in our multiple comparison tests. \n",
        "\n",
        "If we were to choose a \"best\" model, it would be Model 4 (LSTM with 250 embedding size and 100 state vectors) since it has one of the higher f1 scores and is able to classify more positive tweets. Overall, we would not choose to deploy any of these models since they are only good at capturing which tweets are negative. "
      ]
    },
    {
      "metadata": {
        "id": "MwCqnMYe0QXE",
        "colab_type": "text"
      },
      "cell_type": "markdown",
      "source": [
        "# Exceptional Work (10 points total)"
      ]
    },
    {
      "metadata": {
        "id": "3tebo6qu0aMw",
        "colab_type": "text"
      },
      "cell_type": "markdown",
      "source": [
        "**One idea (required for 7000 level students): Use t-SNE (or SVD) to visualize the word embeddings of a subset of words in your vocabulary. Try to interpret what each dimension reflects (in your own words). That is, try to explain what aspect of the language is encoded in the reduced dimensionality embedding. **"
      ]
    },
    {
      "metadata": {
        "id": "17aEhZa2B9Yz",
        "colab_type": "text"
      },
      "cell_type": "markdown",
      "source": [
        "We did the 500*4 face ratings as an alternative. "
      ]
    }
  ]
}