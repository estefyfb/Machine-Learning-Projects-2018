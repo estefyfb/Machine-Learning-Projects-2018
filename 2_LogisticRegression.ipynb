{
  "nbformat": 4,
  "nbformat_minor": 0,
  "metadata": {
    "colab": {
      "name": "LAB3.ipynb",
      "version": "0.3.2",
      "provenance": []
    },
    "kernelspec": {
      "name": "python3",
      "display_name": "Python 3"
    }
  },
  "cells": [
    {
      "metadata": {
        "id": "g9MB2WP8aZuY",
        "colab_type": "text"
      },
      "cell_type": "markdown",
      "source": [
        "# Lab Assignment Three: Extending Logistic Regression \n",
        "\n",
        "Group Members: Christina DeSantiago, Estefy Fiallos, Kaiying Li, Tianyu Li"
      ]
    },
    {
      "metadata": {
        "id": "62eM2r18afXG",
        "colab_type": "text"
      },
      "cell_type": "markdown",
      "source": [
        "In this lab, you will compare the performance of logistic regression optimization programmed in scikit-learn and via your own implementation. You will also modify the optimization procedure for logistic regression. \n",
        "\n"
      ]
    },
    {
      "metadata": {
        "id": "PwfF5lY1bDtL",
        "colab_type": "text"
      },
      "cell_type": "markdown",
      "source": [
        "**Preparation and Overview (30 points total)**\n",
        "\n",
        "[20 points] Explain the task and what business-case or use-case it is designed to solve (or designed to investigate). Detail exactly what the classification task is and what parties would be interested in the results. For example, would the model be deployed or use mostly for offline analysis? \n",
        "-----------------------------------------------------------------------------------------------------------\n",
        "For this lab, we chose the same dataset as lab one: Ames Housing Data. Our task is to classify houses into one of three price ranges based on the various attributes of the property (# of bedrooms, square footage, year built, etc). Our price ranges are labeled as 0, 1, 2 to represent a low, medium, and high price.\n",
        "\n",
        "For the buyers, it will be convenient for them to narrow down the house choices within their budget range by selecting the number of bedrooms and bathrooms, garage types and other features when they are in the house market.\n",
        "\n",
        "On the other hand, for sellers such as real estate or construction company, it is crucial to understand which type of houses or floor plan are more desirable in the market. Predicting the sales prices of different type of houses not only helps them optimize their asset acquisition or construction plan, it also leads to quicker asset turn over and smooth sales process. Ultimately a greater profit is achieved. It would also be important for a real estate company to predict the price range of a house specifically for meeting quotas. Sales representatives often have quotas to meet each business quarter for their sales. Understanding the predicted price range of a property will allow a sales rep to push more towards certain kinds of properties in order to meet these quotas. \n",
        "\n",
        "We envision that our model would be deployed, so that it provides predictions in real time and it's continually updated with new data. We would want our classification model to be used specifically for sellers. Therefore, it's important that the model be continually updated since housing prices change each year. If we were to use an offline model, our prediction of housing prices in the future would solely be based on the historical data. This is not good statistical practice for our data set because we only have information on the properties sold during 2006-2010. If we tried to use this offline model to predict the price range for a house currently on sale in Ames, Iowa we would be extrapolating for our classification. Also, using an offline model means that our method could quickly become irrelevant. We might be able to make accurate predictions for the test data but as time goes on and the market changes the perform will go down. For these reasons, we believe our classification task would be better as a deployed model and will be more relevant to sellers as such.\n",
        "\n",
        "\n",
        "\n"
      ]
    },
    {
      "metadata": {
        "id": "lEjBmDv_i6tg",
        "colab_type": "text"
      },
      "cell_type": "markdown",
      "source": [
        "## **[5 points] (mostly the same processes as from previous labs) Define and prepare your class variables. Use proper variable representations (int, float, one-hot, etc.). Use pre-processing methods (as needed) for dimensionality reduction, scaling, etc. Remove variables that are not needed/useful for the analysis. Describe the final dataset that is used for classification/regression (include a description of any newly formed variables you created). **"
      ]
    },
    {
      "metadata": {
        "id": "B2hB-sGLwdxl",
        "colab_type": "text"
      },
      "cell_type": "markdown",
      "source": [
        "We used our same dataset from lab one with a subset of 8 attributes: Gr Liv Area = Above ground living area (continuous), SalePrice = Sales price in dollars (continuous), Year built (discrete), Full Bath = number of full bathrooms (discrete), Bedroom AbvGr = number of bedrooms above ground (discrete), Garage Type (nominal), Lot frontage (continuous), Lot Area (continuous).\n",
        "\n",
        "We changed the Garage Type variable to be one-hot encoded, creating 7 new dummy variables for our data set. We used the same method of imputing missing values in Lot Frontage based on Lot Area. We also transformed our SalePrice variable into a Price_Range variable. Instead of having a continuous response variable, we now have a categorical response with 3 different levels of pricing so we can use multi level classification. We used the distribution of SalePrice, which we investigated in lab one, to determine how to split the prices into ranges. A house with sale price less than 130,000 dollars is assigned to the lowest price range \"0\" and houses with sale price above 210,000 dollars are assigned to the highest price range \"2\".\n",
        "\n",
        "Our final data set has 15 variables: 14 predictors (7 dummy variables for Garage Type + 7 previously defined variables) and 1 target variable.\n",
        "\n"
      ]
    },
    {
      "metadata": {
        "id": "DNRjTj5UU3iW",
        "colab_type": "code",
        "colab": {}
      },
      "cell_type": "code",
      "source": [
        "#import data\n",
        "\n",
        "#we import the dataset from the source given above\n",
        "import pandas as pd\n",
        "df2=pd.read_csv(\"https://ww2.amstat.org/publications/jse/v19n3/decock/AmesHousing.txt\", sep=\"\\t\")\n",
        "df2.head()\n",
        "\n",
        "#make a subset of the dataset only with the variables we are interested in\n",
        "to_keep=['Lot Frontage','Lot Area','Year Built', 'Gr Liv Area','Full Bath', 'Bedroom AbvGr','Garage Type', 'SalePrice']\n",
        "sub = df2[to_keep].copy()\n",
        "\n",
        "#check the data types and missing values\n",
        "sub.info()"
      ],
      "execution_count": 0,
      "outputs": []
    },
    {
      "metadata": {
        "id": "e03FbJ5OdUHI",
        "colab_type": "code",
        "colab": {}
      },
      "cell_type": "code",
      "source": [
        "#Change NA values in 'Garage Type' to No_Garage (since NA is described as no garage in data documentation)\n",
        "sub['Garage Type'].fillna(value='No_Garage', inplace= True)\n",
        "sub.info()"
      ],
      "execution_count": 0,
      "outputs": []
    },
    {
      "metadata": {
        "id": "K5INGokOfHs-",
        "colab_type": "code",
        "outputId": "9bcdf5ed-028d-4118-a173-b2501ab32387",
        "colab": {
          "base_uri": "https://localhost:8080/",
          "height": 204
        }
      },
      "cell_type": "code",
      "source": [
        "#one hot encoding for the Garage Type variable\n",
        "tmp = pd.get_dummies(sub['Garage Type'])\n",
        "result = pd.concat([sub, tmp],axis=1, join_axes=[sub.index])\n",
        "del result['Garage Type'] #delete since we have the dummy variables now\n",
        "result.head()"
      ],
      "execution_count": 0,
      "outputs": [
        {
          "output_type": "execute_result",
          "data": {
            "text/html": [
              "<div>\n",
              "<style scoped>\n",
              "    .dataframe tbody tr th:only-of-type {\n",
              "        vertical-align: middle;\n",
              "    }\n",
              "\n",
              "    .dataframe tbody tr th {\n",
              "        vertical-align: top;\n",
              "    }\n",
              "\n",
              "    .dataframe thead th {\n",
              "        text-align: right;\n",
              "    }\n",
              "</style>\n",
              "<table border=\"1\" class=\"dataframe\">\n",
              "  <thead>\n",
              "    <tr style=\"text-align: right;\">\n",
              "      <th></th>\n",
              "      <th>Lot Frontage</th>\n",
              "      <th>Lot Area</th>\n",
              "      <th>Year Built</th>\n",
              "      <th>Gr Liv Area</th>\n",
              "      <th>Full Bath</th>\n",
              "      <th>Bedroom AbvGr</th>\n",
              "      <th>SalePrice</th>\n",
              "      <th>2Types</th>\n",
              "      <th>Attchd</th>\n",
              "      <th>Basment</th>\n",
              "      <th>BuiltIn</th>\n",
              "      <th>CarPort</th>\n",
              "      <th>Detchd</th>\n",
              "      <th>No_Garage</th>\n",
              "    </tr>\n",
              "  </thead>\n",
              "  <tbody>\n",
              "    <tr>\n",
              "      <th>0</th>\n",
              "      <td>141.0</td>\n",
              "      <td>31770</td>\n",
              "      <td>1960</td>\n",
              "      <td>1656</td>\n",
              "      <td>1</td>\n",
              "      <td>3</td>\n",
              "      <td>215000</td>\n",
              "      <td>0</td>\n",
              "      <td>1</td>\n",
              "      <td>0</td>\n",
              "      <td>0</td>\n",
              "      <td>0</td>\n",
              "      <td>0</td>\n",
              "      <td>0</td>\n",
              "    </tr>\n",
              "    <tr>\n",
              "      <th>1</th>\n",
              "      <td>80.0</td>\n",
              "      <td>11622</td>\n",
              "      <td>1961</td>\n",
              "      <td>896</td>\n",
              "      <td>1</td>\n",
              "      <td>2</td>\n",
              "      <td>105000</td>\n",
              "      <td>0</td>\n",
              "      <td>1</td>\n",
              "      <td>0</td>\n",
              "      <td>0</td>\n",
              "      <td>0</td>\n",
              "      <td>0</td>\n",
              "      <td>0</td>\n",
              "    </tr>\n",
              "    <tr>\n",
              "      <th>2</th>\n",
              "      <td>81.0</td>\n",
              "      <td>14267</td>\n",
              "      <td>1958</td>\n",
              "      <td>1329</td>\n",
              "      <td>1</td>\n",
              "      <td>3</td>\n",
              "      <td>172000</td>\n",
              "      <td>0</td>\n",
              "      <td>1</td>\n",
              "      <td>0</td>\n",
              "      <td>0</td>\n",
              "      <td>0</td>\n",
              "      <td>0</td>\n",
              "      <td>0</td>\n",
              "    </tr>\n",
              "    <tr>\n",
              "      <th>3</th>\n",
              "      <td>93.0</td>\n",
              "      <td>11160</td>\n",
              "      <td>1968</td>\n",
              "      <td>2110</td>\n",
              "      <td>2</td>\n",
              "      <td>3</td>\n",
              "      <td>244000</td>\n",
              "      <td>0</td>\n",
              "      <td>1</td>\n",
              "      <td>0</td>\n",
              "      <td>0</td>\n",
              "      <td>0</td>\n",
              "      <td>0</td>\n",
              "      <td>0</td>\n",
              "    </tr>\n",
              "    <tr>\n",
              "      <th>4</th>\n",
              "      <td>74.0</td>\n",
              "      <td>13830</td>\n",
              "      <td>1997</td>\n",
              "      <td>1629</td>\n",
              "      <td>2</td>\n",
              "      <td>3</td>\n",
              "      <td>189900</td>\n",
              "      <td>0</td>\n",
              "      <td>1</td>\n",
              "      <td>0</td>\n",
              "      <td>0</td>\n",
              "      <td>0</td>\n",
              "      <td>0</td>\n",
              "      <td>0</td>\n",
              "    </tr>\n",
              "  </tbody>\n",
              "</table>\n",
              "</div>"
            ],
            "text/plain": [
              "   Lot Frontage  Lot Area  Year Built  Gr Liv Area  Full Bath  Bedroom AbvGr  \\\n",
              "0         141.0     31770        1960         1656          1              3   \n",
              "1          80.0     11622        1961          896          1              2   \n",
              "2          81.0     14267        1958         1329          1              3   \n",
              "3          93.0     11160        1968         2110          2              3   \n",
              "4          74.0     13830        1997         1629          2              3   \n",
              "\n",
              "   SalePrice  2Types  Attchd  Basment  BuiltIn  CarPort  Detchd  No_Garage  \n",
              "0     215000       0       1        0        0        0       0          0  \n",
              "1     105000       0       1        0        0        0       0          0  \n",
              "2     172000       0       1        0        0        0       0          0  \n",
              "3     244000       0       1        0        0        0       0          0  \n",
              "4     189900       0       1        0        0        0       0          0  "
            ]
          },
          "metadata": {
            "tags": []
          },
          "execution_count": 49
        }
      ]
    },
    {
      "metadata": {
        "id": "J7-WSUo0fbEU",
        "colab_type": "code",
        "outputId": "5d6163f6-0f20-4366-9a46-92b7924bcf76",
        "colab": {
          "base_uri": "https://localhost:8080/",
          "height": 357
        }
      },
      "cell_type": "code",
      "source": [
        "#Imputation of Lot Frontage\n",
        "#Breaking up 'Lot Area' into intervals\n",
        "result['Lot_Area_Ranges']= pd.cut(result['Lot Area'], [0, 10000, 20000, 30000, 250000])\n",
        "\n",
        "result_grouped = result.groupby(by=['Lot_Area_Ranges'])\n",
        "\n",
        "#Fill missing values with mean within 'Lot Area' intervals\n",
        "func = lambda grp: grp.fillna(grp.mean())\n",
        "result_imputed= result_grouped.transform(func)\n",
        "\n",
        "# fill any deleted columns\n",
        "col_deleted = list( set(result.columns) - set(result_imputed.columns)) # in case the mean operation deleted columns\n",
        "result_imputed[col_deleted] = result[col_deleted]\n",
        "\n",
        "result_imputed.info()"
      ],
      "execution_count": 0,
      "outputs": [
        {
          "output_type": "stream",
          "text": [
            "<class 'pandas.core.frame.DataFrame'>\n",
            "RangeIndex: 2930 entries, 0 to 2929\n",
            "Data columns (total 15 columns):\n",
            "Lot Frontage       2930 non-null float64\n",
            "Lot Area           2930 non-null int64\n",
            "Year Built         2930 non-null int64\n",
            "Gr Liv Area        2930 non-null int64\n",
            "Full Bath          2930 non-null int64\n",
            "Bedroom AbvGr      2930 non-null int64\n",
            "SalePrice          2930 non-null int64\n",
            "2Types             2930 non-null uint8\n",
            "Attchd             2930 non-null uint8\n",
            "Basment            2930 non-null uint8\n",
            "BuiltIn            2930 non-null uint8\n",
            "CarPort            2930 non-null uint8\n",
            "Detchd             2930 non-null uint8\n",
            "No_Garage          2930 non-null uint8\n",
            "Lot_Area_Ranges    2930 non-null category\n",
            "dtypes: category(1), float64(1), int64(6), uint8(7)\n",
            "memory usage: 183.3 KB\n"
          ],
          "name": "stdout"
        }
      ]
    },
    {
      "metadata": {
        "id": "NYT9y2tIrVEG",
        "colab_type": "code",
        "colab": {}
      },
      "cell_type": "code",
      "source": [
        "#get rid of the \"Lot Area Range\" variable because we don't need it in prediction model\n",
        "result=result_imputed.copy()\n",
        "del result['Lot_Area_Ranges']"
      ],
      "execution_count": 0,
      "outputs": []
    },
    {
      "metadata": {
        "id": "BsPWNFNvfbBb",
        "colab_type": "code",
        "outputId": "21a2c2a1-8b78-466b-924d-81fc9eaa32c8",
        "colab": {
          "base_uri": "https://localhost:8080/",
          "height": 357
        }
      },
      "cell_type": "code",
      "source": [
        "#Break Sales price into 3 classes for prediction\n",
        "result['Price_Range']=pd.cut(result[\"SalePrice\"], [0,130000,210000,800000],labels=[0,1,2])\n",
        "#0=low, 1=mid, 2= high\n",
        "result.info()"
      ],
      "execution_count": 0,
      "outputs": [
        {
          "output_type": "stream",
          "text": [
            "<class 'pandas.core.frame.DataFrame'>\n",
            "RangeIndex: 2930 entries, 0 to 2929\n",
            "Data columns (total 15 columns):\n",
            "Lot Frontage     2930 non-null float64\n",
            "Lot Area         2930 non-null int64\n",
            "Year Built       2930 non-null int64\n",
            "Gr Liv Area      2930 non-null int64\n",
            "Full Bath        2930 non-null int64\n",
            "Bedroom AbvGr    2930 non-null int64\n",
            "SalePrice        2930 non-null int64\n",
            "2Types           2930 non-null uint8\n",
            "Attchd           2930 non-null uint8\n",
            "Basment          2930 non-null uint8\n",
            "BuiltIn          2930 non-null uint8\n",
            "CarPort          2930 non-null uint8\n",
            "Detchd           2930 non-null uint8\n",
            "No_Garage        2930 non-null uint8\n",
            "Price_Range      2930 non-null category\n",
            "dtypes: category(1), float64(1), int64(6), uint8(7)\n",
            "memory usage: 183.3 KB\n"
          ],
          "name": "stdout"
        }
      ]
    },
    {
      "metadata": {
        "id": "mP2wOQdb93lp",
        "colab_type": "code",
        "outputId": "1f08326d-8702-4114-9aed-7271eb351bf6",
        "colab": {
          "base_uri": "https://localhost:8080/",
          "height": 402
        }
      },
      "cell_type": "code",
      "source": [
        "#visualize Price Range with bar chart\n",
        "import matplotlib.pyplot as plt\n",
        "plt.figure(figsize=(10,6))\n",
        "result['Price_Range'].value_counts().plot(kind='bar')\n",
        "plt.title('Distribution of Price Range')"
      ],
      "execution_count": 0,
      "outputs": [
        {
          "output_type": "execute_result",
          "data": {
            "text/plain": [
              "Text(0.5,1,'Distribution of Price Range')"
            ]
          },
          "metadata": {
            "tags": []
          },
          "execution_count": 53
        },
        {
          "output_type": "display_data",
          "data": {
            "image/png": "[encoded data removed]",
            "text/plain": [
              "<matplotlib.figure.Figure at 0x7fd29129dcc0>"
            ]
          },
          "metadata": {
            "tags": []
          }
        }
      ]
    },
    {
      "metadata": {
        "id": "YYM3Jz1qi7vf",
        "colab_type": "text"
      },
      "cell_type": "markdown",
      "source": [
        "##[5 points] Divide you data into training and testing data using an 80% training and 20% testing split. Use the cross validation modules that are part of scikit-learn. Argue \"for\" or \"against\" splitting your data using an 80/20 split. That is, why is the 80/20 split appropriate (or not) for your dataset?  "
      ]
    },
    {
      "metadata": {
        "id": "Iet34GvPkh6p",
        "colab_type": "text"
      },
      "cell_type": "markdown",
      "source": [
        "Having 80% split into the training set is good for our data set since we don't have that many observations to begin with. Our data set has 2930 observations, so the split will be: 2344 observations to train and 586 observations to test. We don't want to have too few observations in our training model or too few to test so we will keep to the 80/20 split. Also, from the visualization of Price_Range in the two data sets, we see that the same proportion of classes are represented in each set. We have 50% of the observations from the middle price range and 25% each from the low and high price ranges. This is good because if the 80/20 split resulted in extreme class imbalances in the two sets, we would not want to use that for training and testing. Lastly, our data is not of a time series kind. Even though we have a Year built attribute, the other attributes are not dependent on this measure of time. So randomly splitting our data into 2 sets does not distort any of the relationships between the predictors and our response, like it would if our data was time dependent."
      ]
    },
    {
      "metadata": {
        "id": "jsgyzyQIlqvb",
        "colab_type": "code",
        "colab": {}
      },
      "cell_type": "code",
      "source": [
        "from sklearn.model_selection import ShuffleSplit\n",
        "\n",
        "df=result.copy()\n",
        "del df['SalePrice']\n",
        "# we want to predict the X and y data as follows:\n",
        "if 'Price_Range' in df:\n",
        "    y = df['Price_Range'].values # get the labels we want\n",
        "    del df['Price_Range'] # get rid of the class label\n",
        "    X = df.values # use everything else to predict!\n",
        "\n",
        "    ## X and y are now numpy matrices, by calling 'values' on the pandas data frames we\n",
        "    #    have converted them into simple matrices to use with scikit learn\n",
        "    \n",
        "    "
      ],
      "execution_count": 0,
      "outputs": []
    },
    {
      "metadata": {
        "id": "SG30ghGpmIzc",
        "colab_type": "code",
        "outputId": "0a0d8d6b-8e66-4f41-9a90-7fd0ae753c72",
        "colab": {
          "base_uri": "https://localhost:8080/",
          "height": 68
        }
      },
      "cell_type": "code",
      "source": [
        "y"
      ],
      "execution_count": 0,
      "outputs": [
        {
          "output_type": "execute_result",
          "data": {
            "text/plain": [
              "[2, 0, 1, 2, 1, ..., 1, 1, 1, 1, 1]\n",
              "Length: 2930\n",
              "Categories (3, int64): [0 < 1 < 2]"
            ]
          },
          "metadata": {
            "tags": []
          },
          "execution_count": 55
        }
      ]
    },
    {
      "metadata": {
        "id": "56iAi6R3ondE",
        "colab_type": "code",
        "outputId": "b125de05-a64d-4307-d159-39588b94fe3f",
        "colab": {
          "base_uri": "https://localhost:8080/",
          "height": 34
        }
      },
      "cell_type": "code",
      "source": [
        "X.shape"
      ],
      "execution_count": 0,
      "outputs": [
        {
          "output_type": "execute_result",
          "data": {
            "text/plain": [
              "(2930, 13)"
            ]
          },
          "metadata": {
            "tags": []
          },
          "execution_count": 56
        }
      ]
    },
    {
      "metadata": {
        "id": "P56mo8PpDhwb",
        "colab_type": "code",
        "outputId": "7cb2693a-7059-4461-94bf-4bbea945a689",
        "colab": {
          "base_uri": "https://localhost:8080/",
          "height": 68
        }
      },
      "cell_type": "code",
      "source": [
        "import random\n",
        "\n",
        "#split into training and test set\n",
        "num_cv_iterations = 3\n",
        "num_instances = len(y)\n",
        "cv_object = ShuffleSplit(n_splits=num_cv_iterations, test_size  = 0.2, random_state=10)\n",
        "print(cv_object)\n",
        "\n",
        "for train_indices, test_indices in cv_object.split(X,y): \n",
        "    X_train = X[train_indices]\n",
        "    y_train = y[train_indices]\n",
        "    \n",
        "    X_test = X[test_indices]\n",
        "    y_test = y[test_indices]\n",
        "    \n",
        "print(\"Length of Training set = %d\" % (len(X_train)))   \n",
        "print(\"Length of Test set = %d\" % (len(X_test)))   \n"
      ],
      "execution_count": 0,
      "outputs": [
        {
          "output_type": "stream",
          "text": [
            "ShuffleSplit(n_splits=3, random_state=10, test_size=0.2, train_size=None)\n",
            "Length of Training set = 2344\n",
            "Length of Test set = 586\n"
          ],
          "name": "stdout"
        }
      ]
    },
    {
      "metadata": {
        "id": "83F8oBRyJBsb",
        "colab_type": "code",
        "outputId": "f9df0e74-c6a0-4404-b057-8418fb8bb4ff",
        "colab": {
          "base_uri": "https://localhost:8080/",
          "height": 402
        }
      },
      "cell_type": "code",
      "source": [
        "#visualize Price Range in test/training sets with bar chart\n",
        "import matplotlib.pyplot as plt\n",
        "plt.subplots(figsize=(15,6))\n",
        "plt.subplot(1,2,1)\n",
        "y_train.value_counts().plot(kind='bar')\n",
        "plt.title('Distribution of Price Range in Training set')\n",
        "\n",
        "plt.subplot(1,2,2)\n",
        "y_test.value_counts().plot(kind='bar')\n",
        "plt.title('Distribution of Price Range in Test set')"
      ],
      "execution_count": 0,
      "outputs": [
        {
          "output_type": "execute_result",
          "data": {
            "text/plain": [
              "Text(0.5,1,'Distribution of Price Range in Test set')"
            ]
          },
          "metadata": {
            "tags": []
          },
          "execution_count": 101
        },
        {
          "output_type": "display_data",
          "data": {
            "image/png": "[encoded data removed]",
            "text/plain": [
              "<matplotlib.figure.Figure at 0x7fd28b630358>"
            ]
          },
          "metadata": {
            "tags": []
          }
        }
      ]
    },
    {
      "metadata": {
        "id": "6qkMdWnWi2wY",
        "colab_type": "text"
      },
      "cell_type": "markdown",
      "source": [
        "#**Modeling (50 points total)**\n",
        "\n",
        "###**The implementation of logistic regression must be written only from the examples given to you by the instructor. No credit will be assigned to teams that copy implementations from another source, regardless of if the code is properly cited.** \n",
        "\n",
        "###**[20 points] Create a custom, one-versus-all logistic regression classifier using numpy and scipy to optimize. Use object oriented conventions identical to scikit-learn. You should start with the template developed by the instructor in the course. You should add the following functionality to the logistic regression classifier: Ability to choose optimization technique when class is instantiated: either steepest descent, stochastic gradient descent, or Newton's method. Update the gradient calculation to include a customizable regularization term (either using no regularization, L1 regularization, L2 regularization, or both L1 and L2 regularization). Associate a cost with the regularization term, \"C\", that can be adjusted when the class is instantiated.**\n"
      ]
    },
    {
      "metadata": {
        "id": "lxFaP_k8nzqn",
        "colab_type": "code",
        "outputId": "fd6a759c-c287-4633-ab58-a6c9219d4850",
        "colab": {
          "base_uri": "https://localhost:8080/",
          "height": 51
        }
      },
      "cell_type": "code",
      "source": [
        "#First add functionalities to the binary logistic regression model\n",
        "%%time\n",
        "import numpy as np\n",
        "from numpy.linalg import pinv\n",
        "from sklearn.metrics import accuracy_score\n",
        "from scipy.special import expit\n",
        "from scipy.optimize import minimize_scalar\n",
        "import copy\n",
        "\n",
        "# method options are SD (steepest descent), SGD (stochastic gradient descent), or NEWTON (Newton's method)\n",
        "# reg options are L1 and L2\n",
        "class BinaryLogisticRegression:\n",
        "    def __init__(self, eta, method, reg = None, iterations=20, C=0.001):\n",
        "        self.eta = eta\n",
        "        self.iters = iterations\n",
        "        self.C = C\n",
        "        self.method = method.upper() if method else None\n",
        "        self.reg = reg.upper() if reg else None\n",
        "        # internally we will store the weights as self.w_ to keep with sklearn conventions\n",
        "    \n",
        "    \n",
        "    \n",
        "    def __str__(self):\n",
        "        if(hasattr(self,'w_')):\n",
        "            return 'Binary Logistic Regression Object with coefficients:\\n'+ str(self.w_) # is we have trained the object\n",
        "        else:\n",
        "            return 'Untrained Binary Logistic Regression Object'\n",
        "        \n",
        "    # convenience, private:\n",
        "    @staticmethod\n",
        "    def _add_bias(X):\n",
        "        return np.hstack((np.ones((X.shape[0],1)),X)) # add bias term\n",
        "    \n",
        "    @staticmethod\n",
        "    def _sigmoid(theta):\n",
        "        # increase stability, redefine sigmoid operation\n",
        "        return expit(theta) #1/(1+np.exp(-theta))\n",
        "    \n",
        "    # gradient calculation\n",
        "    def _get_gradient(self,X,y):\n",
        "        idx = int(np.random.rand()*len(y)) # grab random instance\n",
        "        if self.method==\"SD\": \n",
        "          ydiff = y-self.predict_proba(X,add_bias=False).ravel() # get y difference\n",
        "          gradient = np.mean(X * ydiff[:,np.newaxis], axis=0) # make ydiff a column vector and multiply through\n",
        "        elif self.method == \"SGD\": \n",
        "          ydiff = y[idx]-self.predict_proba(X[idx],add_bias=False) # get y difference (now scalar)\n",
        "          gradient = X[idx] * ydiff[:,np.newaxis] # make ydiff a column vector and multiply through\n",
        "        elif self.method == \"NEWTON\":\n",
        "          g = self.predict_proba(X,add_bias=False).ravel() # get sigmoid value for all classes\n",
        "          hessian = X.T @ np.diag(g*(1-g)) @ X - 2 * self.C # calculate the hessian\n",
        "\n",
        "          ydiff = y-g # get y difference\n",
        "          gradient = np.sum(X * ydiff[:,np.newaxis], axis=0) # make ydiff a column vector and multiply through\n",
        "          gradient = gradient.reshape(self.w_.shape)\n",
        "                  \n",
        "          \n",
        "        gradient = gradient.reshape(self.w_.shape)\n",
        "        \n",
        "        if self.reg == \"L2\":\n",
        "          gradient[1:] += -2 * self.w_[1:] * self.C\n",
        "        elif self.reg == \"L1\" and self.method != \"NEWTON\":\n",
        "          gradient[1:] += np.sign(self.w_[1:]) * self.C \n",
        "        \n",
        "        return gradient if self.method != \"NEWTON\" else pinv(hessian) @ gradient\n",
        "    \n",
        "    \n",
        "    # public:\n",
        "    def predict_proba(self,X,add_bias=True):\n",
        "        # add bias term if requested\n",
        "        Xb = self._add_bias(X) if add_bias else X\n",
        "        return self._sigmoid(Xb @ self.w_) # return the probability y=1\n",
        "    \n",
        "    def predict(self,X):\n",
        "        return (self.predict_proba(X)>0.5) #return the actual prediction\n",
        "    \n",
        "    \n",
        "    def fit(self, X, y):\n",
        "        Xb = self._add_bias(X) # add bias term\n",
        "        num_samples, num_features = Xb.shape\n",
        "        \n",
        "        self.w_ = np.zeros((num_features,1)) # init weight vector to zeros\n",
        "        \n",
        "        # for as many as the max iterations\n",
        "        for _ in range(self.iters):\n",
        "            gradient = self._get_gradient(Xb,y)\n",
        "            self.w_ += gradient*self.eta # multiply by learning rate \n",
        "\n"
      ],
      "execution_count": 0,
      "outputs": [
        {
          "output_type": "stream",
          "text": [
            "CPU times: user 78 µs, sys: 13 µs, total: 91 µs\n",
            "Wall time: 97.3 µs\n"
          ],
          "name": "stdout"
        }
      ]
    },
    {
      "metadata": {
        "id": "RknEBIBNQFwB",
        "colab_type": "code",
        "colab": {}
      },
      "cell_type": "code",
      "source": [
        "#Create one vs all logistic regression classifier from binary model\n",
        "\n",
        "class LogisticRegression:\n",
        "    def __init__(self, eta, method, reg = None, iterations=20, C=0.001):\n",
        "        self.eta = eta\n",
        "        self.iters = iterations\n",
        "        self.C = C\n",
        "        self.method = method.upper() if method else None\n",
        "        self.reg = reg.upper() if reg else None\n",
        "        # internally we will store the weights as self.w_ to keep with sklearn conventions\n",
        "    \n",
        "    def __str__(self):\n",
        "        if(hasattr(self,'w_')):\n",
        "            return 'MultiClass Logistic Regression Object with coefficients:\\n'+ str(self.w_) # is we have trained the object\n",
        "        else:\n",
        "            return 'Untrained MultiClass Logistic Regression Object'\n",
        "        \n",
        "    def fit(self,X,y):\n",
        "        num_samples, num_features = X.shape\n",
        "        self.unique_ = np.unique(y) # get each unique class value\n",
        "        num_unique_classes = len(self.unique_)\n",
        "        self.classifiers_ = [] # will fill this array with binary classifiers\n",
        "        \n",
        "        for i,yval in enumerate(self.unique_): # for each unique value\n",
        "            y_binary = y==yval # create a binary problem\n",
        "            # train the binary classifier for this class\n",
        "            blr = BinaryLogisticRegression(self.eta,self.method,self.reg,self.iters,self.C)\n",
        "            blr.fit(X,y_binary)\n",
        "            # add the trained classifier to the list\n",
        "            self.classifiers_.append(blr)\n",
        "            \n",
        "        # save all the weights into one matrix, separate column for each class\n",
        "        self.w_ = np.hstack([x.w_ for x in self.classifiers_]).T\n",
        "        \n",
        "    def predict_proba(self,X):\n",
        "        probs = []\n",
        "        for blr in self.classifiers_:\n",
        "            probs.append(blr.predict_proba(X)) # get probability for each classifier\n",
        "        \n",
        "        return np.hstack(probs) # make into single matrix\n",
        "    \n",
        "    def predict(self,X):\n",
        "        return np.argmax(self.predict_proba(X),axis=1) # take argmax along row\n",
        "    \n"
      ],
      "execution_count": 0,
      "outputs": []
    },
    {
      "metadata": {
        "id": "ZYYWMZil7iUw",
        "colab_type": "text"
      },
      "cell_type": "markdown",
      "source": [
        "Testing if our classifier works for a few different methods:"
      ]
    },
    {
      "metadata": {
        "id": "Ak-LF5sIabUn",
        "colab_type": "code",
        "outputId": "23725c45-6c8e-4708-bd0e-1aede9d7248e",
        "colab": {
          "base_uri": "https://localhost:8080/",
          "height": 68
        }
      },
      "cell_type": "code",
      "source": [
        "%%time\n",
        "lr = LogisticRegression(eta=0.1, method=\"SD\", iterations=500)\n",
        "lr.fit(X_train,y_train)\n",
        "#print(lr)\n",
        "\n",
        "yhat = lr.predict(X_test)\n",
        "print('Accuracy of: ',accuracy_score(y_test,yhat))"
      ],
      "execution_count": 0,
      "outputs": [
        {
          "output_type": "stream",
          "text": [
            "Accuracy of:  0.4351535836177474\n",
            "CPU times: user 463 ms, sys: 289 ms, total: 751 ms\n",
            "Wall time: 383 ms\n"
          ],
          "name": "stdout"
        }
      ]
    },
    {
      "metadata": {
        "id": "JNYPmvEBpn9O",
        "colab_type": "code",
        "outputId": "9bb1430e-134f-4058-8af2-319147a70577",
        "colab": {
          "base_uri": "https://localhost:8080/",
          "height": 68
        }
      },
      "cell_type": "code",
      "source": [
        "%%time\n",
        "lr = LogisticRegression(eta=0.1, method=\"SGD\", iterations=500)\n",
        "lr.fit(X_train,y_train)\n",
        "#print(lr)\n",
        "\n",
        "yhat = lr.predict(X_test)\n",
        "print('Accuracy of: ',accuracy_score(y_test,yhat))"
      ],
      "execution_count": 0,
      "outputs": [
        {
          "output_type": "stream",
          "text": [
            "Accuracy of:  0.49829351535836175\n",
            "CPU times: user 21.6 ms, sys: 2.61 ms, total: 24.2 ms\n",
            "Wall time: 28 ms\n"
          ],
          "name": "stdout"
        }
      ]
    },
    {
      "metadata": {
        "id": "yHJgDrF9q6Dy",
        "colab_type": "code",
        "outputId": "1dc62c02-cf57-49d0-d721-66d8bf40e882",
        "colab": {
          "base_uri": "https://localhost:8080/",
          "height": 68
        }
      },
      "cell_type": "code",
      "source": [
        "%%time\n",
        "lr = LogisticRegression(eta=0.1, method=\"NEWTON\", iterations=30)\n",
        "lr.fit(X_train,y_train)\n",
        "#print(lr)\n",
        "\n",
        "yhat = lr.predict(X_test)\n",
        "print('Accuracy of: ',accuracy_score(y_test,yhat))"
      ],
      "execution_count": 0,
      "outputs": [
        {
          "output_type": "stream",
          "text": [
            "Accuracy of:  0.7389078498293515\n",
            "CPU times: user 4.66 s, sys: 1.05 s, total: 5.71 s\n",
            "Wall time: 2.87 s\n"
          ],
          "name": "stdout"
        }
      ]
    },
    {
      "metadata": {
        "id": "CSMLAJUajPRx",
        "colab_type": "text"
      },
      "cell_type": "markdown",
      "source": [
        "###[15 points] Train your classifier to achieve good generalization performance. That is, adjust the optimization technique and the value of the regularization term \"C\" to achieve the best performance on your test set. Visualize the performance of the classifier versus the parameters you investigated. Is your method of selecting parameters justified? That is, do you think there is any \"data snooping\" involved with this method of selecting parameters?\n"
      ]
    },
    {
      "metadata": {
        "id": "9v6E4nKC71vY",
        "colab_type": "text"
      },
      "cell_type": "markdown",
      "source": [
        "Just from the few tests of our classifer above, it appears that the \"Newton\" method performs the best since it has the highest accuracy. We will first try to optimize the Newton method using L2 regularization for the best value of C."
      ]
    },
    {
      "metadata": {
        "id": "eOc2-dLceadD",
        "colab_type": "code",
        "outputId": "97d75e32-cb72-4800-ebbb-1852a5482959",
        "colab": {
          "base_uri": "https://localhost:8080/",
          "height": 51
        }
      },
      "cell_type": "code",
      "source": [
        "#see how the accuracy changes when adjusting C for one type of technique\n",
        "%%time\n",
        "import numpy as np\n",
        "c1=np.arange(0,1,0.01)\n",
        "acc1=[]\n",
        "d1=[]\n",
        "for i in range(len(c1)):\n",
        "  key=(\"Newton,L2\")\n",
        "  lr = LogisticRegression(eta=0.1, method=\"NEWTON\", reg=\"L2\", iterations=30,C=c1[i])\n",
        "  lr.fit(X_train,y_train)\n",
        "  yhat = lr.predict(X_test)\n",
        "  accscore=accuracy_score(y_test,yhat)\n",
        "  acc1.append(accscore)\n",
        "  d1.append(key)"
      ],
      "execution_count": 0,
      "outputs": [
        {
          "output_type": "stream",
          "text": [
            "CPU times: user 8min 50s, sys: 1min 23s, total: 10min 13s\n",
            "Wall time: 5min 7s\n"
          ],
          "name": "stdout"
        }
      ]
    },
    {
      "metadata": {
        "id": "_2XfynzISbDl",
        "colab_type": "code",
        "outputId": "6a2dc570-4c4f-4b9e-e523-00770a59fc83",
        "colab": {
          "base_uri": "https://localhost:8080/",
          "height": 406
        }
      },
      "cell_type": "code",
      "source": [
        "#to visualize the change\n",
        "#convert acc to array\n",
        "acc1=np.asarray(acc1)\n",
        "\n",
        "# make dataframe\n",
        "import pandas as pd\n",
        "df=pd.DataFrame({'C':c1, 'Accuracy':acc1})\n",
        "\n",
        "#plot C vs. Accuracy\n",
        "import matplotlib.pyplot as plt\n",
        "plt.figure(figsize=(10,6))\n",
        "plt.plot('C','Accuracy',data=df)\n",
        "plt.title(\"Accuracy vs C for Newton, L2 technique\")"
      ],
      "execution_count": 0,
      "outputs": [
        {
          "output_type": "execute_result",
          "data": {
            "text/plain": [
              "Text(0.5,1,'Accuracy vs C for Newton, L2 technique')"
            ]
          },
          "metadata": {
            "tags": []
          },
          "execution_count": 108
        },
        {
          "output_type": "display_data",
          "data": {
            "image/png": "[encoded data removed]",
            "text/plain": [
              "<matplotlib.figure.Figure at 0x7fd28b6b6588>"
            ]
          },
          "metadata": {
            "tags": []
          }
        }
      ]
    },
    {
      "metadata": {
        "id": "dKJ6LwWRTtcp",
        "colab_type": "code",
        "outputId": "fb0f7a69-ccc2-4ebc-922a-887aecae8c53",
        "colab": {
          "base_uri": "https://localhost:8080/",
          "height": 51
        }
      },
      "cell_type": "code",
      "source": [
        "#highest accuracy\n",
        "print(acc1.max())\n",
        "#C that gives this accuracy\n",
        "idx=np.where(acc1 ==acc1.max())\n",
        "print(c1[idx])"
      ],
      "execution_count": 0,
      "outputs": [
        {
          "output_type": "stream",
          "text": [
            "0.7474402730375427\n",
            "[0.01]\n"
          ],
          "name": "stdout"
        }
      ]
    },
    {
      "metadata": {
        "id": "SthcRvDVuJfN",
        "colab_type": "code",
        "colab": {}
      },
      "cell_type": "code",
      "source": [
        "#manually save our best value of C\n",
        "bestC=0.01"
      ],
      "execution_count": 0,
      "outputs": []
    },
    {
      "metadata": {
        "id": "8LAT9dm38mTy",
        "colab_type": "text"
      },
      "cell_type": "markdown",
      "source": [
        "After adjusting the C value 100 times and comparing the accuracy at that level, it appears the optimal C value is at 0.01.\n",
        "We also wanted to see if adjusting our eta will affect the accuracy. "
      ]
    },
    {
      "metadata": {
        "id": "RGCRU44LxRJG",
        "colab_type": "code",
        "outputId": "ea9a21a1-aa55-47a1-a3dd-d336daf9f074",
        "colab": {
          "base_uri": "https://localhost:8080/",
          "height": 51
        }
      },
      "cell_type": "code",
      "source": [
        "#see how the accuracy changes when adjusting eta for one type of technique\n",
        "%%time\n",
        "import numpy as np\n",
        "e=np.arange(0,1,0.01)\n",
        "acc=[]\n",
        "for i in range(len(e)):\n",
        "  lr = LogisticRegression(eta=e[i], method=\"NEWTON\", reg=\"L2\", iterations=30, C=bestC)\n",
        "  lr.fit(X_train,y_train)\n",
        "  yhat = lr.predict(X_test)\n",
        "  accscore=accuracy_score(y_test,yhat)\n",
        "  acc.append(accscore)"
      ],
      "execution_count": 0,
      "outputs": [
        {
          "output_type": "stream",
          "text": [
            "CPU times: user 8min 48s, sys: 1min 24s, total: 10min 12s\n",
            "Wall time: 5min 7s\n"
          ],
          "name": "stdout"
        }
      ]
    },
    {
      "metadata": {
        "id": "n4qMtu7LyE-Q",
        "colab_type": "code",
        "outputId": "d951fd65-dd7e-47e3-df16-9163b70b13d7",
        "colab": {
          "base_uri": "https://localhost:8080/",
          "height": 406
        }
      },
      "cell_type": "code",
      "source": [
        "# to visualize the change\n",
        "#convert acc to array\n",
        "acc=np.asarray(acc)\n",
        "\n",
        "# make dataframe\n",
        "import pandas as pd\n",
        "df=pd.DataFrame({'Eta':e, 'Accuracy':acc})\n",
        "\n",
        "#plot Eta vs. Accuracy\n",
        "import matplotlib.pyplot as plt\n",
        "plt.figure(figsize=(10,6))\n",
        "plt.plot('Eta','Accuracy',data=df)\n",
        "plt.title(\"Accuracy vs Eta for Newton, L2 technique\")"
      ],
      "execution_count": 0,
      "outputs": [
        {
          "output_type": "execute_result",
          "data": {
            "text/plain": [
              "Text(0.5,1,'Accuracy vs Eta for Newton, L2 technique')"
            ]
          },
          "metadata": {
            "tags": []
          },
          "execution_count": 112
        },
        {
          "output_type": "display_data",
          "data": {
            "image/png": "[encoded data removed]",
            "text/plain": [
              "<matplotlib.figure.Figure at 0x7fd28b5c3160>"
            ]
          },
          "metadata": {
            "tags": []
          }
        }
      ]
    },
    {
      "metadata": {
        "id": "SEP8EfjoVkF2",
        "colab_type": "code",
        "outputId": "bb042656-bdec-46b0-9e30-800718ce36c3",
        "colab": {
          "base_uri": "https://localhost:8080/",
          "height": 51
        }
      },
      "cell_type": "code",
      "source": [
        "#highest accuracy\n",
        "print(acc.max())\n",
        "#C that gives this accuracy\n",
        "idx=np.where(acc ==acc.max())\n",
        "print(e[idx])"
      ],
      "execution_count": 0,
      "outputs": [
        {
          "output_type": "stream",
          "text": [
            "0.7627986348122867\n",
            "[0.17 0.2  0.21]\n"
          ],
          "name": "stdout"
        }
      ]
    },
    {
      "metadata": {
        "id": "iCROC15WV0qN",
        "colab_type": "text"
      },
      "cell_type": "markdown",
      "source": [
        "Several values of eta achieved a high accuracy score. "
      ]
    },
    {
      "metadata": {
        "id": "SdZ7rJzb9lH2",
        "colab_type": "text"
      },
      "cell_type": "markdown",
      "source": [
        "We suspected that the Newton method would give us the highest accuracy, but we will check if that is true by optimizing for all other methods as well and then comparing the accuracy."
      ]
    },
    {
      "metadata": {
        "id": "rntfTOk27HiR",
        "colab_type": "code",
        "outputId": "509ce46b-24bd-488d-fb08-89b8e7e7f331",
        "colab": {
          "base_uri": "https://localhost:8080/",
          "height": 51
        }
      },
      "cell_type": "code",
      "source": [
        "#extend the optimization for all techniques\n",
        "%%time\n",
        "import numpy as np\n",
        "c=np.arange(0,1,0.01)\n",
        "methods=[\"SD\",\"SGD\"]\n",
        "regs=[\"L1\",\"L2\"]\n",
        "key=[]  # to make the descriptor\n",
        "cs=[]  # will hold what the c value is\n",
        "acc=[]  # will hold the accuracy score\n",
        "d=[]   # will hold the descriptor of method & reg type\n",
        "for method in methods:\n",
        "  for reg in regs:\n",
        "    key=(method + \",\" + reg)\n",
        "    for i in range(len(c)):\n",
        "      lr = LogisticRegression(eta=0.1, method=method, reg=reg, iterations=500,C=c[i])\n",
        "      lr.fit(X_train,y_train)\n",
        "      yhat = lr.predict(X_test)\n",
        "      accscore=accuracy_score(y_test,yhat)\n",
        "      acc.append(accscore)  #append the accuracy score\n",
        "      d.append(key)         #append the descriptor\n",
        "      cs.append(c[i])       #append the c value"
      ],
      "execution_count": 0,
      "outputs": [
        {
          "output_type": "stream",
          "text": [
            "CPU times: user 2min 15s, sys: 1min 15s, total: 3min 31s\n",
            "Wall time: 1min 48s\n"
          ],
          "name": "stdout"
        }
      ]
    },
    {
      "metadata": {
        "id": "SMWO6tfG-usG",
        "colab_type": "code",
        "colab": {}
      },
      "cell_type": "code",
      "source": [
        "#create a data frame with all methods to compare accuracy\n",
        "c_all=np.hstack([c1,cs])\n",
        "d_all=np.hstack([d1,d])\n",
        "acc_all=np.hstack([acc1,acc])\n",
        "\n",
        "import pandas as pd\n",
        "df_all=pd.DataFrame({'method':d_all,'Accuracy':acc_all,'c':c_all})"
      ],
      "execution_count": 0,
      "outputs": []
    },
    {
      "metadata": {
        "id": "a4dNV9QDBHpO",
        "colab_type": "code",
        "colab": {}
      },
      "cell_type": "code",
      "source": [
        "pivot=df_all.pivot(index=\"c\",columns=\"method\",values=\"Accuracy\")\n",
        "#print(pivot)\n",
        "#source: https://stackoverflow.com/questions/44480226/plotting-heatmap-for-3-columns-in-python-with-seaborn\n",
        "import seaborn as sns\n",
        "plt.figure(figsize=(8,8))\n",
        "ax= sns.heatmap(pivot, annot=False, vmax=.8,yticklabels=10)\n",
        "plt.show()"
      ],
      "execution_count": 0,
      "outputs": []
    },
    {
      "metadata": {
        "id": "C_e5-yw2-hBh",
        "colab_type": "text"
      },
      "cell_type": "markdown",
      "source": [
        "After comparing the Newton, L2 method with our other techniques, we can confirm that it indeed is the best performing method. For Newton, L2 we always had an accuracy above 0.7 whereas for the other methods we rarely achieved an accuracy this high. Whenever we used L2 regularization with either steepest descent or stochastic gradient descent, accuracy was mostly around 0.3 for majority of the C values. When using L1 for these two methods, accuracy with higher, normally around 0.5 for majority of the C values. It is interesting to see that for steepest descent using L2 regularization, the accuracy was always above 0.5 whenever C was greater than 0.8"
      ]
    },
    {
      "metadata": {
        "id": "ti2QtNAYCCpQ",
        "colab_type": "text"
      },
      "cell_type": "markdown",
      "source": [
        "We believe that this method of selecting parameters could be considered data snooping.\n",
        "\n",
        "A definition of data snooping by Halbert White is the following: \"Data snooping occurs when a given set of data is used more than once for purposes of inference or model selection. When such data reuse occurs, there is always the possibility that any satisfactory results obtained may simply be due to chance rather than to any merit inherent in the method yielding the results.\" \n",
        "\n",
        "In this case we're using the test set to both optimize our model and to report the accuracy of our model. However, a better performing model does not necessarily mean that the model will work better in general, rather it is affected by the specific data patterns in the test set. In that sense, our selection of parameters based on the model performance in the test set is not justified since the improvement in the model may simply be due to chance. In fact, if we run our optimization of C over again with a different 80/20 data split, we would return a different optimal C each time.\n",
        "\n",
        "Source: https://www.ssc.wisc.edu/~bhansen/718/White2000.pdf"
      ]
    },
    {
      "metadata": {
        "id": "RTlxY16djZRA",
        "colab_type": "text"
      },
      "cell_type": "markdown",
      "source": [
        "###[15 points] Compare the performance of your \"best\" logistic regression optimization procedure to the procedure used in scikit-learn. Visualize the performance differences in terms of training time and classification performance. Discuss the results. "
      ]
    },
    {
      "metadata": {
        "id": "7sygnMmdD5Zy",
        "colab_type": "code",
        "outputId": "b0cd92fc-a2ff-4c69-fb8f-6af29b403b8b",
        "colab": {
          "base_uri": "https://localhost:8080/",
          "height": 51
        }
      },
      "cell_type": "code",
      "source": [
        "import time\n",
        "\n",
        "sk_start=time.time()\n",
        "from sklearn.linear_model import LogisticRegression as SKLogisticRegression\n",
        "\n",
        "lr_sk = SKLogisticRegression(penalty=\"l2\", C=bestC, solver=\"newton-cg\", max_iter=30) \n",
        "\n",
        "lr_sk.fit(X_train,y_train)\n",
        "yhat_sk = lr_sk.predict(X_test)\n",
        "sk_end=time.time()\n",
        "\n",
        "#print(np.hstack((lr_sk.intercept_[:,np.newaxis],lr_sk.coef_)))\n"
      ],
      "execution_count": 0,
      "outputs": [
        {
          "output_type": "stream",
          "text": [
            "/usr/local/lib/python3.6/dist-packages/sklearn/utils/optimize.py:203: ConvergenceWarning: newton-cg failed to converge. Increase the number of iterations.\n",
            "  \"number of iterations.\", ConvergenceWarning)\n"
          ],
          "name": "stderr"
        }
      ]
    },
    {
      "metadata": {
        "id": "h6lRgwBB5Ogo",
        "colab_type": "code",
        "colab": {}
      },
      "cell_type": "code",
      "source": [
        "#our method\n",
        "cust_start=time.time()\n",
        "lr =  LogisticRegression(eta=0.2, method=\"NEWTON\", reg=\"L2\", iterations=30,C=bestC) \n",
        "lr.fit(X_train,y_train)\n",
        "yhat_lr = lr.predict(X_test)\n",
        "cust_end=time.time()"
      ],
      "execution_count": 0,
      "outputs": []
    },
    {
      "metadata": {
        "id": "0la61z1p_zii",
        "colab_type": "code",
        "outputId": "1d52197e-c3b1-4ec3-a9b5-787cb24ff38f",
        "colab": {
          "base_uri": "https://localhost:8080/",
          "height": 51
        }
      },
      "cell_type": "code",
      "source": [
        "#compare accuracy of methods\n",
        "print('Accuracy of scikit-learn: ', accuracy_score(y_test,yhat_sk))\n",
        "print('Accuracy of custom method: ', accuracy_score(y_test,yhat_lr))"
      ],
      "execution_count": 0,
      "outputs": [
        {
          "output_type": "stream",
          "text": [
            "Accuracy of scikit-learn:  0.6672354948805461\n",
            "Accuracy of custom method:  0.7627986348122867\n"
          ],
          "name": "stdout"
        }
      ]
    },
    {
      "metadata": {
        "id": "_luO8b7-qotN",
        "colab_type": "code",
        "outputId": "12bb789c-9da2-49e0-8d9b-6a5e83d26c92",
        "colab": {
          "base_uri": "https://localhost:8080/",
          "height": 379
        }
      },
      "cell_type": "code",
      "source": [
        "#visualize difference in accuracy scores\n",
        "method = ('Custom', 'SKLearn')\n",
        "accuracy = (accuracy_score(y_test,yhat_lr), accuracy_score(y_test,yhat_sk))\n",
        "\n",
        "plt.bar(method, accuracy)\n",
        "plt.ylabel(\"Accuracy Score\")\n",
        "plt.ylim(0, 1)\n",
        "plt.title('Custom method vs SKLearn')"
      ],
      "execution_count": 0,
      "outputs": [
        {
          "output_type": "execute_result",
          "data": {
            "text/plain": [
              "Text(0.5,1,'Custom method vs SKLearn')"
            ]
          },
          "metadata": {
            "tags": []
          },
          "execution_count": 122
        },
        {
          "output_type": "display_data",
          "data": {
            "image/png": "[encoded data removed]",
            "text/plain": [
              "<matplotlib.figure.Figure at 0x7fd28b3cdcf8>"
            ]
          },
          "metadata": {
            "tags": []
          }
        }
      ]
    },
    {
      "metadata": {
        "id": "Y9Tv447Fw8Pm",
        "colab_type": "code",
        "outputId": "0b39ab12-5717-431d-e3cb-a09a85b8ae6b",
        "colab": {
          "base_uri": "https://localhost:8080/",
          "height": 379
        }
      },
      "cell_type": "code",
      "source": [
        "#comparison of execution time\n",
        "method = ('Custom', 'SKLearn')\n",
        "times = ((cust_end-cust_start), (sk_end-sk_start))\n",
        "\n",
        "plt.bar(method, times)\n",
        "plt.ylabel(\"Execution Time in (seconds)\")\n",
        "plt.title('Custom method vs SKLearn')\n"
      ],
      "execution_count": 0,
      "outputs": [
        {
          "output_type": "execute_result",
          "data": {
            "text/plain": [
              "Text(0.5,1,'Custom method vs SKLearn')"
            ]
          },
          "metadata": {
            "tags": []
          },
          "execution_count": 123
        },
        {
          "output_type": "display_data",
          "data": {
            "image/png": "[encoded data removed]",
            "text/plain": [
              "<matplotlib.figure.Figure at 0x7fd28b355c50>"
            ]
          },
          "metadata": {
            "tags": []
          }
        }
      ]
    },
    {
      "metadata": {
        "id": "2g4bykOi5Un7",
        "colab_type": "code",
        "outputId": "33e81f03-2056-4b07-c59b-038b8035f659",
        "colab": {
          "base_uri": "https://localhost:8080/",
          "height": 85
        }
      },
      "cell_type": "code",
      "source": [
        "from sklearn import metrics\n",
        "cm=metrics.confusion_matrix(yhat_sk,yhat_lr)\n",
        "print(cm)\n",
        "print('Ratio of Matches: ',accuracy_score(yhat_sk,yhat_lr))"
      ],
      "execution_count": 0,
      "outputs": [
        {
          "output_type": "stream",
          "text": [
            "[[ 95  17   0]\n",
            " [ 52 256  45]\n",
            " [  3  15 103]]\n",
            "Ratio of Matches:  0.7747440273037542\n"
          ],
          "name": "stdout"
        }
      ]
    },
    {
      "metadata": {
        "id": "XCEXceiP6MJY",
        "colab_type": "code",
        "outputId": "8d17ca19-1c97-429d-bacb-2ce3cf22ba99",
        "colab": {
          "base_uri": "https://localhost:8080/",
          "height": 68
        }
      },
      "cell_type": "code",
      "source": [
        "#normalize the confusion matrix\n",
        "cm_norm = cm.astype('float') / cm.sum(axis=1)[:, np.newaxis]\n",
        "diag=cm_norm.diagonal()\n",
        "print(cm_norm)\n"
      ],
      "execution_count": 0,
      "outputs": [
        {
          "output_type": "stream",
          "text": [
            "[[0.84821429 0.15178571 0.        ]\n",
            " [0.14730878 0.72521246 0.12747875]\n",
            " [0.02479339 0.12396694 0.85123967]]\n"
          ],
          "name": "stdout"
        }
      ]
    },
    {
      "metadata": {
        "id": "5RdZjU3t5n11",
        "colab_type": "code",
        "colab": {}
      },
      "cell_type": "code",
      "source": [
        "class_name = y.unique()\n",
        "class_name = np.sort(np.asarray(class_name))\n"
      ],
      "execution_count": 0,
      "outputs": []
    },
    {
      "metadata": {
        "id": "hnQHOP2X5oja",
        "colab_type": "code",
        "outputId": "a55b0a64-815e-4734-dd6d-2aede3f46ad0",
        "colab": {
          "base_uri": "https://localhost:8080/",
          "height": 452
        }
      },
      "cell_type": "code",
      "source": [
        "import itertools\n",
        "import matplotlib.pyplot as plt\n",
        "#source:http://scikit-learn.org/stable/auto_examples/model_selection/plot_confusion_matrix.html#sphx-glr-download-auto-examples-model-selection-plot-confusion-matrix-py\n",
        "def plot_confusion_matrix(cm, classes,\n",
        "                          title='Confusion matrix',ylab='True label',xlab='Predicted label',\n",
        "                          cmap=plt.cm.Blues):\n",
        "\n",
        "    print(cm)\n",
        "\n",
        "    plt.imshow(cm, interpolation='nearest', cmap=cmap)\n",
        "    plt.title(title)\n",
        "    plt.colorbar()\n",
        "    tick_marks = np.arange(len(classes))\n",
        "    plt.xticks(tick_marks, classes)\n",
        "    plt.yticks(tick_marks, classes)\n",
        "\n",
        "    fmt = '.2f'\n",
        "    thresh = cm.max() /2\n",
        "    for i, j in itertools.product(range(cm.shape[0]), range(cm.shape[1])):\n",
        "        plt.text(j, i, format(cm[i, j],fmt),\n",
        "                 horizontalalignment=\"center\",\n",
        "                 color=\"white\" if cm[i, j] > thresh else \"black\")\n",
        "\n",
        "    plt.ylabel(ylab)\n",
        "    plt.xlabel(xlab)\n",
        "    plt.tight_layout()\n",
        "\n",
        "\n",
        "\n",
        "# Plot normalized confusion matrix\n",
        "\n",
        "plot_confusion_matrix(cm_norm, classes=class_name,\n",
        "                      title='Normalized confusion matrix',xlab=\"yhat_lr\",ylab=\"yhat_sk\")\n",
        "\n",
        "plt.show()"
      ],
      "execution_count": 0,
      "outputs": [
        {
          "output_type": "stream",
          "text": [
            "[[0.84821429 0.15178571 0.        ]\n",
            " [0.14730878 0.72521246 0.12747875]\n",
            " [0.02479339 0.12396694 0.85123967]]\n"
          ],
          "name": "stdout"
        },
        {
          "output_type": "display_data",
          "data": {
            "image/png": "[encoded data removed]",
            "text/plain": [
              "<matplotlib.figure.Figure at 0x7fd28b2e28d0>"
            ]
          },
          "metadata": {
            "tags": []
          }
        }
      ]
    },
    {
      "metadata": {
        "id": "hgWya1_ROA5z",
        "colab_type": "code",
        "outputId": "fc75baf1-fdcc-4350-e826-fd8d9d13bd71",
        "colab": {
          "base_uri": "https://localhost:8080/",
          "height": 34
        }
      },
      "cell_type": "code",
      "source": [
        "print(diag)"
      ],
      "execution_count": 0,
      "outputs": [
        {
          "output_type": "stream",
          "text": [
            "[0.75308642 0.63846154 0.79130435]\n"
          ],
          "name": "stdout"
        }
      ]
    },
    {
      "metadata": {
        "id": "fEITqQCV9_wQ",
        "colab_type": "text"
      },
      "cell_type": "markdown",
      "source": [
        "Based on the best optimization methods and \"C\" we choose in the last part, the results between the scikit-learn method and customized method are different.\n",
        "In terms of the CPU time, the procedure used in scikit-learn is faster than the function we cusomized. The accuracy of the customized method is better than the scikit-learn.\n",
        "We use the confusion matrix to compare the classification performance of two methods. We draw the heatmap to visualize the confusion matrix. The ratio of concordant results from these two methods is 70%. The diagonal elements of the normalized confusion matrix are the percent of matched predictions between two methods by class. For example, 85% of the prediction by customized function, which is in class 0, matches the class 0 prediction by scikit-learn. "
      ]
    },
    {
      "metadata": {
        "id": "YeKMEz7ljcAP",
        "colab_type": "text"
      },
      "cell_type": "markdown",
      "source": [
        "##Deployment (10 points total)**\n",
        "\n",
        "###Which implementation of logistic regression would you advise be used in a deployed machine learning model, your implementation or scikit-learn (or other third party)? Why?\n",
        "\n"
      ]
    },
    {
      "metadata": {
        "id": "9i-KezqsaSnh",
        "colab_type": "text"
      },
      "cell_type": "markdown",
      "source": [
        "We would recommend the scikit-learn logistic regression. Although our implementation achieved a higher accuracy score than scikit-learn (73% vs 64%)**, these accuracy scores are specific to this data. In fact, we got different accuracy scores everytime we ran our code. So, it might be that scikit-learn outperforms our custom method on a different data set, and the accuracy scores aren't different enough that we would base our recommendation on that alone.\n",
        "\n",
        "**Note: we achieved these accuracy scores on previous runs, however, in our last runs we received the warning that the sklearn implementation did not converge. Our recommendation is based on the assumption that sklearn converges. \n",
        "\n",
        "Scikit-learn's execution time was about 10 times faster than our method's. This is a great advantage when analyzing large datasets. Therefore, we'd advise that scikit-learn be used in a deployed machine learning model. \n"
      ]
    },
    {
      "metadata": {
        "id": "_1Dv8NHKju3C",
        "colab_type": "text"
      },
      "cell_type": "markdown",
      "source": [
        "# **Exceptional Work (10 points total)**\n",
        "\n",
        "###You have free reign to provide additional analyses. One idea: Update the code to use either \"one-versus-all\" or \"one-versus-one\" extensions of binary to multi-class classification. One idea (required for 7000 level students): Implement an optimization technique for logistic regression using mean square error as your objective function (instead of binary entropy). Your solution should be able to solve the binary logistic regression problem in one gradient update step. "
      ]
    },
    {
      "metadata": {
        "id": "SkcrYISxN8po",
        "colab_type": "code",
        "outputId": "8c03e831-5b9b-472b-d4ab-e178f650f82f",
        "colab": {
          "base_uri": "https://localhost:8080/",
          "height": 51
        }
      },
      "cell_type": "code",
      "source": [
        "%%time\n",
        "# from last time, our logistic regression algorithm is given by (including everything we previously had):\n",
        "class ABinaryLogisticRegression:\n",
        "    def __init__(self, eta, iterations=200):\n",
        "        self.eta = eta\n",
        "        self.iters = iterations\n",
        "        # internally we will store the weights as self.w_ to keep with sklearn conventions\n",
        "        \n",
        "    def __str__(self):\n",
        "        if(hasattr(self,'w_')):\n",
        "            return 'Binary Logistic Regression Object with coefficients:\\n'+ str(self.w_) # is we have trained the object\n",
        "        else:\n",
        "            return 'Untrained Binary Logistic Regression Object'\n",
        "        \n",
        "    # convenience, private:\n",
        "    @staticmethod\n",
        "    def _add_bias(X):\n",
        "        return np.hstack((np.ones((X.shape[0],1)),X)) # add bias term\n",
        "    \n",
        "    @staticmethod\n",
        "    def _sigmoid(theta):\n",
        "        # increase stability, redefine sigmoid operation\n",
        "        return 1/(1+np.exp(-theta))\n",
        "    \n",
        "    # vectorized gradient calculation with regularization using L2 Norm\n",
        "    def _get_gradient(self,X,y):\n",
        "        ydiff = y-self.predict_proba(X,add_bias=False).ravel() # get y difference\n",
        "        gradient = np.mean(X * ydiff[:,np.newaxis], axis=0) # make ydiff a column vector and multiply through\n",
        "        \n",
        "        gradient = gradient.reshape(self.w_.shape)\n",
        "        gradient[1:] += -2 * self.w_[1:]  #* self.C\n",
        "        \n",
        "        return gradient\n",
        "    \n",
        "    # public:\n",
        "    def predict_proba(self,X,add_bias=True):\n",
        "        # add bias term if requested\n",
        "        Xb = self._add_bias(X) if add_bias else X\n",
        "        return self._sigmoid(Xb @ self.w_) # return the probability y=1\n",
        "    \n",
        "    def predict(self,X):\n",
        "        return (self.predict_proba(X)>0.5) #return the actual prediction\n",
        "    \n",
        "    \n",
        "    def fit(self, X, y):\n",
        "        Xb = self._add_bias(X) # add bias term\n",
        "        num_samples, num_features = Xb.shape\n",
        "        \n",
        "        self.w_ = np.zeros((num_features,1)) # init weight vector to zeros\n",
        "        \n",
        "        # for as many as the max iterations\n",
        "        for _ in range(self.iters):\n",
        "            gradient = self._get_gradient(Xb,y)\n",
        "            self.w_ += gradient*self.eta # multiply by learning rate "
      ],
      "execution_count": 0,
      "outputs": [
        {
          "output_type": "stream",
          "text": [
            "CPU times: user 57 µs, sys: 0 ns, total: 57 µs\n",
            "Wall time: 62 µs\n"
          ],
          "name": "stdout"
        }
      ]
    },
    {
      "metadata": {
        "id": "36kU8i6xGKHC",
        "colab_type": "code",
        "outputId": "73cd4f6b-26e3-4f86-b0b8-0433479ee5f6",
        "colab": {
          "base_uri": "https://localhost:8080/",
          "height": 51
        }
      },
      "cell_type": "code",
      "source": [
        "%%time\n",
        "from numpy.linalg import pinv\n",
        "class HessianBinaryLogisticRegression(ABinaryLogisticRegression):\n",
        "    # just overwrite gradient function\n",
        "    def _get_gradient(self,X,y):\n",
        "        g = self.predict_proba(X,add_bias=False).ravel() # get sigmoid value for all classes\n",
        "        hessian = 2 * X.T @ X #- 2 * self.C # calculate the hessian\n",
        "\n",
        "        ydiff = y-g # get y difference\n",
        "        gradient = np.sum(2 * X * ydiff[:,np.newaxis], axis=0)\n",
        "        # make ydiff a column vector and multiply through\n",
        "        gradient = gradient.reshape(self.w_.shape)\n",
        "        gradient[1:] += -2 * self.w_[1:] #* self.C\n",
        "        \n",
        "        return pinv(hessian) @ gradient\n",
        "       \n",
        "hblr = HessianBinaryLogisticRegression(eta=0.1,iterations=10)#note that we need only a few iterations here\n"
      ],
      "execution_count": 0,
      "outputs": [
        {
          "output_type": "stream",
          "text": [
            "CPU times: user 54 µs, sys: 10 µs, total: 64 µs\n",
            "Wall time: 69.6 µs\n"
          ],
          "name": "stdout"
        }
      ]
    },
    {
      "metadata": {
        "id": "ERNkXgeGGPQB",
        "colab_type": "code",
        "outputId": "c55580f5-d801-41d1-b696-e5b431b0446b",
        "colab": {
          "base_uri": "https://localhost:8080/",
          "height": 255
        }
      },
      "cell_type": "code",
      "source": [
        "class MultiClassLogisticRegression:\n",
        "    def __init__(self, eta, iterations=20, C=0.0001):\n",
        "        self.eta = eta\n",
        "        self.iters = iterations\n",
        "        self.classifiers_ = []\n",
        "        # internally we will store the weights as self.w_ to keep with sklearn conventions\n",
        "    \n",
        "    def __str__(self):\n",
        "        if(hasattr(self,'w_')):\n",
        "            return 'MultiClass Logistic Regression Object with coefficients:\\n'+ str(self.w_) # is we have trained the object\n",
        "        else:\n",
        "            return 'Untrained MultiClass Logistic Regression Object'\n",
        "        \n",
        "    def fit(self,X,y):\n",
        "        num_samples, num_features = X.shape\n",
        "        self.unique_ = np.sort(np.unique(y)) # get each unique class value\n",
        "        num_unique_classes = len(self.unique_)\n",
        "        self.classifiers_ = []\n",
        "        for i,yval in enumerate(self.unique_): # for each unique value\n",
        "            y_binary = y==yval # create a binary problem\n",
        "            # train the binary classifier for this class\n",
        "            hblr = HessianBinaryLogisticRegression(self.eta,self.iters)\n",
        "            hblr.fit(X,y_binary)\n",
        "            #print(accuracy(y_binary,hblr.predict(X)))\n",
        "            # add the trained classifier to the list\n",
        "            self.classifiers_.append(hblr)\n",
        "            \n",
        "        # save all the weights into one matrix, separate column for each class\n",
        "        self.w_ = np.hstack([x.w_ for x in self.classifiers_]).T\n",
        "        \n",
        "    def predict_proba(self,X):\n",
        "        probs = []\n",
        "        for hblr in self.classifiers_:\n",
        "            probs.append(hblr.predict_proba(X).reshape((len(X),1))) # get probability for each classifier\n",
        "        \n",
        "        return np.hstack(probs) # make into single matrix\n",
        "    \n",
        "    def predict(self,X):\n",
        "        return np.argmax(self.predict_proba(X),axis=1) # take argmax along row\n",
        "    \n",
        "lr = MultiClassLogisticRegression(eta=0.1,iterations=1)\n",
        "\n",
        "lr.fit(X_train,y_train)\n",
        "print(lr)\n",
        "\n",
        "yhat = lr.predict(X_test)\n",
        "print('Accuracy of: ',accuracy_score(y_test,yhat))"
      ],
      "execution_count": 0,
      "outputs": [
        {
          "output_type": "stream",
          "text": [
            "MultiClass Logistic Regression Object with coefficients:\n",
            "[[ 8.30269939e-01 -9.23149223e-05 -1.33078758e-07 -4.59936879e-04\n",
            "  -2.04573149e-05 -7.79340074e-03 -1.19769003e-03  1.04840658e-01\n",
            "   1.00273029e-01  1.07955331e-01  1.14304666e-01  1.51687173e-01\n",
            "   1.13488949e-01  1.37720140e-01]\n",
            " [-1.05994135e-01 -2.59008923e-05 -2.01773101e-07  5.84598188e-05\n",
            "  -2.81628092e-05  5.75403554e-03  1.17295258e-02  1.33327629e-02\n",
            "  -2.33666578e-03 -1.64640857e-03 -1.77104986e-02 -4.28354515e-02\n",
            "  -1.44102322e-02 -4.03876428e-02]\n",
            " [-7.68025804e-01  1.18215815e-04  3.34851859e-07  4.01477060e-04\n",
            "   4.86201242e-05  2.03936520e-03 -1.05318358e-02 -1.24423421e-01\n",
            "  -1.04186364e-01 -1.12558923e-01 -1.02844168e-01 -1.15101722e-01\n",
            "  -1.05328717e-01 -1.03582498e-01]]\n",
            "Accuracy of:  0.7235494880546075\n"
          ],
          "name": "stdout"
        }
      ]
    },
    {
      "metadata": {
        "id": "SuJUXCX_GTua",
        "colab_type": "code",
        "colab": {}
      },
      "cell_type": "code",
      "source": [
        ""
      ],
      "execution_count": 0,
      "outputs": []
    }
  ]
}