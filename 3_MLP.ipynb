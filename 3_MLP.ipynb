{
  "nbformat": 4,
  "nbformat_minor": 0,
  "metadata": {
    "colab": {
      "name": "LAB4.ipynb",
      "version": "0.3.2",
      "provenance": [],
      "collapsed_sections": []
    },
    "kernelspec": {
      "name": "python3",
      "display_name": "Python 3"
    }
  },
  "cells": [
    {
      "metadata": {
        "id": "dyqnfEOKnNkM",
        "colab_type": "text"
      },
      "cell_type": "markdown",
      "source": [
        "# Lab 4: Evaluation and Multi-Layer Perceptron "
      ]
    },
    {
      "metadata": {
        "id": "Rrwb2Hy6CKR8",
        "colab_type": "text"
      },
      "cell_type": "markdown",
      "source": [
        "Group Members: Christina DeSantiago, Estefy Fiallos, Kaiying Li, Tianyu Li"
      ]
    },
    {
      "metadata": {
        "id": "By0xOegRoe2a",
        "colab_type": "text"
      },
      "cell_type": "markdown",
      "source": [
        "In this lab, you will compare the performance of multi-layer perceptrons programmed in scikit-learn and via your own implementation. \n",
        "\n",
        "Select a dataset identically to the way you selected for lab one or lab three (table data or image data). You are not required to use the same dataset that you used in the past, but you are encouraged. You must identify a classification task from the dataset that contains three or more classes to predict. That is, it cannot be a binary classification; it must be multi-class prediction. "
      ]
    },
    {
      "metadata": {
        "id": "LNIeBYSynQxX",
        "colab_type": "text"
      },
      "cell_type": "markdown",
      "source": [
        "# Preparation"
      ]
    },
    {
      "metadata": {
        "id": "DEQ8eWevnl2D",
        "colab_type": "text"
      },
      "cell_type": "markdown",
      "source": [
        "**[5 points] (mostly the same processes as from previous lab) Explain the task and what business-case or use-case it is designed to solve (or designed to investigate). Detail exactly what the task is and what parties would be interested in the results. How well would your prediction algorithm need to perform to be considered useful by interested parties?**"
      ]
    },
    {
      "metadata": {
        "id": "VcqM1_tjGrj5",
        "colab_type": "text"
      },
      "cell_type": "markdown",
      "source": [
        "For this lab, we chose the same dataset as lab one: Ames Housing Data. Our task is to classify houses into one of three price ranges based on the various attributes of the property (# of bedrooms, square footage, year built, etc). Our price ranges are labeled as 0, 1, 2 to represent a low, medium, and high price.\n",
        "\n",
        "For the buyers, it will be convenient for them to narrow down the house choices within their budget range by selecting the number of bedrooms and bathrooms, garage types and other features when they are in the house market.\n",
        "\n",
        "On the other hand, for sellers such as real estate or construction company, it is crucial to understand which type of houses or floor plan are more desirable in the market. Predicting the sales prices of different type of houses not only helps them optimize their asset acquisition or construction plan, it also leads to quicker asset turn over and smooth sales process. Ultimately a greater profit is achieved. It would also be important for a real estate company to predict the price range of a house specifically for meeting quotas. Sales representatives often have quotas to meet each business quarter for their sales. Understanding the predicted price range of a property will allow a sales rep to push more towards certain kinds of properties in order to meet these quotas. Sellers can use our algorithm as a guide to price their properties. \n",
        "\n",
        "There are two possible types of misclassification in our dataset - one is between adjacent categories (low, medium and medium, high) and the other is between low and high sales price categories. Our algorithm would not be useful for realtors if there are any misclassifications between lowest and highest priced houses. This would not only show that the algorithm does not work but could also lead to a significant loss of revenue for the seller. There is a little more room for error for houses that might be on the borderline between price ranges. Zillow uses Zestimates to predict house prices. According to https://www.zillow.com/zestimate/, the Zestimate was within 20% of the transaction price for 87.6% of properties across the U.S. Using this number as a rough guideline, we can estimate that the algorithm would still be useful with about a 10% misclassification rate for houses that are on the borderline between price ranges.  "
      ]
    },
    {
      "metadata": {
        "id": "kHVWEFB3nrv8",
        "colab_type": "text"
      },
      "cell_type": "markdown",
      "source": [
        "**[10 points] (mostly the same processes as from lab one) Define and prepare your class variables. Use proper variable representations (int, float, one-hot, etc.). Use pre-processing methods (as needed) for dimensionality reduction, scaling, etc. Remove variables that are not needed/useful for the analysis. Describe the final dataset that is used for classification (include a description of any newly formed variables you created).**"
      ]
    },
    {
      "metadata": {
        "id": "eUXbjnRXeqbp",
        "colab_type": "text"
      },
      "cell_type": "markdown",
      "source": [
        "We used our same dataset from lab one with a subset of 8 attributes: Gr Liv Area = Above ground living area (continuous), SalePrice = Sales price in dollars (continuous), Year built (discrete), Full Bath = number of full bathrooms (discrete), Bedroom AbvGr = number of bedrooms above ground (discrete), Garage Type (nominal), Lot frontage (continuous), Lot Area (continuous).\n",
        "\n",
        "We changed the Garage Type variable to be one-hot encoded, creating 7 new dummy variables for our data set. We used the same method of imputing missing values in Lot Frontage based on Lot Area. We also transformed our SalePrice variable into a Price_Range variable. Instead of having a continuous response variable, we now have a categorical response with 3 different levels of pricing so we can use multi level classification. We used the distribution of SalePrice, which we investigated in lab one, to determine how to split the prices into ranges. A house with sale price less than 130,000 dollars is assigned to the lowest price range \"0\" and houses with sale price above 210,000 dollars are assigned to the highest price range \"2\". We also used MinMax Scaler to normalize our data.\n",
        "\n",
        "Our final data sets has are: X, with 14 predictors (7 dummy variables for Garage Type + 7 previously defined variables) and y, with 1 target variable.\n"
      ]
    },
    {
      "metadata": {
        "id": "YIpHXUn_JE_N",
        "colab_type": "code",
        "outputId": "61e72a62-600a-4bb7-ac88-2b9efd492289",
        "colab": {
          "base_uri": "https://localhost:8080/",
          "height": 238
        }
      },
      "cell_type": "code",
      "source": [
        "#import data set\n",
        "import pandas as pd\n",
        "df2=pd.read_csv(\"https://raw.githubusercontent.com/skytianyuli/MLPython/master/ames.csv\", sep=\",\")\n",
        "\n",
        "#make a subset of the dataset only with the variables we are interested in\n",
        "to_keep=['Lot.Frontage','Lot.Area','Year.Built', 'Gr.Liv.Area','Full.Bath', 'Bedroom.AbvGr','Garage.Type', 'SalePrice']\n",
        "sub = df2[to_keep].copy()\n",
        "\n",
        "sub.info()"
      ],
      "execution_count": 0,
      "outputs": [
        {
          "output_type": "stream",
          "text": [
            "<class 'pandas.core.frame.DataFrame'>\n",
            "RangeIndex: 2930 entries, 0 to 2929\n",
            "Data columns (total 8 columns):\n",
            "Lot.Frontage     2440 non-null float64\n",
            "Lot.Area         2930 non-null int64\n",
            "Year.Built       2930 non-null int64\n",
            "Gr.Liv.Area      2930 non-null int64\n",
            "Full.Bath        2930 non-null int64\n",
            "Bedroom.AbvGr    2930 non-null int64\n",
            "Garage.Type      2773 non-null object\n",
            "SalePrice        2930 non-null int64\n",
            "dtypes: float64(1), int64(6), object(1)\n",
            "memory usage: 183.2+ KB\n"
          ],
          "name": "stdout"
        }
      ]
    },
    {
      "metadata": {
        "id": "FVQfGHa8MHz9",
        "colab_type": "code",
        "outputId": "24713c9e-9f77-4d86-abf3-c5c37177c3ce",
        "colab": {
          "base_uri": "https://localhost:8080/",
          "height": 238
        }
      },
      "cell_type": "code",
      "source": [
        "#Change NA values in 'Garage Type' to No_Garage (since NA is described as no garage in data documentation)\n",
        "sub['Garage.Type'].fillna(value='No_Garage', inplace= True)\n",
        "sub.info()"
      ],
      "execution_count": 0,
      "outputs": [
        {
          "output_type": "stream",
          "text": [
            "<class 'pandas.core.frame.DataFrame'>\n",
            "RangeIndex: 2930 entries, 0 to 2929\n",
            "Data columns (total 8 columns):\n",
            "Lot.Frontage     2440 non-null float64\n",
            "Lot.Area         2930 non-null int64\n",
            "Year.Built       2930 non-null int64\n",
            "Gr.Liv.Area      2930 non-null int64\n",
            "Full.Bath        2930 non-null int64\n",
            "Bedroom.AbvGr    2930 non-null int64\n",
            "Garage.Type      2930 non-null object\n",
            "SalePrice        2930 non-null int64\n",
            "dtypes: float64(1), int64(6), object(1)\n",
            "memory usage: 183.2+ KB\n"
          ],
          "name": "stdout"
        }
      ]
    },
    {
      "metadata": {
        "id": "yQ4rKDUhMK1t",
        "colab_type": "code",
        "outputId": "db55c2d2-1869-4d19-8de6-94fa85d63e8c",
        "colab": {
          "base_uri": "https://localhost:8080/",
          "height": 204
        }
      },
      "cell_type": "code",
      "source": [
        "#one hot encoding for the Garage Type variable\n",
        "tmp = pd.get_dummies(sub['Garage.Type'])\n",
        "result = pd.concat([sub, tmp],axis=1, join_axes=[sub.index])\n",
        "del result['Garage.Type'] #delete since we have the dummy variables now\n",
        "result.head()"
      ],
      "execution_count": 0,
      "outputs": [
        {
          "output_type": "execute_result",
          "data": {
            "text/html": [
              "<div>\n",
              "<style scoped>\n",
              "    .dataframe tbody tr th:only-of-type {\n",
              "        vertical-align: middle;\n",
              "    }\n",
              "\n",
              "    .dataframe tbody tr th {\n",
              "        vertical-align: top;\n",
              "    }\n",
              "\n",
              "    .dataframe thead th {\n",
              "        text-align: right;\n",
              "    }\n",
              "</style>\n",
              "<table border=\"1\" class=\"dataframe\">\n",
              "  <thead>\n",
              "    <tr style=\"text-align: right;\">\n",
              "      <th></th>\n",
              "      <th>Lot.Frontage</th>\n",
              "      <th>Lot.Area</th>\n",
              "      <th>Year.Built</th>\n",
              "      <th>Gr.Liv.Area</th>\n",
              "      <th>Full.Bath</th>\n",
              "      <th>Bedroom.AbvGr</th>\n",
              "      <th>SalePrice</th>\n",
              "      <th>2Types</th>\n",
              "      <th>Attchd</th>\n",
              "      <th>Basment</th>\n",
              "      <th>BuiltIn</th>\n",
              "      <th>CarPort</th>\n",
              "      <th>Detchd</th>\n",
              "      <th>No_Garage</th>\n",
              "    </tr>\n",
              "  </thead>\n",
              "  <tbody>\n",
              "    <tr>\n",
              "      <th>0</th>\n",
              "      <td>141.0</td>\n",
              "      <td>31770</td>\n",
              "      <td>1960</td>\n",
              "      <td>1656</td>\n",
              "      <td>1</td>\n",
              "      <td>3</td>\n",
              "      <td>215000</td>\n",
              "      <td>0</td>\n",
              "      <td>1</td>\n",
              "      <td>0</td>\n",
              "      <td>0</td>\n",
              "      <td>0</td>\n",
              "      <td>0</td>\n",
              "      <td>0</td>\n",
              "    </tr>\n",
              "    <tr>\n",
              "      <th>1</th>\n",
              "      <td>80.0</td>\n",
              "      <td>11622</td>\n",
              "      <td>1961</td>\n",
              "      <td>896</td>\n",
              "      <td>1</td>\n",
              "      <td>2</td>\n",
              "      <td>105000</td>\n",
              "      <td>0</td>\n",
              "      <td>1</td>\n",
              "      <td>0</td>\n",
              "      <td>0</td>\n",
              "      <td>0</td>\n",
              "      <td>0</td>\n",
              "      <td>0</td>\n",
              "    </tr>\n",
              "    <tr>\n",
              "      <th>2</th>\n",
              "      <td>81.0</td>\n",
              "      <td>14267</td>\n",
              "      <td>1958</td>\n",
              "      <td>1329</td>\n",
              "      <td>1</td>\n",
              "      <td>3</td>\n",
              "      <td>172000</td>\n",
              "      <td>0</td>\n",
              "      <td>1</td>\n",
              "      <td>0</td>\n",
              "      <td>0</td>\n",
              "      <td>0</td>\n",
              "      <td>0</td>\n",
              "      <td>0</td>\n",
              "    </tr>\n",
              "    <tr>\n",
              "      <th>3</th>\n",
              "      <td>93.0</td>\n",
              "      <td>11160</td>\n",
              "      <td>1968</td>\n",
              "      <td>2110</td>\n",
              "      <td>2</td>\n",
              "      <td>3</td>\n",
              "      <td>244000</td>\n",
              "      <td>0</td>\n",
              "      <td>1</td>\n",
              "      <td>0</td>\n",
              "      <td>0</td>\n",
              "      <td>0</td>\n",
              "      <td>0</td>\n",
              "      <td>0</td>\n",
              "    </tr>\n",
              "    <tr>\n",
              "      <th>4</th>\n",
              "      <td>74.0</td>\n",
              "      <td>13830</td>\n",
              "      <td>1997</td>\n",
              "      <td>1629</td>\n",
              "      <td>2</td>\n",
              "      <td>3</td>\n",
              "      <td>189900</td>\n",
              "      <td>0</td>\n",
              "      <td>1</td>\n",
              "      <td>0</td>\n",
              "      <td>0</td>\n",
              "      <td>0</td>\n",
              "      <td>0</td>\n",
              "      <td>0</td>\n",
              "    </tr>\n",
              "  </tbody>\n",
              "</table>\n",
              "</div>"
            ],
            "text/plain": [
              "   Lot.Frontage  Lot.Area  Year.Built  Gr.Liv.Area  Full.Bath  Bedroom.AbvGr  \\\n",
              "0         141.0     31770        1960         1656          1              3   \n",
              "1          80.0     11622        1961          896          1              2   \n",
              "2          81.0     14267        1958         1329          1              3   \n",
              "3          93.0     11160        1968         2110          2              3   \n",
              "4          74.0     13830        1997         1629          2              3   \n",
              "\n",
              "   SalePrice  2Types  Attchd  Basment  BuiltIn  CarPort  Detchd  No_Garage  \n",
              "0     215000       0       1        0        0        0       0          0  \n",
              "1     105000       0       1        0        0        0       0          0  \n",
              "2     172000       0       1        0        0        0       0          0  \n",
              "3     244000       0       1        0        0        0       0          0  \n",
              "4     189900       0       1        0        0        0       0          0  "
            ]
          },
          "metadata": {
            "tags": []
          },
          "execution_count": 3
        }
      ]
    },
    {
      "metadata": {
        "id": "7y9xwhXkMRe9",
        "colab_type": "code",
        "outputId": "d92ba7d2-3edd-42b7-f0a5-9212ba7f5562",
        "colab": {
          "base_uri": "https://localhost:8080/",
          "height": 357
        }
      },
      "cell_type": "code",
      "source": [
        "#Imputation of Lot Frontage\n",
        "#Breaking up 'Lot Area' into intervals\n",
        "result['Lot_Area_Ranges']= pd.cut(result['Lot.Area'], [0, 10000, 20000, 30000, 250000])\n",
        "\n",
        "result_grouped = result.groupby(by=['Lot_Area_Ranges'])\n",
        "\n",
        "#Fill missing values with mean within 'Lot Area' intervals\n",
        "func = lambda grp: grp.fillna(grp.mean())\n",
        "result_imputed= result_grouped.transform(func)\n",
        "\n",
        "# fill any deleted columns\n",
        "col_deleted = list( set(result.columns) - set(result_imputed.columns)) # in case the mean operation deleted columns\n",
        "result_imputed[col_deleted] = result[col_deleted]\n",
        "\n",
        "result_imputed.info()"
      ],
      "execution_count": 0,
      "outputs": [
        {
          "output_type": "stream",
          "text": [
            "<class 'pandas.core.frame.DataFrame'>\n",
            "RangeIndex: 2930 entries, 0 to 2929\n",
            "Data columns (total 15 columns):\n",
            "Lot.Frontage       2930 non-null float64\n",
            "Lot.Area           2930 non-null int64\n",
            "Year.Built         2930 non-null int64\n",
            "Gr.Liv.Area        2930 non-null int64\n",
            "Full.Bath          2930 non-null int64\n",
            "Bedroom.AbvGr      2930 non-null int64\n",
            "SalePrice          2930 non-null int64\n",
            "2Types             2930 non-null uint8\n",
            "Attchd             2930 non-null uint8\n",
            "Basment            2930 non-null uint8\n",
            "BuiltIn            2930 non-null uint8\n",
            "CarPort            2930 non-null uint8\n",
            "Detchd             2930 non-null uint8\n",
            "No_Garage          2930 non-null uint8\n",
            "Lot_Area_Ranges    2930 non-null category\n",
            "dtypes: category(1), float64(1), int64(6), uint8(7)\n",
            "memory usage: 183.3 KB\n"
          ],
          "name": "stdout"
        }
      ]
    },
    {
      "metadata": {
        "id": "v3NsU_hlMk3h",
        "colab_type": "code",
        "colab": {}
      },
      "cell_type": "code",
      "source": [
        "#get rid of the \"Lot Area Range\" variable because we don't need it in prediction model\n",
        "result=result_imputed.copy()\n",
        "del result['Lot_Area_Ranges']\n"
      ],
      "execution_count": 0,
      "outputs": []
    },
    {
      "metadata": {
        "id": "s74ky1vpNChQ",
        "colab_type": "code",
        "outputId": "a58d7023-e8eb-4a2a-81e2-72f10bd7f457",
        "colab": {
          "base_uri": "https://localhost:8080/",
          "height": 357
        }
      },
      "cell_type": "code",
      "source": [
        "#Break Sales price into 3 classes for prediction\n",
        "result['Price_Range']=pd.cut(result[\"SalePrice\"], [0,130000,210000,800000],labels=[0,1,2])\n",
        "#0=low, 1=mid, 2= high\n",
        "result.info()"
      ],
      "execution_count": 0,
      "outputs": [
        {
          "output_type": "stream",
          "text": [
            "<class 'pandas.core.frame.DataFrame'>\n",
            "RangeIndex: 2930 entries, 0 to 2929\n",
            "Data columns (total 15 columns):\n",
            "Lot.Frontage     2930 non-null float64\n",
            "Lot.Area         2930 non-null int64\n",
            "Year.Built       2930 non-null int64\n",
            "Gr.Liv.Area      2930 non-null int64\n",
            "Full.Bath        2930 non-null int64\n",
            "Bedroom.AbvGr    2930 non-null int64\n",
            "SalePrice        2930 non-null int64\n",
            "2Types           2930 non-null uint8\n",
            "Attchd           2930 non-null uint8\n",
            "Basment          2930 non-null uint8\n",
            "BuiltIn          2930 non-null uint8\n",
            "CarPort          2930 non-null uint8\n",
            "Detchd           2930 non-null uint8\n",
            "No_Garage        2930 non-null uint8\n",
            "Price_Range      2930 non-null category\n",
            "dtypes: category(1), float64(1), int64(6), uint8(7)\n",
            "memory usage: 183.3 KB\n"
          ],
          "name": "stdout"
        }
      ]
    },
    {
      "metadata": {
        "id": "mwE_Il_ROBWy",
        "colab_type": "code",
        "outputId": "0b5e93cd-6838-4046-a73c-e7978f022fee",
        "colab": {
          "base_uri": "https://localhost:8080/",
          "height": 402
        }
      },
      "cell_type": "code",
      "source": [
        "#visualize Price Range with bar chart\n",
        "import matplotlib.pyplot as plt\n",
        "plt.figure(figsize=(10,6))\n",
        "result['Price_Range'].value_counts().plot(kind='bar')\n",
        "plt.title('Distribution of Price Range')"
      ],
      "execution_count": 0,
      "outputs": [
        {
          "output_type": "execute_result",
          "data": {
            "text/plain": [
              "Text(0.5,1,'Distribution of Price Range')"
            ]
          },
          "metadata": {
            "tags": []
          },
          "execution_count": 8
        },
        {
          "output_type": "display_data",
          "data": {
            "image/png": "[encoded data removed]",
            "text/plain": [
              "<matplotlib.figure.Figure at 0x7f9c0b67fc18>"
            ]
          },
          "metadata": {
            "tags": []
          }
        }
      ]
    },
    {
      "metadata": {
        "id": "gxuuhpmesFi3",
        "colab_type": "code",
        "colab": {}
      },
      "cell_type": "code",
      "source": [
        "df=result.copy()\n",
        "del df['SalePrice']\n",
        "# we want to predict the X and y data as follows:\n",
        "if 'Price_Range' in df:\n",
        "    y = df['Price_Range'].values # get the labels we want\n",
        "    del df['Price_Range'] # get rid of the class label\n",
        "    X = df.values # use everything else to predict!\n",
        "\n",
        "    ## X and y are now numpy matrices, by calling 'values' on the pandas data frames we\n",
        "    #    have converted them into simple matrices to use with scikit learn\n"
      ],
      "execution_count": 0,
      "outputs": []
    },
    {
      "metadata": {
        "id": "Fa7r-HJMsJ2M",
        "colab_type": "code",
        "outputId": "2244c9e6-2989-4547-8584-333c40b85bcd",
        "colab": {
          "base_uri": "https://localhost:8080/",
          "height": 238
        }
      },
      "cell_type": "code",
      "source": [
        "#Normalize data\n",
        "from sklearn.preprocessing import MinMaxScaler\n",
        "\n",
        "scaler = MinMaxScaler(copy=False)\n",
        "scaler.fit(X)\n",
        "scaler.transform(X)\n"
      ],
      "execution_count": 0,
      "outputs": [
        {
          "output_type": "execute_result",
          "data": {
            "text/plain": [
              "array([[0.4109589 , 0.14241978, 0.63768116, ..., 0.        , 0.        ,\n",
              "        0.        ],\n",
              "       [0.20205479, 0.04824604, 0.64492754, ..., 0.        , 0.        ,\n",
              "        0.        ],\n",
              "       [0.20547945, 0.06060904, 0.62318841, ..., 0.        , 0.        ,\n",
              "        0.        ],\n",
              "       ...,\n",
              "       [0.14041096, 0.04272593, 0.86956522, ..., 0.        , 0.        ,\n",
              "        1.        ],\n",
              "       [0.19178082, 0.0407114 , 0.73913043, ..., 0.        , 0.        ,\n",
              "        0.        ],\n",
              "       [0.18150685, 0.03892122, 0.87681159, ..., 0.        , 0.        ,\n",
              "        0.        ]])"
            ]
          },
          "metadata": {
            "tags": []
          },
          "execution_count": 10
        }
      ]
    },
    {
      "metadata": {
        "id": "EMS8W1FinZZ3",
        "colab_type": "text"
      },
      "cell_type": "markdown",
      "source": [
        "# Evaluation"
      ]
    },
    {
      "metadata": {
        "id": "NV5PHwEQnwGq",
        "colab_type": "text"
      },
      "cell_type": "markdown",
      "source": [
        "**[15 points] Choose and explain what metric(s) you will use to evaluate your algorithm’s generalization performance. You should give a detailed argument for why this (these) metric(s) are appropriate on your data. That is, why does the metric evaluate performance in terms of the business case you argued for. Please note: rarely is accuracy the best evaluation metric to use. Think deeply about an appropriate measure of performance.**"
      ]
    },
    {
      "metadata": {
        "id": "9Qtrlz01NigN",
        "colab_type": "text"
      },
      "cell_type": "markdown",
      "source": [
        "We will use a cost matrix as our evaluation method because we want to consider how different types of misclassifications will affect business from a seller's standpoint.\n",
        "\n",
        "If we classify a house as lower priced than it actually is, sellers would lose revenue when selling the house. If we classify a house as higher priced than it is, there would be less demand from buyers because the sales price is out of budget. This would ultimately would lead to loss of revenue for the seller because it would take longer to sell the house. This uses up the seller's time and resources while this time could have been spent selling an additional property. \n",
        "\n",
        "We chose to use different weights for the cost because misclassification between the lowest and highest price ranges would be worse than misclassifying houses that might be in the bordeline between price ranges. To choose the costs, we calculated the difference between median sales price for each pair of price range categories to have an estimate of how much the misclassification would cost the seller. Then, we set the misclassification between lowest and highest price ranges (0 and 2) to be 100 and normalized the other price differences to this. The resulting cost matrix is depicted below. \n"
      ]
    },
    {
      "metadata": {
        "id": "VehT1lsqMBvN",
        "colab_type": "code",
        "outputId": "77830b95-11fc-4195-9277-98d0cf8e5c18",
        "colab": {
          "base_uri": "https://localhost:8080/",
          "height": 51
        }
      },
      "cell_type": "code",
      "source": [
        "#determine values to use in cost matrix\n",
        "df2 = result.groupby(['Price_Range']).median()\n",
        "\n",
        "diff01 = df2.SalePrice[1] - df2.SalePrice[0] \n",
        "\n",
        "diff02 = df2.SalePrice[2] - df2.SalePrice[0]\n",
        "\n",
        "diff12 = df2.SalePrice[2] - df2.SalePrice[1]\n",
        "\n",
        "print(diff01, diff12, diff02)\n",
        "\n",
        "C02 = 100 #Setting the difference between highest and lowest price (diff02) to be 100\n",
        "C01 = diff01*100/diff02\n",
        "C12 = diff12*100/diff02\n",
        "\n",
        "print(C01, C12, C02)\n"
      ],
      "execution_count": 0,
      "outputs": [
        {
          "output_type": "stream",
          "text": [
            "48500.0 100364.5 148864.5\n",
            "32.579963658226106 67.4200363417739 100\n"
          ],
          "name": "stdout"
        }
      ]
    },
    {
      "metadata": {
        "id": "6BtXadaxMD46",
        "colab_type": "code",
        "outputId": "26512cc0-ca87-4b39-ed50-ce57a7e21e6c",
        "colab": {
          "base_uri": "https://localhost:8080/",
          "height": 68
        }
      },
      "cell_type": "code",
      "source": [
        "#creating custom cost matrix\n",
        "import numpy as np\n",
        "cost_mat = np.matrix([[0,33,100],\n",
        "            [33,0,67],\n",
        "            [100,67,0]])\n",
        "print(cost_mat)"
      ],
      "execution_count": 0,
      "outputs": [
        {
          "output_type": "stream",
          "text": [
            "[[  0  33 100]\n",
            " [ 33   0  67]\n",
            " [100  67   0]]\n"
          ],
          "name": "stdout"
        }
      ]
    },
    {
      "metadata": {
        "id": "2qAHlmC6X0uL",
        "colab_type": "text"
      },
      "cell_type": "markdown",
      "source": [
        "The cost matrix above is how we will evaluate the performance of our model in conjunction with the confusion matrix.  "
      ]
    },
    {
      "metadata": {
        "id": "IuDEIj4Lnz0W",
        "colab_type": "text"
      },
      "cell_type": "markdown",
      "source": [
        "**[15 points] Choose the method you will use for dividing your data into training and testing (i.e., are you using Stratified 10-fold cross validation? Why?). Explain why your chosen method is appropriate or use more than one method as appropriate. For example, if you are using time series data then you should be using continuous training and testing sets across time. Convince the reader that your cross validation method is a realistic mirroring of how an algorithm would be used in practice.** \n",
        "\n",
        "**Important: You should use your chosen evaluation criteria and chosen method for dividing train/test data throughout the report. For example, arguing that f-score is the best evaluation method, but then using accuracy in a grid search will be regarded as a conceptual error and graded accordingly.**"
      ]
    },
    {
      "metadata": {
        "id": "pTz1Z3v1VsgC",
        "colab_type": "text"
      },
      "cell_type": "markdown",
      "source": [
        "We will use Stratified k fold cross validation for our data set. Stratified k fold aims to create folds that are representative of all classes in the data. Since we have slight class imbalance in our data set, (50% - class 1,  25% - class 0, 25% -  class 2), it is best to use stratified k fold to ensure all training folds contain accurate representation of each class. Also, statified k fold works well on small/medium data sets. With only 2930 observations in our set, it is appropriate to use stratified k fold in this case.\n",
        "\n",
        "We will also further split the training set to attain a validation data set to use for hyperparameter tuning (shown under \"Tuning parameters\")"
      ]
    },
    {
      "metadata": {
        "id": "BtCmc5P_Re0E",
        "colab_type": "code",
        "outputId": "0ed039a4-5e26-4c83-ee09-75a1ea921f85",
        "colab": {
          "base_uri": "https://localhost:8080/",
          "height": 34
        }
      },
      "cell_type": "code",
      "source": [
        "from sklearn.model_selection import StratifiedKFold, StratifiedShuffleSplit\n",
        "skf = StratifiedKFold(n_splits=10,random_state=1)\n",
        "skf.get_n_splits(X, y)\n",
        "\n",
        "print(skf)  \n",
        "for train_index, test_index in skf.split(X, y):\n",
        "    X_train, X_test = X[train_index], X[test_index]\n",
        "    y_train, y_test = y[train_index], y[test_index]"
      ],
      "execution_count": 0,
      "outputs": [
        {
          "output_type": "stream",
          "text": [
            "StratifiedKFold(n_splits=10, random_state=None, shuffle=False)\n"
          ],
          "name": "stdout"
        }
      ]
    },
    {
      "metadata": {
        "id": "1EQqQRNntPT2",
        "colab_type": "code",
        "outputId": "4ddcda94-4279-4e81-f44c-29b6ff86bd5d",
        "colab": {
          "base_uri": "https://localhost:8080/",
          "height": 34
        }
      },
      "cell_type": "code",
      "source": [
        "X_train.shape"
      ],
      "execution_count": 0,
      "outputs": [
        {
          "output_type": "execute_result",
          "data": {
            "text/plain": [
              "(2639, 13)"
            ]
          },
          "metadata": {
            "tags": []
          },
          "execution_count": 79
        }
      ]
    },
    {
      "metadata": {
        "id": "TZ1UU1qMtSad",
        "colab_type": "code",
        "outputId": "ee0cf8b1-8f32-4a7a-c998-f7b2fd30e57b",
        "colab": {
          "base_uri": "https://localhost:8080/",
          "height": 34
        }
      },
      "cell_type": "code",
      "source": [
        "X_test.shape"
      ],
      "execution_count": 0,
      "outputs": [
        {
          "output_type": "execute_result",
          "data": {
            "text/plain": [
              "(291, 13)"
            ]
          },
          "metadata": {
            "tags": []
          },
          "execution_count": 80
        }
      ]
    },
    {
      "metadata": {
        "id": "Eq1Bz9y4nc0E",
        "colab_type": "text"
      },
      "cell_type": "markdown",
      "source": [
        "# Modeling"
      ]
    },
    {
      "metadata": {
        "id": "vgaJmieRn51L",
        "colab_type": "text"
      },
      "cell_type": "markdown",
      "source": [
        "All modeling code must be written using only the instructor's template code. Do NOT copy this implementation form anywhere online. Not fully implementing the back propagation algorithm will result in a zero for the entire assignment."
      ]
    },
    {
      "metadata": {
        "id": "UKvA2-TZoCM1",
        "colab_type": "text"
      },
      "cell_type": "markdown",
      "source": [
        "**[20 points] Create a custom implementation of the multi-layer perceptron. Start with the implementation given to you in the course. Update the MLP class to:\n",
        "When instantiated, use a selectable phi function for the initial layer: either sigmoid or linear \n",
        "Use a selectable cost function when instantiated: either quadratic or cross entropy\n",
        "Add support for any number of hidden layers (user customizable).**"
      ]
    },
    {
      "metadata": {
        "id": "afCgWpcab-uA",
        "colab_type": "code",
        "colab": {}
      },
      "cell_type": "code",
      "source": [
        "import numpy as np\n",
        "from scipy.special import expit\n",
        "import pandas as pd\n",
        "import sys\n",
        "from sklearn.metrics import accuracy_score\n",
        "\n",
        "\n",
        "#phif can be \"sigmoid\" or \"linear\"\n",
        "#costf can be \"q\" for quadratic or \"c\" for cross entropy\n",
        "#specify number of hidden layers in n_layer\n",
        "\n",
        "class MultLayerPerceptronBase(object):\n",
        "    def __init__(self, n_hidden=30,\n",
        "                 C=0.0, epochs=500, eta=0.001, phif=\"sigmoid\", costf=\"q\",n_layer=2,random_state=None):\n",
        "        np.random.seed(random_state)\n",
        "        self.n_hidden = n_hidden\n",
        "        self.l2_C = C\n",
        "        self.epochs = epochs\n",
        "        self.eta = eta\n",
        "        self.phif = phif\n",
        "        self.costf = costf\n",
        "        self.n_layer = n_layer\n",
        "        \n",
        "    @staticmethod\n",
        "    def _encode_labels(y):\n",
        "        \"\"\"Encode labels into one-hot representation\"\"\"\n",
        "        onehot = pd.get_dummies(y).values.T\n",
        "            \n",
        "        return onehot\n",
        "    \n",
        "    \n",
        "    def _initialize_weights(self):\n",
        "        \"\"\"Initialize weights with small random numbers.\"\"\"\n",
        "        W=[]\n",
        "        W1_num_elems = (self.n_features_ + 1)*self.n_hidden\n",
        "        W1 = np.random.uniform(-1.0, 1.0,size=W1_num_elems)\n",
        "        W1 = W1.reshape(self.n_hidden, self.n_features_ + 1) # reshape to be W\n",
        "        W.append(W1)\n",
        "        \n",
        "        for i in range(1,self.n_layer-1):          \n",
        "          W_num_elems = (self.n_hidden + 1)*self.n_hidden\n",
        "          Wi = np.random.uniform(-1.0, 1.0,size=W_num_elems)\n",
        "          Wi = Wi.reshape(self.n_hidden, self.n_hidden + 1) # reshape to be W\n",
        "          W.append(Wi)          \n",
        "        \n",
        "        WOUT_num_elems = (self.n_hidden + 1)*self.n_output_\n",
        "        WOUT = np.random.uniform(-1.0, 1.0, size=WOUT_num_elems)\n",
        "        WOUT = WOUT.reshape(self.n_output_, self.n_hidden + 1)\n",
        "        W.append(WOUT)\n",
        "        return W\n",
        "    \n",
        "    #define custom phi function  \n",
        "    def _phi(self,z):\n",
        "        if self.phif == \"linear\":\n",
        "          return(z)\n",
        "        return expit(z)   #default is the sigmoid\n",
        "      \n",
        "    @staticmethod\n",
        "    def _sigmoid(z):\n",
        "        \"\"\"Use scipy.special.expit to avoid overflow\"\"\"\n",
        "        # 1.0 / (1.0 + np.exp(-z))\n",
        "        return expit(z)\n",
        "    \n",
        "    @staticmethod\n",
        "    def _add_bias_unit(X, how='column'):\n",
        "        \"\"\"Add bias unit (column or row of 1s) to array at index 0\"\"\"\n",
        "        if how == 'column':\n",
        "            ones = np.ones((X.shape[0], 1))\n",
        "            X_new = np.hstack((ones, X))\n",
        "        elif how == 'row':\n",
        "            ones = np.ones((1, X.shape[1]))\n",
        "            X_new = np.vstack((ones, X))\n",
        "        return X_new\n",
        "    \n",
        "    @staticmethod\n",
        "    def _L2_reg(lambda_, W):\n",
        "        \"\"\"Compute L2-regularization cost\"\"\"\n",
        "        # only compute for non-bias terms\n",
        "        s=[]\n",
        "        for i in range(0,len(W)):\n",
        "          s.append(np.mean(W[i][:, 1:] ** 2))\n",
        "          result= (lambda_/2.0) * np.sqrt(np.sum(s))\n",
        "        return result\n",
        "    \n",
        "    #define custom cost function. Default is the quadratic\n",
        "    def _cost(self,AOUT,Y_enc,W):\n",
        "        '''Get the objective function value'''\n",
        "        #quadratic\n",
        "        if self.costf == \"q\":\n",
        "          cost = np.mean((Y_enc-AOUT)**2)\n",
        "        #cross entropy\n",
        "        elif self.costf == \"c\":\n",
        "          cost = -np.mean(np.nan_to_num((Y_enc*np.log(AOUT)+(1-Y_enc)*np.log(1-AOUT))))\n",
        "        \n",
        "        L2_term = self._L2_reg(self.l2_C, W)\n",
        "        return cost + L2_term\n",
        "      \n",
        "      \n",
        "    \n",
        "    def _feedforward(self, X, W):\n",
        "        \"\"\"Compute feedforward step\n",
        "        \"\"\"\n",
        "        A=[]\n",
        "        Z=[]\n",
        "        A0 = self._add_bias_unit(X, how='column')\n",
        "        A0 = A0.T\n",
        "        A.append(A0)\n",
        "        Z0 = W[0] @ A0\n",
        "        Z.append(Z0)\n",
        "        \n",
        "        A1 = self._phi(Z0)   #customized phi function only for the first layer\n",
        "        A1 = self._add_bias_unit(A1, how='row')\n",
        "        Z1 = W[1] @ A1\n",
        "        A.append(A1)\n",
        "        Z.append(Z1)\n",
        "        \n",
        "        for i in range(2,self.n_layer):\n",
        "          Ai = self._sigmoid(Z[-1])          \n",
        "          Ai = self._add_bias_unit(Ai, how='row')\n",
        "          Zi = W[i] @ Ai\n",
        "          A.append(Ai)\n",
        "          Z.append(Zi)\n",
        "\n",
        "        AOUT = self._sigmoid(Z[-1])\n",
        "        A.append(AOUT)\n",
        "        return A, Z, AOUT\n",
        "    \n",
        "    def _get_gradient(self, A, Z, AOUT, Y_enc, W):\n",
        "        \"\"\" Compute gradient step using backpropagation.\n",
        "        \"\"\"\n",
        "        # vectorized backpropagation\n",
        "        V=[0]*self.n_layer\n",
        "        if self.costf == \"q\":\n",
        "          V[-1] = -2*(Y_enc-AOUT)*AOUT*(1-AOUT)  # last layer sensitivity\n",
        "        elif self.costf == \"c\":\n",
        "          V[-1] = (AOUT-Y_enc)\n",
        "        \n",
        "        #all other sensitivities\n",
        "        V[-2]=A[-2]*(1-A[-2])*(W[-1].T @ V[-1])\n",
        "        for i in range(self.n_layer-3,-1,-1):\n",
        "          V[i] = A[i+1]*(1-A[i+1])*(W[i+1].T @ V[i+1][1:,:])\n",
        "        \n",
        "        #first sensitivity is different for linear activation function\n",
        "        if self.phif == \"linear\":\n",
        "          if self.n_layer >2:\n",
        "            V[0]=(W[1].T @ V[1][1:,:])\n",
        "          else:\n",
        "            V[0]=(W[1].T @ V[1])\n",
        "          #if equals 2 then don't take off bias\n",
        "        \n",
        "        grads = [0]*len(V)\n",
        "        grads[0] = V[0][1:,:] @ A[0].T\n",
        "        for i in range(1,len(V)-1):\n",
        "          grads[i] = V[i][1:,:] @ A[i].T\n",
        "        grads[-1] = V[-1] @ A[-2].T\n",
        "\n",
        "        for k in range(0,self.n_layer):\n",
        "          grads[k][:, 1:] += W[k][:, 1:] * self.l2_C \n",
        "        \n",
        "        return grads\n",
        "    \n",
        "    def predict(self, X):\n",
        "        \"\"\"Predict class labels\"\"\"\n",
        "        _, _, AOUT = self._feedforward(X, self.W)\n",
        "        y_pred = np.argmax(AOUT, axis=0)\n",
        "        return y_pred"
      ],
      "execution_count": 0,
      "outputs": []
    },
    {
      "metadata": {
        "id": "EjqQeBhMcJKd",
        "colab_type": "code",
        "colab": {}
      },
      "cell_type": "code",
      "source": [
        "class MLPMiniBatch(MultLayerPerceptronBase):\n",
        "    def __init__(self, alpha=0.0, decrease_const=0.0, shuffle=True, \n",
        "                 minibatches=1, **kwds):        \n",
        "        # need to add to the original initializer \n",
        "        self.alpha = alpha\n",
        "        self.decrease_const = decrease_const\n",
        "        self.shuffle = shuffle\n",
        "        self.minibatches = minibatches\n",
        "        # but keep other keywords\n",
        "        super().__init__(**kwds)\n",
        "        \n",
        "    \n",
        "    def fit(self, X, y, print_progress=False):\n",
        "        \"\"\" Learn weights from training data. With mini-batch\"\"\"\n",
        "        X_data, y_data = X.copy(), y.copy()\n",
        "        Y_enc = self._encode_labels(y)\n",
        "        \n",
        "        # init weights and setup matrices\n",
        "        self.n_features_ = X_data.shape[1]\n",
        "        self.n_output_ = Y_enc.shape[0]\n",
        "        self.W = self._initialize_weights()\n",
        "        \n",
        "        # initialize grad_w_\n",
        "        self.grad_w_ = np.zeros(shape=(self.epochs,self.n_layer))\n",
        "\n",
        "        delta_W_prev=[]\n",
        "        for j in range(0,self.n_layer):\n",
        "          delta_Wj_prev = np.zeros(self.W[j].shape)\n",
        "          delta_W_prev.append(delta_Wj_prev)\n",
        "       \n",
        "\n",
        "        self.cost_ = []\n",
        "        self.score_ = []\n",
        "        # get starting acc\n",
        "        self.score_.append(accuracy_score(y_data,self.predict(X_data)))\n",
        "        for i in range(self.epochs):\n",
        "\n",
        "            # adaptive learning rate\n",
        "            self.eta /= (1 + self.decrease_const*i)\n",
        "\n",
        "            if print_progress>0 and (i+1)%print_progress==0:\n",
        "                sys.stderr.write('\\rEpoch: %d/%d' % (i+1, self.epochs))\n",
        "                sys.stderr.flush()\n",
        "\n",
        "            if self.shuffle:\n",
        "                idx_shuffle = np.random.permutation(y_data.shape[0])\n",
        "                X_data, Y_enc, y_data = X_data[idx_shuffle], Y_enc[:, idx_shuffle], y_data[idx_shuffle]\n",
        "\n",
        "            mini = np.array_split(range(y_data.shape[0]), self.minibatches)\n",
        "            mini_cost = []\n",
        "            for idx in mini:\n",
        "\n",
        "                # feedforward\n",
        "                A, Z, AOUT = self._feedforward(X_data[idx],\n",
        "                                         self.W)\n",
        "                \n",
        "                cost = self._cost(AOUT,Y_enc[:, idx],self.W)\n",
        "                mini_cost.append(cost) # this appends cost of mini-batch only\n",
        "\n",
        "                # compute gradient via backpropagation\n",
        "                grads = self._get_gradient(A,Z,AOUT,\n",
        "                                          Y_enc=Y_enc[:, idx],\n",
        "                                          W=self.W)\n",
        "                \n",
        "                # get magnitude of gradients\n",
        "                for m in range(0,self.n_layer):\n",
        "                  self.grad_w_[i][m]=np.mean(np.abs(grads[m]))\n",
        "\n",
        "                # momentum calculations\n",
        "                delta_W=[]\n",
        "                for k in range(0,self.n_layer):\n",
        "                  delta_Wk = self.eta * grads[k]\n",
        "                  delta_W.append(delta_Wk)\n",
        "                  self.W[k] -= (delta_W[k] + (self.alpha * delta_W_prev[k]))\n",
        "                delta_W_prev = delta_W\n",
        "\n",
        "            self.cost_.append(mini_cost)\n",
        "            self.score_.append(accuracy_score(y_data,self.predict(X_data)))\n",
        "            \n",
        "        return self\n",
        "    "
      ],
      "execution_count": 0,
      "outputs": []
    },
    {
      "metadata": {
        "id": "-ai4I97OcL4p",
        "colab_type": "code",
        "colab": {}
      },
      "cell_type": "code",
      "source": [
        "params = dict(n_hidden=50, \n",
        "              C=0.1, # tradeoff L2 regularizer\n",
        "              epochs=200, # iterations\n",
        "              eta=0.001,  # learning rate\n",
        "              n_layer=3,\n",
        "              random_state=1)"
      ],
      "execution_count": 0,
      "outputs": []
    },
    {
      "metadata": {
        "id": "QNU5PfKab4Aw",
        "colab_type": "code",
        "outputId": "40d43a81-5494-4b30-edf1-0cba1bdd4cb3",
        "colab": {
          "base_uri": "https://localhost:8080/",
          "height": 71
        }
      },
      "cell_type": "code",
      "source": [
        "#testing if our classifier runs correctly\n",
        "from sklearn.metrics import confusion_matrix\n",
        "\n",
        "nn = MLPMiniBatch(**params, phif='linear')\n",
        "nn.fit(X_train, y_train, print_progress=50)\n",
        "yhat=nn.predict(X_test)\n",
        "\n",
        "confusion_matrix(y_test,yhat)"
      ],
      "execution_count": 0,
      "outputs": [
        {
          "output_type": "stream",
          "text": [
            "Epoch: 200/200"
          ],
          "name": "stderr"
        },
        {
          "output_type": "execute_result",
          "data": {
            "text/plain": [
              "array([[53, 21,  3],\n",
              "       [23, 60, 55],\n",
              "       [ 1,  9, 66]])"
            ]
          },
          "metadata": {
            "tags": []
          },
          "execution_count": 60
        }
      ]
    },
    {
      "metadata": {
        "id": "i3nyr3VUggy-",
        "colab_type": "text"
      },
      "cell_type": "markdown",
      "source": [
        "## Tuning parameters"
      ]
    },
    {
      "metadata": {
        "id": "GANKvr30oIWC",
        "colab_type": "text"
      },
      "cell_type": "markdown",
      "source": [
        "**[15 points] Tune the hyper-parameters of your MLP model (phi function, objective function, and number of layers). While tuning hyper-parameters, analyze the results using your chosen metric(s) of evaluation. Visualize the evaluation metric(s) versus the hyper-parameters. Conclude what combination of parameters are best.**"
      ]
    },
    {
      "metadata": {
        "id": "DpS-Fx1szGPK",
        "colab_type": "code",
        "outputId": "485cb9e1-dfeb-42a7-9704-b3dc25bbdbe9",
        "colab": {
          "base_uri": "https://localhost:8080/",
          "height": 34
        }
      },
      "cell_type": "code",
      "source": [
        "#using cv to compare performance of different cost and activation functions\n",
        "from sklearn.metrics import confusion_matrix\n",
        "from sklearn.model_selection import StratifiedKFold, StratifiedShuffleSplit\n",
        "\n",
        "#use stratified k fold to split into training and validation set\n",
        "skf = StratifiedKFold(n_splits=10, random_state=1)\n",
        "skf.get_n_splits(X_train, y_train)\n",
        "print(skf)  \n",
        "\n",
        "mod_1=MLPMiniBatch(costf=\"q\", phif=\"sigmoid\", n_layer=3)\n",
        "mod_2=MLPMiniBatch(costf=\"q\", phif=\"linear\", n_layer=3)\n",
        "mod_3=MLPMiniBatch(costf=\"c\", phif=\"sigmoid\", n_layer=3)\n",
        "mod_4=MLPMiniBatch(costf=\"c\", phif=\"linear\", n_layer=3)\n",
        "\n",
        "models = [mod_1, mod_2, mod_3, mod_4]\n",
        "score_mat=[]\n",
        "\n",
        "for train_index, test_index in skf.split(X_train, y_train):\n",
        "    X_trainnew, X_valid = X_train[train_index], X_train[test_index]\n",
        "    y_trainnew, y_valid = y_train[train_index], y_train[test_index]\n",
        "    #need to fit\n",
        "    score=[]\n",
        "    for i in range(0,4):\n",
        "      models[i].fit(X_trainnew,y_trainnew)\n",
        "    #need to predict\n",
        "      yhat_i=models[i].predict(X_valid)\n",
        "    #evaluate model  \n",
        "      score_i=confusion_matrix(y_valid,yhat_i)\n",
        "      cost_i=score_i * cost_mat\n",
        "      score.append(np.sum(cost_i))\n",
        "    #keep track of overall costs for all models per fold\n",
        "    score_mat.append(score)\n"
      ],
      "execution_count": 0,
      "outputs": [
        {
          "output_type": "stream",
          "text": [
            "StratifiedKFold(n_splits=10, random_state=1, shuffle=False)\n"
          ],
          "name": "stdout"
        }
      ]
    },
    {
      "metadata": {
        "id": "hSdZj2fC710j",
        "colab_type": "code",
        "outputId": "24532575-6f82-4ce3-c4fa-f8a5a714f7fb",
        "colab": {
          "base_uri": "https://localhost:8080/",
          "height": 51
        }
      },
      "cell_type": "code",
      "source": [
        "print(X_trainnew.shape)\n",
        "print(X_valid.shape)"
      ],
      "execution_count": 0,
      "outputs": [
        {
          "output_type": "stream",
          "text": [
            "(2376, 13)\n",
            "(263, 13)\n"
          ],
          "name": "stdout"
        }
      ]
    },
    {
      "metadata": {
        "id": "CoPbQuOs3S7R",
        "colab_type": "code",
        "outputId": "d2870597-2ab4-403d-fbd2-64e9741a33b9",
        "colab": {
          "base_uri": "https://localhost:8080/",
          "height": 54
        }
      },
      "cell_type": "code",
      "source": [
        "print(score_mat)"
      ],
      "execution_count": 0,
      "outputs": [
        {
          "output_type": "stream",
          "text": [
            "[[34217, 31014, 33607, 33603], [30829, 35835, 36307, 31730], [33338, 33472, 33373, 30129], [30185, 35056, 31995, 35257], [34453, 34415, 32050, 30509], [30738, 33705, 31970, 34122], [36108, 31965, 36409, 35656], [31436, 33140, 33109, 32774], [30018, 31085, 30651, 35558], [31154, 32020, 34157, 34354]]\n"
          ],
          "name": "stdout"
        }
      ]
    },
    {
      "metadata": {
        "id": "prYz9zbJw0oE",
        "colab_type": "code",
        "outputId": "4ab03ef8-2acf-4b3c-a14f-c53e907455e3",
        "colab": {
          "base_uri": "https://localhost:8080/",
          "height": 187
        }
      },
      "cell_type": "code",
      "source": [
        "#re-format overall costs into a matrix\n",
        "scores=np.zeros(shape=(10,4))\n",
        "for k in range(0,10):\n",
        "  for m in range(0,4):\n",
        "    scores[k,m]=score_mat[k][m]\n",
        "print(scores)"
      ],
      "execution_count": 0,
      "outputs": [
        {
          "output_type": "stream",
          "text": [
            "[[34217. 31014. 33607. 33603.]\n",
            " [30829. 35835. 36307. 31730.]\n",
            " [33338. 33472. 33373. 30129.]\n",
            " [30185. 35056. 31995. 35257.]\n",
            " [34453. 34415. 32050. 30509.]\n",
            " [30738. 33705. 31970. 34122.]\n",
            " [36108. 31965. 36409. 35656.]\n",
            " [31436. 33140. 33109. 32774.]\n",
            " [30018. 31085. 30651. 35558.]\n",
            " [31154. 32020. 34157. 34354.]]\n"
          ],
          "name": "stdout"
        }
      ]
    },
    {
      "metadata": {
        "id": "mzb5GmTy40XB",
        "colab_type": "code",
        "outputId": "28e462d3-1f4b-47a1-8be2-bbbc6e0497e4",
        "colab": {
          "base_uri": "https://localhost:8080/",
          "height": 34
        }
      },
      "cell_type": "code",
      "source": [
        "#compare mean cost per model\n",
        "np.mean(scores,0)"
      ],
      "execution_count": 0,
      "outputs": [
        {
          "output_type": "execute_result",
          "data": {
            "text/plain": [
              "array([32247.6, 33170.7, 33362.8, 33369.2])"
            ]
          },
          "metadata": {
            "tags": []
          },
          "execution_count": 97
        }
      ]
    },
    {
      "metadata": {
        "id": "U4_wwRuQ6RZw",
        "colab_type": "code",
        "outputId": "4ca6cb19-ee65-4af0-e2c2-c305f093a488",
        "colab": {
          "base_uri": "https://localhost:8080/",
          "height": 376
        }
      },
      "cell_type": "code",
      "source": [
        "#visualize difference in performance\n",
        "plt.boxplot(scores)\n",
        "plt.xticks([1, 2, 3, 4], ['q & sigmoid', 'q & linear', 'c & sigmoid','c & linear'])\n",
        "plt.title(\"Distribution of Cost vs. Parameters\")\n",
        "plt.ylabel(\"Overall Cost\")\n",
        "plt.xlabel(\"Models\")\n",
        "plt.show()"
      ],
      "execution_count": 0,
      "outputs": [
        {
          "output_type": "display_data",
          "data": {
            "image/png": "[encoded data removed]",
            "text/plain": [
              "<matplotlib.figure.Figure at 0x7f2872788f60>"
            ]
          },
          "metadata": {
            "tags": []
          }
        }
      ]
    },
    {
      "metadata": {
        "id": "fjZkp74xgRGn",
        "colab_type": "text"
      },
      "cell_type": "markdown",
      "source": [
        "To begin tuning our parameters, we used stratified 10-fold cross validation and performed a grid search with all combinations of cost and activation functions used in the models. Within each fold, we used the confusion matrix and our chosen cost matrix to evaluate the performance of the models. The boxplot above shows similar performance for all the models. The lowest mean cost of ~32,000 was attained with the quadratic cost function and sigmoid activation function.  \n",
        "\n",
        "As stated earlier, we can estimate that the algorithm would still be useful with about a 10% misclassification rate for houses that are on the borderline between price ranges. With 263 observations in our validation set, this means we could incorrectly classify at most 26 properties. We do not want any these errors to occur in the upper right or lower left corners of the confusion matrix. If all errors occured at a position between the lowest and middle price range, overall cost would be (26 x 33 = 858). If all errors occured at a position between the middle and highest price range, overall cost would be (26 x 67 = 1,742). When evaluating our model on the validation dataset, any overall cost below ~1700 would be acceptable. However, we see that all models perform with costs between 30,000 and 37,000. "
      ]
    },
    {
      "metadata": {
        "id": "oRJ5LouwXyP2",
        "colab_type": "code",
        "outputId": "7332e0ec-0a45-4c43-d3ec-f28678c7c23d",
        "colab": {
          "base_uri": "https://localhost:8080/",
          "height": 34
        }
      },
      "cell_type": "code",
      "source": [
        "#we use StratifiedKFold cross validation to tune the parameter n_layer\n",
        "from sklearn.metrics import confusion_matrix\n",
        "from sklearn.model_selection import StratifiedKFold, StratifiedShuffleSplit\n",
        "skf = StratifiedKFold(n_splits=10, random_state=1)\n",
        "skf.get_n_splits(X_train, y_train)\n",
        "layer=range(2,11,1)\n",
        "print(skf) \n",
        "\n",
        "models=[]\n",
        "for i in range(len(layer)):\n",
        "  mod = MLPMiniBatch(phif=\"sigmoid\",costf=\"q\", n_layer=layer[i])\n",
        "  models.append(mod)\n",
        "\n",
        "\n",
        "score_mat=[]\n",
        "for train_index, test_index in skf.split(X_train, y_train):\n",
        "    X_trainnew, X_valid = X_train[train_index], X_train[test_index]\n",
        "    y_trainnew, y_valid = y_train[train_index], y_train[test_index]\n",
        "    #need to fit\n",
        "    score=[]\n",
        "    for i in range(0,9):\n",
        "      \n",
        "      models[i].fit(X_trainnew,y_trainnew)\n",
        "\n",
        "    #need to predict\n",
        "      yhat_i=models[i].predict(X_valid)\n",
        "    #evaluate model  \n",
        "      score_i=confusion_matrix(y_valid, yhat_i)\n",
        "      cost_i=score_i * cost_mat\n",
        "      score.append(np.sum(cost_i))\n",
        "    #keep track of overall costs per # of layers\n",
        "    score_mat.append(score)"
      ],
      "execution_count": 0,
      "outputs": [
        {
          "output_type": "stream",
          "text": [
            "StratifiedKFold(n_splits=10, random_state=1, shuffle=False)\n"
          ],
          "name": "stdout"
        }
      ]
    },
    {
      "metadata": {
        "id": "XGQmBQcfcrip",
        "colab_type": "code",
        "outputId": "0cd09002-c007-4b73-a1a5-0e5effb11af0",
        "colab": {
          "base_uri": "https://localhost:8080/",
          "height": 187
        }
      },
      "cell_type": "code",
      "source": [
        "#re-format overall costs into a matrix\n",
        "scores_layer=np.zeros(shape=(10,9))\n",
        "for k in range(0,10):\n",
        "  for m in range(0,9):\n",
        "    scores_layer[k,m]=score_mat[k][m]\n",
        "print(scores_layer)"
      ],
      "execution_count": 0,
      "outputs": [
        {
          "output_type": "stream",
          "text": [
            "[[35071. 34183. 34353. 30742. 31111. 30608. 33423. 26500. 29305.]\n",
            " [37030. 36674. 31463. 31530. 37077. 37345. 37823. 29734. 26400.]\n",
            " [31481. 33635. 33472. 31069. 33674. 34541. 29700. 34222. 26400.]\n",
            " [35849. 30217. 35733. 30647. 35800. 32192. 38929. 27720. 28809.]\n",
            " [30925. 30383. 34388. 30715. 31584. 35392. 36373. 29640. 33340.]\n",
            " [34961. 33873. 34106. 34239. 34872. 34937. 35498. 36450. 31581.]\n",
            " [30871. 36541. 36677. 37012. 32102. 37244. 28281. 29545. 28017.]\n",
            " [30748. 31404. 31733. 31732. 34042. 33995. 32077. 29898. 29766.]\n",
            " [35446. 34688. 34924. 34993. 35392. 32353. 29575. 34304. 26300.]\n",
            " [35013. 31420. 31384. 31952. 35093. 34747. 35447. 26300. 26300.]]\n"
          ],
          "name": "stdout"
        }
      ]
    },
    {
      "metadata": {
        "id": "PhoRURcdcyRq",
        "colab_type": "code",
        "outputId": "4e814bbc-6f08-44f1-fe42-ae1b8a6cd107",
        "colab": {
          "base_uri": "https://localhost:8080/",
          "height": 51
        }
      },
      "cell_type": "code",
      "source": [
        "np.mean(scores_layer,0)"
      ],
      "execution_count": 0,
      "outputs": [
        {
          "output_type": "execute_result",
          "data": {
            "text/plain": [
              "array([33739.5, 33301.8, 33823.3, 32463.1, 34074.7, 34335.4, 33712.6,\n",
              "       30431.3, 28621.8])"
            ]
          },
          "metadata": {
            "tags": []
          },
          "execution_count": 23
        }
      ]
    },
    {
      "metadata": {
        "id": "kAHVFGB4cJDn",
        "colab_type": "code",
        "outputId": "63438df7-c091-4170-ac15-fde260912939",
        "colab": {
          "base_uri": "https://localhost:8080/",
          "height": 362
        }
      },
      "cell_type": "code",
      "source": [
        "#visualize performance for different number of layers\n",
        "plt.boxplot(scores_layer)\n",
        "plt.xticks(range(1,10), range(2,11))\n",
        "plt.title(\"Distribution of Cost vs. # of Layers\")\n",
        "plt.ylabel(\"Overall Cost\")\n",
        "plt.show()"
      ],
      "execution_count": 0,
      "outputs": [
        {
          "output_type": "display_data",
          "data": {
            "image/png": "[encoded data removed]",
            "text/plain": [
              "<matplotlib.figure.Figure at 0x7f9c077cc0f0>"
            ]
          },
          "metadata": {
            "tags": []
          }
        }
      ]
    },
    {
      "metadata": {
        "id": "x0L5sp2YoNW1",
        "colab_type": "text"
      },
      "cell_type": "markdown",
      "source": [
        "We repeated the same process to tune the number of layers to use in our model with quadratic cost function and sigmoid activation function. We believe that using 5 layers is the best choice because it has the lowest mean overall cost for layers 1-8. The mean overall cost was 32,463 which was third lowest cost for all models tested. Although the overall cost was the lowest for 10 layers, we thought that using this many layers might lead to overtraining the model and could also cause issues with either vanishing or exploding gradients. "
      ]
    },
    {
      "metadata": {
        "id": "w2OwBekkjsxf",
        "colab_type": "text"
      },
      "cell_type": "markdown",
      "source": [
        "After tuning our parameters, we believe that the \"best\" combination is to use a neural network with sigmoid activation function, quadratic cost function, and 5 total layers."
      ]
    },
    {
      "metadata": {
        "id": "IxE3qMgqORc6",
        "colab_type": "code",
        "outputId": "bd1b3bec-25b3-47ab-a3d9-3d808aa409d4",
        "colab": {
          "base_uri": "https://localhost:8080/",
          "height": 71
        }
      },
      "cell_type": "code",
      "source": [
        "#Evaluate final model on test set\n",
        "\n",
        "nn = MLPMiniBatch(phif=\"sigmoid\",costf=\"q\", n_layer=5)\n",
        "nn.fit(X_train, y_train, print_progress=50)\n",
        "yhat=nn.predict(X_test)\n",
        "\n",
        "score=confusion_matrix(y_test,yhat)\n",
        "score"
      ],
      "execution_count": 0,
      "outputs": [
        {
          "output_type": "stream",
          "text": [
            "Epoch: 500/500"
          ],
          "name": "stderr"
        },
        {
          "output_type": "execute_result",
          "data": {
            "text/plain": [
              "array([[41, 36,  0],\n",
              "       [15, 83, 40],\n",
              "       [ 0, 15, 61]])"
            ]
          },
          "metadata": {
            "tags": []
          },
          "execution_count": 62
        }
      ]
    },
    {
      "metadata": {
        "id": "GY3k6j_MPpKb",
        "colab_type": "code",
        "outputId": "a204f5fc-dbe7-4a05-94e9-d2d9b2c70291",
        "colab": {
          "base_uri": "https://localhost:8080/",
          "height": 35
        }
      },
      "cell_type": "code",
      "source": [
        "cost=score * cost_mat\n",
        "np.sum(cost)"
      ],
      "execution_count": 0,
      "outputs": [
        {
          "output_type": "execute_result",
          "data": {
            "text/plain": [
              "37915"
            ]
          },
          "metadata": {
            "tags": []
          },
          "execution_count": 58
        }
      ]
    },
    {
      "metadata": {
        "id": "YTeVQixJRADd",
        "colab_type": "text"
      },
      "cell_type": "markdown",
      "source": [
        "Our final model was successful in not misclassifying any properties between lowest and highest price range. The testing data contains 291 observations. If allowing for 10% misclassification rate, we could at most misclassify 29 houses. The highest acceptable cost would be (29 x 67) 1,943. The cost of misclassification for the final model was 37,915, so, we would not recommend this model for deployment since it's not likely to be useful for realtors. "
      ]
    },
    {
      "metadata": {
        "id": "DWM5zdMdoLli",
        "colab_type": "text"
      },
      "cell_type": "markdown",
      "source": [
        "**[10 points] Visualize the magnitude of the gradients in each layer of the neural network versus the training iteration. Do the gradients stay consistent in each layer?**\n",
        "\n",
        "---\n",
        "\n"
      ]
    },
    {
      "metadata": {
        "id": "jdKKOm6cS34w",
        "colab_type": "code",
        "colab": {}
      },
      "cell_type": "code",
      "source": [
        "#save magnitude of gradients\n",
        "grad=nn.grad_w_"
      ],
      "execution_count": 0,
      "outputs": []
    },
    {
      "metadata": {
        "id": "sqeq3MGvTDhg",
        "colab_type": "code",
        "outputId": "2314240f-118f-4bd6-f4f0-7c79658ae7cf",
        "colab": {
          "base_uri": "https://localhost:8080/",
          "height": 361
        }
      },
      "cell_type": "code",
      "source": [
        "#visualize magnitude of gradients\n",
        "ax = plt.subplot(1,1,1)\n",
        "for i in range(len(grad[0,:])):\n",
        "  plt.plot(abs(grad[10:,i]), label=(\"w\",i+1))\n",
        "plt.legend()\n",
        "plt.ylabel('Average gradient magnitude')\n",
        "plt.xlabel('Iteration')\n",
        "plt.show()"
      ],
      "execution_count": 0,
      "outputs": [
        {
          "output_type": "display_data",
          "data": {
            "image/png": "[encoded data removed]",
            "text/plain": [
              "<matplotlib.figure.Figure at 0x7f7dd06e4a20>"
            ]
          },
          "metadata": {
            "tags": []
          }
        }
      ]
    },
    {
      "metadata": {
        "id": "w43hFWI9omRg",
        "colab_type": "text"
      },
      "cell_type": "markdown",
      "source": [
        "No, the gradients do not stay consistent in each layer. We visualized the gradients for 5 layers, and we see that they are all have different magnitudes. The gradients begin to stabilize around 200 iterations. It appears that after 300 iterations, the lower weights (W1 and W2) are being updated by the higher order weights."
      ]
    },
    {
      "metadata": {
        "id": "7Xp0hSctngnJ",
        "colab_type": "text"
      },
      "cell_type": "markdown",
      "source": [
        "# Exceptional Work"
      ]
    },
    {
      "metadata": {
        "id": "rlp9pwUWoPWE",
        "colab_type": "text"
      },
      "cell_type": "markdown",
      "source": [
        "You have free reign to provide additional analyses.\n",
        "One idea (required for 7000 level students):  Implement two more phi functions: ReLU and SiLU (also called Swish). Compare their performance to the linear and sigmoid phi functions. "
      ]
    },
    {
      "metadata": {
        "id": "sjH8JNNkt4bY",
        "colab_type": "code",
        "colab": {}
      },
      "cell_type": "code",
      "source": [
        "##adapted for using relu and silu\n",
        "import numpy as np\n",
        "from scipy.special import expit\n",
        "import pandas as pd\n",
        "import sys\n",
        "from sklearn.metrics import accuracy_score\n",
        "\n",
        "\n",
        "#phif can be \"sigmoid\" , \"linear\", \"relu\", or \"silu\"\n",
        "#costf can be \"q\" for quadratic or \"c\" for cross entropy\n",
        "class MultLayerPerceptronBase2(object):\n",
        "    def __init__(self, n_hidden=30,\n",
        "                 C=0.0, epochs=500, eta=0.001, phif=\"sigmoid\", costf=\"q\",n_layer=2,random_state=None):\n",
        "        np.random.seed(random_state)\n",
        "        self.n_hidden = n_hidden\n",
        "        self.l2_C = C\n",
        "        self.epochs = epochs\n",
        "        self.eta = eta\n",
        "        self.phif = phif\n",
        "        self.costf = costf\n",
        "        self.n_layer = n_layer\n",
        "        \n",
        "    @staticmethod\n",
        "    def _encode_labels(y):\n",
        "        \"\"\"Encode labels into one-hot representation\"\"\"\n",
        "        onehot = pd.get_dummies(y).values.T\n",
        "            \n",
        "        return onehot\n",
        "    \n",
        "    \n",
        "    def _initialize_weights(self):\n",
        "        \"\"\"Initialize weights with small random numbers.\"\"\"\n",
        "        W=[]\n",
        "        if self.phif != (\"relu\" or \"silu\"):\n",
        "          W1_num_elems = (self.n_features_ + 1)*self.n_hidden\n",
        "          W1 = np.random.uniform(-1.0, 1.0,size=W1_num_elems)\n",
        "          W1 = W1.reshape(self.n_hidden, self.n_features_ + 1) # reshape to be W\n",
        "          W.append(W1)\n",
        "        \n",
        "          for i in range(1,self.n_layer-1):          \n",
        "            W_num_elems = (self.n_hidden + 1)*self.n_hidden\n",
        "            Wi = np.random.uniform(-1.0, 1.0,size=W_num_elems)\n",
        "            Wi = Wi.reshape(self.n_hidden, self.n_hidden + 1) # reshape to be W\n",
        "            W.append(Wi)          \n",
        "        \n",
        "          WOUT_num_elems = (self.n_hidden + 1)*self.n_output_\n",
        "          WOUT = np.random.uniform(-1.0, 1.0, size=WOUT_num_elems)\n",
        "          WOUT = WOUT.reshape(self.n_output_, self.n_hidden + 1)\n",
        "          W.append(WOUT)\n",
        "        #initialize different weights for relu and silu        \n",
        "        else:\n",
        "          init_bound = np.sqrt(6. / (self.n_hidden + self.n_features_ + 1))\n",
        "          W1 = np.random.uniform(-init_bound, init_bound,(self.n_hidden, self.n_features_ + 1))\n",
        "          W1[:,:1] = 0\n",
        "          W.append(W1)\n",
        "          \n",
        "          for i in range(1,self.n_layer-1):          \n",
        "            init_bound = np.sqrt(6. / (self.n_hidden + self.n_hidden +1))\n",
        "            Wi = np.random.uniform(-init_bound, init_bound,(self.n_hidden, self.n_hidden+ 1))\n",
        "            Wi[:,:1] = 0\n",
        "            W.append(Wi)\n",
        "          \n",
        "          init_bound = np.sqrt(0.5 / (self.n_output_ + self.n_hidden + 1))\n",
        "          WOUT = np.random.uniform(-init_bound, init_bound, (self.n_output_, self.n_hidden +1))\n",
        "          WOUT[:,:1] = 0\n",
        "          W.append(WOUT)\n",
        "          \n",
        "        return W\n",
        "    \n",
        "    #define custom phi function  \n",
        "    def _phi(self,z):\n",
        "        if self.phif == \"linear\":\n",
        "          return(z)\n",
        "        elif self.phif == \"relu\":\n",
        "          return np.maximum(0,z.copy())\n",
        "        elif self.phif == \"silu\":\n",
        "          return (z * expit(z))\n",
        "        return expit(z)   #default is the sigmoid\n",
        "      \n",
        "    @staticmethod\n",
        "    def _sigmoid(z):\n",
        "        \"\"\"Use scipy.special.expit to avoid overflow\"\"\"\n",
        "        # 1.0 / (1.0 + np.ex\n",
        "        #p(-z))\n",
        "        return expit(z)\n",
        "    \n",
        "    @staticmethod\n",
        "    def _add_bias_unit(X, how='column'):\n",
        "        \"\"\"Add bias unit (column or row of 1s) to array at index 0\"\"\"\n",
        "        if how == 'column':\n",
        "            ones = np.ones((X.shape[0], 1))\n",
        "            X_new = np.hstack((ones, X))\n",
        "        elif how == 'row':\n",
        "            ones = np.ones((1, X.shape[1]))\n",
        "            X_new = np.vstack((ones, X))\n",
        "        return X_new\n",
        "    \n",
        "    @staticmethod\n",
        "    def _L2_reg(lambda_, W):\n",
        "        \"\"\"Compute L2-regularization cost\"\"\"\n",
        "        # only compute for non-bias terms\n",
        "        s=[]\n",
        "        for i in range(0,len(W)):\n",
        "          s.append(np.mean(W[i][:, 1:] ** 2))\n",
        "          result= (lambda_/2.0) * np.sqrt(np.sum(s))\n",
        "        return result\n",
        "    \n",
        "    #define custom cost function. Default is the quadratic\n",
        "    def _cost(self,AOUT,Y_enc,W):\n",
        "        '''Get the objective function value'''\n",
        "        #quadratic\n",
        "        if self.costf == \"q\":\n",
        "          cost = np.mean((Y_enc-AOUT)**2)\n",
        "        #cross entropy\n",
        "        elif self.costf == \"c\":\n",
        "          cost = -np.mean(np.nan_to_num((Y_enc*np.log(AOUT)+(1-Y_enc)*np.log(1-AOUT))))\n",
        "        \n",
        "        L2_term = self._L2_reg(self.l2_C, W)\n",
        "        return cost + L2_term\n",
        "      \n",
        "      \n",
        "    \n",
        "    def _feedforward(self, X, W):\n",
        "        \"\"\"Compute feedforward step\n",
        "        \"\"\"\n",
        "        A=[]\n",
        "        Z=[]\n",
        "\n",
        "        \n",
        "        A0 = self._add_bias_unit(X, how='column')\n",
        "        A0 = A0.T\n",
        "      \n",
        "        A.append(A0)\n",
        "        Z0 = W[0] @ A0\n",
        "        Z.append(Z0)\n",
        "        \n",
        "        A1 = self._phi(Z0)   #customized phi function only for the first layer\n",
        "        A1 = self._add_bias_unit(A1, how='row')\n",
        "        Z1 = W[1] @ A1\n",
        "        A.append(A1)\n",
        "        Z.append(Z1)\n",
        "        \n",
        "        for i in range(2,self.n_layer):\n",
        "          Ai = self._sigmoid(Z[-1])          \n",
        "          Ai = self._add_bias_unit(Ai, how='row')\n",
        "          Zi = W[i] @ Ai\n",
        "          A.append(Ai)\n",
        "          Z.append(Zi)\n",
        "\n",
        "        AOUT = self._sigmoid(Z[-1])\n",
        "        A.append(AOUT)\n",
        "       \n",
        "        return A, Z, AOUT\n",
        "    \n",
        "    def _get_gradient(self, A, Z, AOUT, Y_enc, W):\n",
        "        \"\"\" Compute gradient step using backpropagation.\n",
        "        \"\"\"\n",
        "        # vectorized backpropagation\n",
        "        V=[0]*self.n_layer\n",
        "        if self.costf == \"q\":\n",
        "          V[-1] = -2*(Y_enc-AOUT)*AOUT*(1-AOUT)  # last layer sensitivity\n",
        "        elif self.costf == \"c\":\n",
        "          V[-1] = (AOUT-Y_enc)\n",
        "          \n",
        "        #fill in all other sensitivities  \n",
        "        V[-2]=A[-2]*(1-A[-2])*(W[-1].T @ V[-1])\n",
        "        for i in range(self.n_layer-3,-1,-1):\n",
        "          V[i] = A[i+1]*(1-A[i+1])*(W[i+1].T @ V[i+1][1:,:])\n",
        "        \n",
        "        #first sensitivity will be different depending on phi function used\n",
        "        if self.phif == \"relu\":\n",
        "          Z_bias= self._add_bias_unit(Z[0], how='row')\n",
        "          if self.n_layer>2:\n",
        "            V[0] = (W[1].T @ V[1][1:,:])\n",
        "          else:\n",
        "            V[0]=(W[1].T @ V[1])\n",
        "          V[0][Z_bias<=0] = 0\n",
        "            \n",
        "            \n",
        "        elif self.phif == \"silu\":\n",
        "          if self.n_layer>2:\n",
        "            V[0] = (A[1]+(expit(self._add_bias_unit(Z[1], how='row'))*(1-A[1])))*(W[1].T @ V[1][1:,:])\n",
        "          #else:\n",
        "            #V[0] = (A[1]+(expit(self._add_bias_unit(Z[1], how='row'))*(1-A[1])))*(W[1].T @ V[1])\n",
        "          \n",
        "        elif self.phif == \"linear\":\n",
        "          if self.n_layer >2:\n",
        "            V[0]=(W[1].T @ V[1][1:,:])\n",
        "          else:\n",
        "            V[0]=(W[1].T @ V[1])\n",
        "          #if equals 2 then don't take off bias\n",
        "            \n",
        "\n",
        "        \n",
        "        grads = [0]*len(V)\n",
        "        grads[0] = V[0][1:,:] @ A[0].T\n",
        "        for i in range(1,len(V)-1):\n",
        "          grads[i] = V[i][1:,:] @ A[i].T\n",
        "        grads[-1] = V[-1] @ A[-2].T\n",
        "\n",
        "        for k in range(0,self.n_layer):\n",
        "          grads[k][:, 1:] += W[k][:, 1:] * self.l2_C \n",
        "        \n",
        "        return grads\n",
        "    \n",
        "    def predict(self, X):\n",
        "        \"\"\"Predict class labels\"\"\"\n",
        "        _, _, AOUT = self._feedforward(X, self.W)\n",
        "        y_pred = np.argmax(AOUT, axis=0)\n",
        "        return y_pred"
      ],
      "execution_count": 0,
      "outputs": []
    },
    {
      "metadata": {
        "id": "QlYmb57SyCln",
        "colab_type": "code",
        "colab": {}
      },
      "cell_type": "code",
      "source": [
        "class MLPMiniBatch2(MultLayerPerceptronBase2):\n",
        "    def __init__(self, alpha=0.0, decrease_const=0.0, shuffle=True, \n",
        "                 minibatches=1, **kwds):        \n",
        "        # need to add to the original initializer \n",
        "        self.alpha = alpha\n",
        "        self.decrease_const = decrease_const\n",
        "        self.shuffle = shuffle\n",
        "        self.minibatches = minibatches\n",
        "        # but keep other keywords\n",
        "        super().__init__(**kwds)\n",
        "        \n",
        "    \n",
        "    def fit(self, X, y, print_progress=False):\n",
        "        \"\"\" Learn weights from training data. With mini-batch\"\"\"\n",
        "        X_data, y_data = X.copy(), y.copy()\n",
        "        Y_enc = self._encode_labels(y)\n",
        "        \n",
        "        # init weights and setup matrices\n",
        "        self.n_features_ = X_data.shape[1]\n",
        "        self.n_output_ = Y_enc.shape[0]\n",
        "        self.W = self._initialize_weights()\n",
        "\n",
        "        delta_W_prev=[]\n",
        "        for j in range(0,self.n_layer):\n",
        "          delta_Wj_prev = np.zeros(self.W[j].shape)\n",
        "          delta_W_prev.append(delta_Wj_prev)\n",
        "\n",
        "        self.cost_ = []\n",
        "        self.score_ = []\n",
        "        # get starting acc\n",
        "        self.score_.append(accuracy_score(y_data,self.predict(X_data)))\n",
        "        for i in range(self.epochs):\n",
        "\n",
        "            # adaptive learning rate\n",
        "            self.eta /= (1 + self.decrease_const*i)\n",
        "\n",
        "            if print_progress>0 and (i+1)%print_progress==0:\n",
        "                sys.stderr.write('\\rEpoch: %d/%d' % (i+1, self.epochs))\n",
        "                sys.stderr.flush()\n",
        "\n",
        "            if self.shuffle:\n",
        "                idx_shuffle = np.random.permutation(y_data.shape[0])\n",
        "                X_data, Y_enc, y_data = X_data[idx_shuffle], Y_enc[:, idx_shuffle], y_data[idx_shuffle]\n",
        "\n",
        "            mini = np.array_split(range(y_data.shape[0]), self.minibatches)\n",
        "            mini_cost = []\n",
        "            for idx in mini:\n",
        "\n",
        "                # feedforward\n",
        "                A, Z, AOUT = self._feedforward(X_data[idx],\n",
        "                                         self.W)\n",
        "                \n",
        "                cost = self._cost(AOUT,Y_enc[:, idx],self.W) \n",
        "                mini_cost.append(cost) # this appends cost of mini-batch only\n",
        "\n",
        "                # compute gradient via backpropagation\n",
        "                grads = self._get_gradient(A,Z,AOUT,\n",
        "                                          Y_enc=Y_enc[:, idx],\n",
        "                                          W=self.W)\n",
        "\n",
        "                # momentum calculations\n",
        "                delta_W=[]\n",
        "                for k in range(0,self.n_layer):\n",
        "                  delta_Wk = self.eta * grads[k]\n",
        "                  delta_W.append(delta_Wk)\n",
        "                  self.W[k] -= (delta_W[k] + (self.alpha * delta_W_prev[k]))\n",
        "                delta_W_prev = delta_W\n",
        "\n",
        "            self.cost_.append(mini_cost)\n",
        "            self.score_.append(accuracy_score(y_data,self.predict(X_data)))\n",
        "            \n",
        "        return self\n",
        "    "
      ],
      "execution_count": 0,
      "outputs": []
    },
    {
      "metadata": {
        "id": "gIb6S2w_yCxT",
        "colab_type": "code",
        "colab": {}
      },
      "cell_type": "code",
      "source": [
        "params = dict(n_hidden=50, \n",
        "              C=0.1, # tradeoff L2 regularizer\n",
        "              epochs=200, # iterations\n",
        "              eta=0.001,  # learning rate\n",
        "              n_layer=5,\n",
        "              random_state=1)\n",
        "\n"
      ],
      "execution_count": 0,
      "outputs": []
    },
    {
      "metadata": {
        "id": "3ho8xM6PzMTu",
        "colab_type": "code",
        "outputId": "f85d7428-48f8-41a3-a436-56a480631750",
        "colab": {
          "base_uri": "https://localhost:8080/",
          "height": 68
        }
      },
      "cell_type": "code",
      "source": [
        "from sklearn.metrics import confusion_matrix\n",
        "#silu\n",
        "silu = MLPMiniBatch2(phif='silu', **params)\n",
        "silu.fit(X_train, y_train, print_progress=50)\n",
        "yhat = silu.predict(X_test)\n",
        "sorce_silu=confusion_matrix(y_test, yhat)\n",
        "sorce_silu"
      ],
      "execution_count": 0,
      "outputs": [
        {
          "output_type": "stream",
          "text": [
            "Epoch: 200/200"
          ],
          "name": "stderr"
        },
        {
          "output_type": "execute_result",
          "data": {
            "text/plain": [
              "array([[60, 17,  0],\n",
              "       [38, 96,  4],\n",
              "       [ 2, 72,  2]])"
            ]
          },
          "metadata": {
            "tags": []
          },
          "execution_count": 28
        }
      ]
    },
    {
      "metadata": {
        "id": "8Y7UFHhzHanH",
        "colab_type": "code",
        "outputId": "a8142a24-22e7-4952-a959-f502896ef9e7",
        "colab": {
          "base_uri": "https://localhost:8080/",
          "height": 68
        }
      },
      "cell_type": "code",
      "source": [
        "#relu\n",
        "relu = MLPMiniBatch2(phif='relu', **params)\n",
        "relu.fit(X_train, y_train, print_progress=50)\n",
        "yhat = relu.predict(X_test)\n",
        "sorce_relu=confusion_matrix(y_test, yhat)\n",
        "sorce_relu"
      ],
      "execution_count": 0,
      "outputs": [
        {
          "output_type": "stream",
          "text": [
            "Epoch: 200/200"
          ],
          "name": "stderr"
        },
        {
          "output_type": "execute_result",
          "data": {
            "text/plain": [
              "array([[  0,  77,   0],\n",
              "       [  0, 138,   0],\n",
              "       [  0,  76,   0]])"
            ]
          },
          "metadata": {
            "tags": []
          },
          "execution_count": 29
        }
      ]
    },
    {
      "metadata": {
        "id": "wJoMJ-6rZ-QI",
        "colab_type": "code",
        "outputId": "dc7b71ba-2716-442c-9fbd-2362bed7bde1",
        "colab": {
          "base_uri": "https://localhost:8080/",
          "height": 35
        }
      },
      "cell_type": "code",
      "source": [
        "#using cv to compare performance of relu and silu with the sigmoid and linear functions\n",
        "from sklearn.metrics import confusion_matrix\n",
        "from sklearn.model_selection import StratifiedKFold, StratifiedShuffleSplit\n",
        "skf = StratifiedKFold(n_splits=10, random_state=1)\n",
        "skf.get_n_splits(X, y)\n",
        "\n",
        "print(skf)  \n",
        "phi_1=MLPMiniBatch2(costf=\"q\", phif=\"sigmoid\", **params)\n",
        "phi_2=MLPMiniBatch2(costf=\"q\", phif=\"linear\", **params)\n",
        "phi_3=MLPMiniBatch2(costf=\"q\", phif=\"relu\", **params)\n",
        "phi_4=MLPMiniBatch2(costf=\"q\", phif=\"silu\", **params)\n",
        "\n",
        "phis = [phi_1, phi_2, phi_3, phi_4]\n",
        "phi_score_mat=[]\n",
        "for train_index, test_index in skf.split(X, y):\n",
        "    X_train2, X_test2 = X[train_index], X[test_index]\n",
        "    y_train2, y_test2 = y[train_index], y[test_index]\n",
        "    #need to fit\n",
        "    phi_score=[]\n",
        "    for i in range(0,4):\n",
        "      \n",
        "      phis[i].fit(X_train2,y_train2)\n",
        "\n",
        "    #need to predict\n",
        "      yhat_i=phis[i].predict(X_test2)\n",
        "    #evaluate model  \n",
        "      phi_score_i=confusion_matrix(y_test2,yhat_i)\n",
        "      phi_cost_i=phi_score_i * cost_mat\n",
        "      phi_score.append(np.sum(phi_cost_i))\n",
        "    #keep track of the overall costs for each model per fold\n",
        "    phi_score_mat.append(phi_score)\n"
      ],
      "execution_count": 0,
      "outputs": [
        {
          "output_type": "stream",
          "text": [
            "StratifiedKFold(n_splits=10, random_state=1, shuffle=False)\n"
          ],
          "name": "stdout"
        }
      ]
    },
    {
      "metadata": {
        "id": "Aszk4Rrmbxq7",
        "colab_type": "code",
        "outputId": "3a0a18c3-de68-4748-e7ec-f47eb0c412bc",
        "colab": {
          "base_uri": "https://localhost:8080/",
          "height": 197
        }
      },
      "cell_type": "code",
      "source": [
        "#re-format the overall costs into a matrix\n",
        "phi_scores=np.zeros(shape=(10,4))\n",
        "for k in range(0,10):\n",
        "  for m in range(0,4):\n",
        "    phi_scores[k,m]=phi_score_mat[k][m]\n",
        "print(phi_scores)"
      ],
      "execution_count": 0,
      "outputs": [
        {
          "output_type": "stream",
          "text": [
            "[[32371. 32027. 38989. 33273.]\n",
            " [33592. 41280. 32756. 42246.]\n",
            " [43019. 32737. 33300. 33168.]\n",
            " [32912. 40673. 32948. 40676.]\n",
            " [33829. 38071. 37106. 36908.]\n",
            " [41674. 33681. 32951. 40306.]\n",
            " [33003. 40592. 38181. 35616.]\n",
            " [32610. 31192. 39293. 33045.]\n",
            " [31609. 38268. 39127. 33482.]\n",
            " [38309. 38417. 32570. 33037.]]\n"
          ],
          "name": "stdout"
        }
      ]
    },
    {
      "metadata": {
        "id": "1Mexs2aad5m0",
        "colab_type": "code",
        "outputId": "4ef6d9e9-8b5f-4c96-9738-279457b77283",
        "colab": {
          "base_uri": "https://localhost:8080/",
          "height": 35
        }
      },
      "cell_type": "code",
      "source": [
        "np.mean(phi_scores,0)"
      ],
      "execution_count": 0,
      "outputs": [
        {
          "output_type": "execute_result",
          "data": {
            "text/plain": [
              "array([35292.8, 36693.8, 35722.1, 36175.7])"
            ]
          },
          "metadata": {
            "tags": []
          },
          "execution_count": 52
        }
      ]
    },
    {
      "metadata": {
        "id": "wvxcVxbQbZZ9",
        "colab_type": "code",
        "outputId": "7cb90a64-8300-4ba5-b9c4-1e4d0297c40b",
        "colab": {
          "base_uri": "https://localhost:8080/",
          "height": 362
        }
      },
      "cell_type": "code",
      "source": [
        "#visualize performance for different activation functions\n",
        "plt.boxplot(phi_scores)\n",
        "plt.xticks([1, 2, 3, 4], ['sigmoid', 'linear', 'relu','silu'])\n",
        "plt.title(\"Distribution of Cost vs. Phi Function\")\n",
        "plt.ylabel(\"Overall Cost\")\n",
        "plt.show()"
      ],
      "execution_count": 0,
      "outputs": [
        {
          "output_type": "display_data",
          "data": {
            "image/png": "[encoded data removed]",
            "text/plain": [
              "<matplotlib.figure.Figure at 0x7f7dcc502400>"
            ]
          },
          "metadata": {
            "tags": []
          }
        }
      ]
    },
    {
      "metadata": {
        "id": "QSpiNs_Zipxv",
        "colab_type": "text"
      },
      "cell_type": "markdown",
      "source": [
        "The sigmoid activation function achieved the lowest mean misclassification cost in this test set, but it also has high variance. While the relu activation function has the second lowest mean misclassification cost, it has the least variance of all the models. When comparing the relu and silu functions, it appears using relu is slightly better because the variance is smaller. It is difficult to pick a best model here. Regardless, the misclassification costs for all are over the threshold to be useful for realtors, so we would not recommend any of these models for deployment. "
      ]
    }
  ]
}
